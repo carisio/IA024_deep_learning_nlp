{
  "nbformat": 4,
  "nbformat_minor": 0,
  "metadata": {
    "colab": {
      "provenance": []
    },
    "kernelspec": {
      "name": "python3",
      "display_name": "Python 3"
    },
    "language_info": {
      "name": "python"
    }
  },
  "cells": [
    {
      "cell_type": "markdown",
      "source": [
        "# Aula 8 - Visconde\n",
        "\n",
        "Leandro Carísio Fernandes"
      ],
      "metadata": {
        "id": "j2uQfe6cmSnW"
      }
    },
    {
      "cell_type": "markdown",
      "source": [
        "## Setup"
      ],
      "metadata": {
        "id": "AEFrxYppx8IU"
      }
    },
    {
      "cell_type": "code",
      "source": [
        "TOTAL_PERGUNTAS = 150\n",
        "\n",
        "DIR_AULA8 = \"/content/drive/My Drive/IA024A-Redes_Neurais_NLP/Aula8-Visconde/\"\n",
        "\n",
        "# Se True, gera o índice invertido e salva em um pickle. Se False, apenas recupera o pickle do drive\n",
        "GERAR_INDICE_INVERTIDO = False\n",
        "ARQUIVO_INDICE_INVERTIDO = 'iidx_artigos_segmentados' # A função salva em 2 arquivos, então ela mesma coloca a extensão pickle\n",
        "\n",
        "# Se True, gera as respostas. Se False, apenas recupera o pickle do drive\n",
        "AGREGAR_DOCUMENTOS = False\n",
        "ARQUIVO_AGREGADO = 'respostas_obtidas.pickle'"
      ],
      "metadata": {
        "id": "Og_oz517x9NR"
      },
      "execution_count": 1,
      "outputs": []
    },
    {
      "cell_type": "code",
      "source": [
        "from getpass import getpass\n",
        "GROQ_API = getpass(\"API groq\")"
      ],
      "metadata": {
        "colab": {
          "base_uri": "https://localhost:8080/"
        },
        "id": "UXkxxoKBHvQi",
        "outputId": "cc038611-d113-4987-fada-14bba7a3438b"
      },
      "execution_count": 2,
      "outputs": [
        {
          "name": "stdout",
          "output_type": "stream",
          "text": [
            "API groq··········\n"
          ]
        }
      ]
    },
    {
      "cell_type": "code",
      "source": [
        "from google.colab import drive\n",
        "drive.mount('/content/drive')"
      ],
      "metadata": {
        "colab": {
          "base_uri": "https://localhost:8080/"
        },
        "id": "9dWjLYCs12h-",
        "outputId": "40d2b0f3-d334-4d76-87b2-5be6698c6ea5"
      },
      "execution_count": 3,
      "outputs": [
        {
          "output_type": "stream",
          "name": "stdout",
          "text": [
            "Mounted at /content/drive\n"
          ]
        }
      ]
    },
    {
      "cell_type": "code",
      "source": [
        "!pip install Groq"
      ],
      "metadata": {
        "colab": {
          "base_uri": "https://localhost:8080/"
        },
        "id": "N7vbP2W8H0Cm",
        "outputId": "d5e1e8cd-162b-49a9-e596-1bc3304ca484"
      },
      "execution_count": 4,
      "outputs": [
        {
          "output_type": "stream",
          "name": "stdout",
          "text": [
            "Collecting Groq\n",
            "  Downloading groq-0.5.0-py3-none-any.whl (75 kB)\n",
            "\u001b[2K     \u001b[90m━━━━━━━━━━━━━━━━━━━━━━━━━━━━━━━━━━━━━━━━\u001b[0m \u001b[32m75.0/75.0 kB\u001b[0m \u001b[31m1.2 MB/s\u001b[0m eta \u001b[36m0:00:00\u001b[0m\n",
            "\u001b[?25hRequirement already satisfied: anyio<5,>=3.5.0 in /usr/local/lib/python3.10/dist-packages (from Groq) (3.7.1)\n",
            "Requirement already satisfied: distro<2,>=1.7.0 in /usr/lib/python3/dist-packages (from Groq) (1.7.0)\n",
            "Collecting httpx<1,>=0.23.0 (from Groq)\n",
            "  Downloading httpx-0.27.0-py3-none-any.whl (75 kB)\n",
            "\u001b[2K     \u001b[90m━━━━━━━━━━━━━━━━━━━━━━━━━━━━━━━━━━━━━━━━\u001b[0m \u001b[32m75.6/75.6 kB\u001b[0m \u001b[31m3.7 MB/s\u001b[0m eta \u001b[36m0:00:00\u001b[0m\n",
            "\u001b[?25hRequirement already satisfied: pydantic<3,>=1.9.0 in /usr/local/lib/python3.10/dist-packages (from Groq) (2.7.1)\n",
            "Requirement already satisfied: sniffio in /usr/local/lib/python3.10/dist-packages (from Groq) (1.3.1)\n",
            "Requirement already satisfied: typing-extensions<5,>=4.7 in /usr/local/lib/python3.10/dist-packages (from Groq) (4.11.0)\n",
            "Requirement already satisfied: idna>=2.8 in /usr/local/lib/python3.10/dist-packages (from anyio<5,>=3.5.0->Groq) (3.7)\n",
            "Requirement already satisfied: exceptiongroup in /usr/local/lib/python3.10/dist-packages (from anyio<5,>=3.5.0->Groq) (1.2.1)\n",
            "Requirement already satisfied: certifi in /usr/local/lib/python3.10/dist-packages (from httpx<1,>=0.23.0->Groq) (2024.2.2)\n",
            "Collecting httpcore==1.* (from httpx<1,>=0.23.0->Groq)\n",
            "  Downloading httpcore-1.0.5-py3-none-any.whl (77 kB)\n",
            "\u001b[2K     \u001b[90m━━━━━━━━━━━━━━━━━━━━━━━━━━━━━━━━━━━━━━━━\u001b[0m \u001b[32m77.9/77.9 kB\u001b[0m \u001b[31m5.5 MB/s\u001b[0m eta \u001b[36m0:00:00\u001b[0m\n",
            "\u001b[?25hCollecting h11<0.15,>=0.13 (from httpcore==1.*->httpx<1,>=0.23.0->Groq)\n",
            "  Downloading h11-0.14.0-py3-none-any.whl (58 kB)\n",
            "\u001b[2K     \u001b[90m━━━━━━━━━━━━━━━━━━━━━━━━━━━━━━━━━━━━━━━━\u001b[0m \u001b[32m58.3/58.3 kB\u001b[0m \u001b[31m4.1 MB/s\u001b[0m eta \u001b[36m0:00:00\u001b[0m\n",
            "\u001b[?25hRequirement already satisfied: annotated-types>=0.4.0 in /usr/local/lib/python3.10/dist-packages (from pydantic<3,>=1.9.0->Groq) (0.6.0)\n",
            "Requirement already satisfied: pydantic-core==2.18.2 in /usr/local/lib/python3.10/dist-packages (from pydantic<3,>=1.9.0->Groq) (2.18.2)\n",
            "Installing collected packages: h11, httpcore, httpx, Groq\n",
            "Successfully installed Groq-0.5.0 h11-0.14.0 httpcore-1.0.5 httpx-0.27.0\n"
          ]
        }
      ]
    },
    {
      "cell_type": "markdown",
      "source": [
        "# Download da base de dados\n",
        "\n",
        "Link para a base IIRC: https://github.com/jferguson144/IIRC-baseline\n",
        "\n",
        "Baixa arquivo iirc.tar.gz e context_articles.tar.gz conforme setup.sh do IIRC: https://github.com/jferguson144/IIRC-baseline/blob/main/setup.sh"
      ],
      "metadata": {
        "id": "o-xnSaTimmSF"
      }
    },
    {
      "cell_type": "code",
      "source": [
        "!wget http://jamesf-incomplete-qa.s3.amazonaws.com/iirc.tar.gz\n",
        "!tar -xzf iirc.tar.gz\n",
        "!rm iirc.tar.gz\n",
        "!cd iirc\n",
        "\n",
        "!wget http://jamesf-incomplete-qa.s3.amazonaws.com/context_articles.tar.gz\n",
        "!tar -xzf context_articles.tar.gz\n",
        "!rm context_articles.tar.gz\n",
        "\n",
        "!wget https://iirc-dataset.s3.us-west-2.amazonaws.com/iirc_test.json"
      ],
      "metadata": {
        "colab": {
          "base_uri": "https://localhost:8080/"
        },
        "id": "ImmNy0bwmqg1",
        "outputId": "7e5977ba-35d6-47f4-a7d4-78ca4379568a"
      },
      "execution_count": 5,
      "outputs": [
        {
          "output_type": "stream",
          "name": "stdout",
          "text": [
            "--2024-05-06 16:49:22--  http://jamesf-incomplete-qa.s3.amazonaws.com/iirc.tar.gz\n",
            "Resolving jamesf-incomplete-qa.s3.amazonaws.com (jamesf-incomplete-qa.s3.amazonaws.com)... 52.92.185.65, 52.92.233.169, 52.92.179.129, ...\n",
            "Connecting to jamesf-incomplete-qa.s3.amazonaws.com (jamesf-incomplete-qa.s3.amazonaws.com)|52.92.185.65|:80... connected.\n",
            "HTTP request sent, awaiting response... 200 OK\n",
            "Length: 5713947 (5.4M) [application/x-gzip]\n",
            "Saving to: ‘iirc.tar.gz’\n",
            "\n",
            "iirc.tar.gz         100%[===================>]   5.45M  9.70MB/s    in 0.6s    \n",
            "\n",
            "2024-05-06 16:49:23 (9.70 MB/s) - ‘iirc.tar.gz’ saved [5713947/5713947]\n",
            "\n",
            "--2024-05-06 16:49:24--  http://jamesf-incomplete-qa.s3.amazonaws.com/context_articles.tar.gz\n",
            "Resolving jamesf-incomplete-qa.s3.amazonaws.com (jamesf-incomplete-qa.s3.amazonaws.com)... 52.92.185.65, 52.92.233.169, 52.92.179.129, ...\n",
            "Connecting to jamesf-incomplete-qa.s3.amazonaws.com (jamesf-incomplete-qa.s3.amazonaws.com)|52.92.185.65|:80... connected.\n",
            "HTTP request sent, awaiting response... 200 OK\n",
            "Length: 385263479 (367M) [application/x-gzip]\n",
            "Saving to: ‘context_articles.tar.gz’\n",
            "\n",
            "context_articles.ta 100%[===================>] 367.42M  35.4MB/s    in 11s     \n",
            "\n",
            "2024-05-06 16:49:35 (33.2 MB/s) - ‘context_articles.tar.gz’ saved [385263479/385263479]\n",
            "\n",
            "--2024-05-06 16:50:11--  https://iirc-dataset.s3.us-west-2.amazonaws.com/iirc_test.json\n",
            "Resolving iirc-dataset.s3.us-west-2.amazonaws.com (iirc-dataset.s3.us-west-2.amazonaws.com)... 52.92.176.26, 52.92.132.90, 52.92.160.18, ...\n",
            "Connecting to iirc-dataset.s3.us-west-2.amazonaws.com (iirc-dataset.s3.us-west-2.amazonaws.com)|52.92.176.26|:443... connected.\n",
            "HTTP request sent, awaiting response... 200 OK\n",
            "Length: 2874825 (2.7M) [application/json]\n",
            "Saving to: ‘iirc_test.json’\n",
            "\n",
            "iirc_test.json      100%[===================>]   2.74M  5.62MB/s    in 0.5s    \n",
            "\n",
            "2024-05-06 16:50:12 (5.62 MB/s) - ‘iirc_test.json’ saved [2874825/2874825]\n",
            "\n"
          ]
        }
      ]
    },
    {
      "cell_type": "code",
      "source": [
        "import json\n",
        "\n",
        "dev_set = json.load(open('iirc/dev.json','r'))\n",
        "test_set = json.load(open('iirc_test.json', 'r'))\n",
        "context_articles = json.load(open(\"context_articles.json\",'r'))"
      ],
      "metadata": {
        "id": "uCiNBoO2mxru"
      },
      "execution_count": 6,
      "outputs": []
    },
    {
      "cell_type": "markdown",
      "source": [
        "## Entendendo o dataset"
      ],
      "metadata": {
        "id": "NrxOh5Epm7Ba"
      }
    },
    {
      "cell_type": "markdown",
      "source": [
        "context_articles são os artigos que deverão ser consultados. É um dict onde a chave é o título do artigo. Por exemplo:"
      ],
      "metadata": {
        "id": "_tUZJYOLomxE"
      }
    },
    {
      "cell_type": "code",
      "source": [
        "print(f'Total de artigos: ${len(context_articles)}')\n",
        "print('5 títulos quaisquer:')\n",
        "print(list(context_articles.keys())[0:5])"
      ],
      "metadata": {
        "colab": {
          "base_uri": "https://localhost:8080/"
        },
        "id": "46LcYU83oxL1",
        "outputId": "1be9677b-5c5a-4f3d-ec14-c2a620ba4050"
      },
      "execution_count": 7,
      "outputs": [
        {
          "output_type": "stream",
          "name": "stdout",
          "text": [
            "Total de artigos: $56550\n",
            "5 títulos quaisquer:\n",
            "['san diego padres', 'john bruce (historiographer)', 'jack nicholson', 'british raj', 'dabu county']\n"
          ]
        }
      ]
    },
    {
      "cell_type": "markdown",
      "source": [
        "O conjunto de teste tem um monte de perguntas e respostas. Ele indica a pergunta, a resposta esperada e de onde aquela resposta veio. Por exemplo:"
      ],
      "metadata": {
        "id": "FlT0eMyyo_kb"
      }
    },
    {
      "cell_type": "code",
      "source": [
        "i = 0 # i = 3 # Dá pra testar isso com qualquer tipo de resposta span. Para outros tipos, tem que adaptar\n",
        "print('Primeira pergunta do conjunto de teste:')\n",
        "print('Pergunta:', test_set[i]['questions'][0]['question'])\n",
        "print('Resposta:', test_set[i]['questions'][0]['answer']['answer_spans'][0]['text']) # Isso só funciona pois já sabemos que é do tipo span\n",
        "print('De onde veio a resposta:', test_set[i]['questions'][0]['answer']['answer_spans'][0]['passage'])\n",
        "print('---------------------')\n",
        "print('Artico no context_articles:')\n",
        "context_articles[test_set[i]['questions'][0]['answer']['answer_spans'][0]['passage']]"
      ],
      "metadata": {
        "colab": {
          "base_uri": "https://localhost:8080/",
          "height": 227
        },
        "id": "NYaCz7ZXn-o4",
        "outputId": "5e48ee3a-c8d7-4761-bad4-fa8eb39d2b28"
      },
      "execution_count": 8,
      "outputs": [
        {
          "output_type": "stream",
          "name": "stdout",
          "text": [
            "Primeira pergunta do conjunto de teste:\n",
            "Pergunta: What is Zeus know for in Greek mythology?\n",
            "Resposta: sky and thunder god\n",
            "De onde veio a resposta: zeus\n",
            "---------------------\n",
            "Artico no context_articles:\n"
          ]
        },
        {
          "output_type": "execute_result",
          "data": {
            "text/plain": [
              "'Zeus (British English , North American English ; , <i>Zeús</i> ) is the <a href=\"sky%20father\">sky</a> and <a href=\"thunder%20god\">thunder god</a> in <a href=\"ancient%20Greek%20religion\">ancient Greek religion</a>, who rules as <a href=\"king%20of%20the%20gods\">king of the gods</a> of <a href=\"Mount%20Olympus\">Mount Olympus</a>. His name is <a href=\"cognate\">cognate</a> with the first element of his <a href=\"ancient%20Roman%20religion\">Roman</a> <a href=\"interpretatio%20graeca\">equivalent</a> <a href=\"Jupiter%20%28mythology%29\">Jupiter</a>. His mythologies and powers are similar, though not identical, to those of Indo-European deities such as <a href=\"Jupiter%20%28mythology%29\">Jupiter</a>, <a href=\"Perk%C5%ABnas\">Perkūnas</a>, <a href=\"Perun\">Perun</a>, <a href=\"Indra\">Indra</a> and <a href=\"Thor\">Thor</a>.\\n\\nZeus is the child of <a href=\"Cronus\">Cronus</a> and <a href=\"Rhea%20%28mythology%29\">Rhea</a>, the youngest of his siblings to be born, though sometimes reckoned the eldest as the others required disgorging from Cronus\\'s stomach. In most traditions, he is married to <a href=\"Hera\">Hera</a>, by whom he is usually said to have fathered <a href=\"Ares\">Ares</a>, <a href=\"Hebe%20%28mythology%29\">Hebe</a>, and <a href=\"Hephaestus\">Hephaestus</a>. At the <a href=\"oracle\">oracle</a> of <a href=\"Dodona\">Dodona</a>, his consort was said to be <a href=\"Dione%20%28Titaness/Oceanid%29\">Dione</a>, by whom the <i><a href=\"Iliad\">Iliad</a></i> states that he fathered <a href=\"Aphrodite\">Aphrodite</a>. Zeus was also infamous for his erotic escapades. These resulted in many divine and heroic offspring, including <a href=\"Athena\">Athena</a>, <a href=\"Apollo\">Apollo</a>, <a href=\"Artemis\">Artemis</a>, <a href=\"Hermes\">Hermes</a>, <a href=\"Persephone\">Persephone</a>, <a href=\"Dionysus\">Dionysus</a>, <a href=\"Perseus\">Perseus</a>, <a href=\"Heracles\">Heracles</a>, <a href=\"Helen%20of%20Troy\">Helen of Troy</a>, <a href=\"Minos\">Minos</a>, and the <a href=\"Muse\">Muses</a>.\\n\\nHe was respected as an <a href=\"Sky%20father\">allfather</a> who was chief of the gods and assigned roles to the others: \"Even the gods who are not his natural children address him as Father, and all the gods rise in his presence.\" He was <a href=\"interpretatio%20graeca\">equated</a> with many foreign <a href=\"weather%20god\">weather gods</a>, permitting <a href=\"Pausanias%20%28geographer%29\">Pausanias</a> to observe \"That Zeus is king in heaven is a saying common to all men\". Zeus\\' symbols are the <a href=\"thunderbolt\">thunderbolt</a>, <a href=\"eagle\">eagle</a>, <a href=\"bull%20%28mythology%29\">bull</a>, and <a href=\"oak\">oak</a>. In addition to his <a href=\"Dyeus\">Indo-European inheritance</a>, the classical \"cloud-gatherer\" (Greek: , <i>Nephelēgereta</i>) also derives certain iconographic traits from the cultures of the <a href=\"ancient%20Near%20East\">ancient Near East</a>, such as the <a href=\"scepter\">scepter</a>. Zeus is frequently depicted by Greek artists in one of two poses: standing, striding forward with a thunderbolt leveled in his raised right hand, or seated in majesty.\\n\\nName.The god\\'s name in the nominative is (<i>Zeús</i>). It is inflected as follows: <a href=\"vocative\">vocative</a>: (<i></i>); <a href=\"accusative\">accusative</a>: (); <a href=\"genitive\">genitive</a>: (); <a href=\"dative\">dative</a>: (). <a href=\"Diogenes%20La%C3%ABrtius\">Diogenes Laërtius</a> quotes <a href=\"Pherecydes%20of%20Syros\">Pherecydes of Syros</a> as spelling the name, .\\n\\n<i>Zeus</i> is the Greek continuation of *<i><a href=\"Dyeus\"></a>,</i> the name of the <a href=\"Proto-Indo-European%20religion\">Proto-Indo-European</a> god of the daytime sky, also called *\\' (\"Sky Father\"). The god is known under this name in the <a href=\"Rigvedic%20deities\">Rigveda</a> (<a href=\"Vedic%20Sanskrit\">Vedic Sanskrit</a> <i><a href=\"Dyaus%20Pita\">Dyaus/Dyaus Pita</a></i>), <a href=\"Latin\">Latin</a> (compare <i><a href=\"Jupiter%20%28god%29\">Jupiter</a></i>, from <i>Iuppiter</i>, deriving from the <a href=\"Proto-Indo-European\">Proto-Indo-European</a> vocative *\\'), deriving from the <a href=\"PIE%20root\">root</a> *<i>dyeu</i>- (\"to shine\", and in its many derivatives, \"sky, heaven, god\").\\nZeus is the only deity in the Olympic <a href=\"pantheon%20%28gods%29\">pantheon</a> whose name has such a transparent Indo-European etymology.\\n\\nThe earliest attested forms of the name are the <a href=\"Mycenaean%20Greek\">Mycenaean Greek</a> , <i>di-we</i> and , <i>di-wo</i>, written in the <a href=\"Linear%20B\">Linear B</a> syllabic script.\\n\\n<a href=\"Plato\">Plato</a>, in his <a href=\"Cratylus%20%28dialogue%29\"><i>Cratylus</i></a>, gives a folk etymology of Zeus meaning \"cause of life always to all things,\" because of puns between alternate titles of Zeus (<i>Zen</i> and <i>Dia</i>) with the Greek words for life and \"because of.\" This etymology, along with Plato\\'s entire method of deriving etymologies, is not supported by modern scholarship.\\n\\nBirth.<a href=\"Cronus\">Cronus</a> sired several children by <a href=\"Rhea%20%28mythology%29\">Rhea</a>: <a href=\"Hestia\">Hestia</a>, <a href=\"Demeter\">Demeter</a>, <a href=\"Hera\">Hera</a>, <a href=\"Hades\">Hades</a>, and <a href=\"Poseidon\">Poseidon</a>, but swallowed them all as soon as they were born, since he had learned from <a href=\"Gaia%20%28mythology%29\">Gaia</a> and <a href=\"Uranus%20%28mythology%29\">Uranus</a> that he was destined to be overthrown by his son as he had previously overthrown Uranus, his own father, an oracle that Rhea heard and wished to avert.\\n\\nWhen Zeus was about to be born, Rhea sought Gaia to devise a plan to save him, so that Cronus would get his retribution for his acts against Uranus and his own children. Rhea gave birth to Zeus in Crete, handing Cronus a rock wrapped in swaddling clothes, which he promptly swallowed.\\n\\nInfancy.Varying versions of the story exist:\\n\\n<ul><li>1. According to Hyginus (Fabulae, 139)) Zeus was raised by a nymph named Amalthea. Since Saturn (Cronus) ruled over the <a href=\"Earth\">Earth</a>, the <a href=\"heaven\">heavens</a> and the <a href=\"sea\">sea</a>, she hid him by dangling him on a <a href=\"rope\">rope</a> from a <a href=\"tree\">tree</a> so he was suspended between earth, sea and sky and thus, invisible to his father.\\n</li><li>2. According to Pseudo-Apollodorus (Bibliotheca, <a href=\"http%3A//www.theoi.com/Text/Apollodorus1.html%231\">1.1.5-7</a>)) Zeus was raised by a <a href=\"goat\">goat</a> named <a href=\"Amalthea%20%28mythology%29\">Amalthea</a> in a cave called Dictaeon Antron (<a href=\"Psychro%20Cave\">Psychro Cave</a>). A a company of soldiers called <a href=\"Kouretes\">Kouretes</a> danced, shouted and clashed their spears against their shields so that Cronus would not hear the baby\\'s cry.\\n</li></ul>\\nKing of the gods.After reaching manhood, Zeus forced Cronus to disgorge first the stone (which was set down at <a href=\"Pytho\">Pytho</a> under the glens of <a href=\"Parnassus\">Parnassus</a> to be a sign to mortal men, the <a href=\"Omphalos\">Omphalos</a>) then his siblings in reverse order of swallowing. In some versions, <a href=\"Metis%20%28mythology%29\">Metis</a> gave Cronus an <a href=\"emetic\">emetic</a> to force him to disgorge the babies, or Zeus cut Cronus\\'s <a href=\"stomach\">stomach</a> open. Then Zeus released the brothers of Cronus, the <a href=\"Hekatonkheires\">Hecatonchires</a> and the <a href=\"Cyclopes\">Cyclopes</a>, from their dungeon in <a href=\"Tartarus\">Tartarus</a>, killing their guard, <a href=\"Campe\">Campe</a>.\\n\\nAs a token of their appreciation, the Cyclopes gave him <a href=\"thunder\">thunder</a> and the thunderbolt, or <a href=\"lightning\">lightning</a>, which had previously been hidden by Gaia. Together, Zeus, his brothers and sisters, Hecatonchires and Cyclopes overthrew Cronus and the other Titans, in the combat called the <a href=\"Titanomachy\">Titanomachy</a>. The defeated Titans were then cast into a shadowy underworld region known as Tartarus. <a href=\"Atlas%20%28mythology%29\">Atlas</a>, one of the titans who fought against Zeus, was punished by having to hold up the sky.\\n\\nAfter the battle with the Titans, Zeus shared the world with his elder brothers, <a href=\"Poseidon\">Poseidon</a> and <a href=\"Hades\">Hades</a>, by drawing lots: Zeus got the sky and air, Poseidon the waters, and Hades the world of the dead (the underworld). The ancient Earth, <a href=\"Gaia%20%28mythology%29\">Gaia</a>, could not be claimed; she was left to all three, each according to their capabilities, which explains why Poseidon was the \"earth-shaker\" (the god of earthquakes) and Hades claimed the humans who died (see also <a href=\"Penthus\">Penthus</a>).\\n\\nGaia resented the way Zeus had treated the Titans, because they were her children. Soon after taking the throne as king of the gods, Zeus had to fight some of Gaia\\'s other children, the <a href=\"monster\">monsters</a> <a href=\"Typhon\">Typhon</a> and <a href=\"Echidna%20%28mythology%29\">Echidna</a>. He vanquished Typhon and trapped him under <a href=\"Mount%20Etna\">Mount Etna</a>, but left Echidna and her children alive.\\n\\nConflicts with humans.When Zeus was atop Mount Olympus he was appalled by human sacrifice and other signs of human decadence. He decided to wipe out mankind and flooded the world with the help of his brother <a href=\"Poseidon\">Poseidon</a>. After the flood, only <a href=\"Deucalion\">Deucalion</a> and <a href=\"Pyrrha\">Pyrrha</a> remained. This <a href=\"Flood%20myth\">flood narrative</a> is a common motif in mythology.\\n\\nThroughout history Zeus has been depicted as using violence to get his way and terrorize humans. As god of the sky he has the power to hurl lightning bolts as a weapon. Since lightning is quite powerful and sometimes deadly, it is a bold sign when lightning strikes because it is known that Zeus most likely threw the bolt.\\n\\nIn the <i>Iliad</i>.The <i><a href=\"Iliad\">Iliad</a></i> is a poem by <a href=\"Homer\">Homer</a> about the <a href=\"Trojan%20war\">Trojan war</a> and the battle over the City of <a href=\"Troy\">Troy</a>, in which Zeus plays a major part.\\n\\nScenes in which Zeus appears include:\\n\\n<ul><li>- Book 2: Zeus sends <a href=\"Agamemnon\">Agamemnon</a> a dream and is able to partially control his decisions because of the effects of the dream\\n</li><li>- Book 4: Zeus promises <a href=\"Hera\">Hera</a> to ultimately destroy the City of Troy at the end of the war\\n</li><li>- Book 7: Zeus and <a href=\"Poseidon\">Poseidon</a> ruin the <a href=\"Achaeans%20%28Homer%29\">Achaeans</a> fortress\\n</li><li>- Book 8: Zeus prohibits the other Gods from fighting each other and has to return to <a href=\"Mount%20Ida\">Mount Ida</a> where he can think over his decision that the Greeks will lose the war\\n</li><li>- Book 14: Zeus is seduced by <a href=\"Hera\">Hera</a> and becomes distracted while she helps out the Greeks\\n</li><li>- Book 15: Zeus wakes up and realizes that <a href=\"Poseidon\">Poseidon</a> his own brother has been helping out the Greeks, while also sending <a href=\"Hector\">Hector</a> and <a href=\"Apollo\">Apollo</a> to help fight the Trojans ensuring that the City of Troy will fall\\n</li><li>- Book 16: Zeus is upset that he couldn\\'t help save <a href=\"Sarpedon%20%28Trojan%20War%20hero%29\">Sarpedon</a>\\'s life because it would then contradict his previous decisions\\n</li><li>- Book 17: Zeus is emotionally hurt by the fate of <a href=\"Hector\">Hector</a>\\n</li><li>- Book 20: Zeus lets the other Gods help out their respective sides in the war\\n</li><li>- Book 24: Zeus demands that <a href=\"Achilles\">Achilles</a> release the corpse of <a href=\"Hector\">Hector</a> to be buried honourably\\n</li></ul>\\nList of other deeds.<ul><li>- Zeus granted <a href=\"Callirrhoe%20%28daughter%20of%20Achelous%29\">Callirrhoe\\'s</a> prayer that her sons by <a href=\"Alcmaeon%20%28mythology%29\">Alcmaeon</a>, <a href=\"Acarnan\">Acarnan</a> and <a href=\"Amphoterus%20%28son%20of%20Alcmaeon%29\">Amphoterus</a>, grow quickly so that they might be able to avenger the death of their father by the hands of <a href=\"Phegeus%20%28king%20of%20Psophis%29\">Phegeus</a> and his two sons.\\n</li><li>- He unsuccessfully wooed Thetis, daughter of Nereus.\\n</li></ul>\\nZeus and Hera.Zeus was brother and consort of <a href=\"Hera\">Hera</a>. By Hera, Zeus sired <a href=\"Ares\">Ares</a>, <a href=\"Hebe%20%28mythology%29\">Hebe</a> and <a href=\"Hephaestus\">Hephaestus</a>, though some accounts say that Hera produced these offspring alone. Some also include <a href=\"Eileithyia\">Eileithyia</a>, <a href=\"Eris%20%28mythology%29\">Eris</a>, <a href=\"Enyo\">Enyo</a> and <a href=\"Angelos%20%28Greek%20mythology%29\">Angelos</a> as their daughters. In the section of the Iliad known to scholars as the <a href=\"Deception%20of%20Zeus\">Deception of Zeus</a>, the two of them are described as having begun their sexual relationship without their parents knowing about it. The conquests of Zeus among <a href=\"nymph\">nymphs</a> and the mythic mortal progenitors of <a href=\"Greeks\">Hellenic</a> dynasties are famous. Olympian mythography even credits him with unions with <a href=\"Leto\">Leto</a>, <a href=\"Demeter\">Demeter</a>, <a href=\"Metis%20%28mythology%29\">Metis</a>, <a href=\"Themis\">Themis</a>, <a href=\"Eurynome%20%28Oceanid%29\">Eurynome</a> and <a href=\"Mnemosyne\">Mnemosyne</a>. Other relationships with immortals included <a href=\"Dione%20%28Titaness%29\">Dione</a> and <a href=\"Maia%20%28mythology%29\">Maia</a>. Among mortals were <a href=\"Semele\">Semele</a>, <a href=\"Io%20%28mythology%29\">Io</a>, <a href=\"Europa%20%28mythology%29\">Europa</a> and <a href=\"Leda%20%28mythology%29\">Leda</a> (for more details, see below) and with the young <a href=\"Ganymede%20%28mythology%29\">Ganymede</a> (although he was mortal Zeus granted him eternal youth and immortality).\\n\\nMany myths render Hera as jealous of his amorous conquests and a consistent enemy of Zeus\\' mistresses and their children by him. For a time, a <a href=\"nymph\">nymph</a> named <a href=\"Echo%20%28mythology%29\">Echo</a> had the job of distracting Hera from his affairs by talking incessantly, and when Hera discovered the deception, she cursed Echo to repeat the words of others.\\n\\nConsorts and offspring.The Greeks variously claimed that the Moires/Fates were the daughters of Zeus and the Titaness <a href=\"Themis\">Themis</a> or of primordial beings like <a href=\"Chaos%20%28mythology%29\">Chaos</a>, <a href=\"Nyx%20%28mythology%29\">Nyx</a>, or <a href=\"Ananke%20%28mythology%29\">Ananke</a>.\\n\\nThe Charites/Graces were usually considered the daughters of Zeus and Eurynome but they were also said to be daughters of Dionysus and Aphrodite or of Helios and the naiad Aegle.\\n\\nSome accounts say that Ares, Hebe, and Hephaestus were born parthenogenetically.\\n\\nAccording to one version, Athena is said to be born parthenogenetically.\\n\\nHelen was either the daughter of Leda or Nemesis.\\n\\nTyche is usually considered a daughter of Aphrodite and Hermes.\\n\\nRoles and epithets.Zeus played a dominant role, presiding over the <a href=\"Ancient%20Greece\">Greek</a> Olympian pantheon. He fathered many of the heroes and was featured in many of their <a href=\"Cult%20%28religion%29\">local cults</a>. Though the Homeric \"cloud collector\" was the god of the sky and thunder like his Near-Eastern counterparts, he was also the supreme cultural artifact; in some senses, he was the embodiment of Greek <a href=\"religion\">religious</a> beliefs and the <a href=\"archetype\">archetypal</a> Greek deity.\\n\\nAside from local epithets that simply designated the deity as doing something random at some particular place, the <a href=\"epithet\">epithets</a> or titles applied to Zeus emphasized different aspects of his wide-ranging authority:\\n\\n<ul><li>- Zeus Aegiduchos or Aegiochos: Usually taken as Zeus as the bearer of the <a href=\"Aegis\">Aegis</a>, the divine shield with the head of <a href=\"Medusa\">Medusa</a> across it, although others derive it from \"goat\" () and <i>okhē</i> () in reference to Zeus\\' nurse, the divine goat <a href=\"Amalthea%20%28mythology%29\">Amalthea</a>.\\n</li><li>- Zeus <a href=\"Agoraeus\">Agoraeus</a>: Zeus as patron of the marketplace (<a href=\"agora\">agora</a>) and punisher of dishonest traders.\\n</li><li>- <a href=\"Zeus%20Areius\">Zeus Areius</a>: either \"warlike\" or \"the atoning one\".\\n</li><li>- Zeus Horkios: Zeus as keeper of oaths. Exposed liars were made to dedicate a <a href=\"votive\">votive</a> statue to Zeus, often at the sanctuary at Olympia\\n</li><li>- <a href=\"Zeus%20Olympios\">Zeus Olympios</a>: Zeus as <a href=\"king%20of%20the%20gods\">king of the gods</a> and patron of the <a href=\"Panhellenic%20Games\">Panhellenic Games</a> at <a href=\"Olympia%2C%20Greece\">Olympia</a>\\n</li><li>- Zeus Panhellenios (\"Zeus of All the <a href=\"Names%20of%20the%20Greeks\">Greeks</a>\"): worshipped at <a href=\"Aeacus\">Aeacus</a>\\'s temple on <a href=\"Aegina\">Aegina</a>\\n</li><li>- Zeus Xenios, Philoxenon, or Hospites: Zeus as the patron of hospitality (<i><a href=\"xenia%20%28Greek%29\">xenia</a></i>) and guests, avenger of wrongs done to strangers\\n</li></ul>\\nAdditional names and epithets for Zeus are also:\\n\\n<ul><li>- Abrettenus (Ἀβρεττηνός) or Abretanus: surname of Zeus in <a href=\"Mysia\">Mysia</a>\\n</li><li>- Achad: one of his names in <a href=\"Syria\">Syria</a>.\\n</li><li>- Acraeus: his name at <a href=\"Smyrna\">Smyrna</a>.\\n</li><li>- Acrettenus: his name in Mysia.\\n</li><li>- Adad: one of his names in Syria.\\n</li><li>- Adultus: from his being invoked by <i>adults</i>, on their marriage.\\n</li><li>- <a href=\"Apemius\">Apemius</a>: Zeus as the averter of ills\\n</li><li>- <a href=\"Apomyius\">Apomyius</a> Zeus as one who dispels flies\\n</li><li>- Astrapios (\"Lightninger\"): Zeus as a <a href=\"weather%20god\">weather god</a>\\n</li><li>- Bottiaeus: Worshipped at <a href=\"Antioch\">Antioch</a>\\n</li><li>- Brontios (\"Thunderer\"): Zeus as a <a href=\"weather%20god\">weather god</a>\\n</li><li>- Diktaios: Zeus as lord of the <a href=\"Dikte\">Dikte</a> mountain range, worshipped from <a href=\"Mycenaean%20Greece\">Mycenaean times</a> on Crete\\n</li><li>- Ithomatas: Worshipped at <a href=\"Mount%20Ithome\">Mount Ithome</a> in Messenia\\n</li><li>- Zeus Adados: A Hellenization of the <a href=\"Canaanite%20religion\">Canaanite</a> <a href=\"Hadad\">Hadad</a> and <a href=\"Assyrian%20religion\">Assyrian</a> <a href=\"Adad\">Adad</a>, particularly his solar cult at <a href=\"Heliopolis%20%28Syria%29\">Heliopolis</a>\\n</li><li>- <a href=\"Dodonian%20Zeus\">Zeus Bouleus</a>: Worshipped at <a href=\"Dodona\">Dodona</a>, the earliest <a href=\"oracle\">oracle</a>, along with Zeus Naos\\n</li><li>- Zeus Georgos (, \"Zeus the Farmer\"): Zeus as god of crops and the harvest, worshipped in <a href=\"Ancient%20Athens\">Athens</a>\\n</li><li>- Zeus Helioupolites (\"Heliopolite\" or \"Heliopolitan Zeus\"): A Hellenization of the <a href=\"Canaanite%20religion\">Canaanite</a> <a href=\"Ba%CA%BFal\">Baʿal</a> (probably <a href=\"Hadad\">Hadad</a>) worshipped as a <a href=\"sun%20god\">sun god</a> at <a href=\"Heliopolis%20%28Syria%29\">Heliopolis</a> (modern <a href=\"Baalbek\">Baalbek</a>)\\n</li><li>- Zeus Kasios (\"Zeus of Mount Kasios\" the modern <a href=\"Jebel%20Aqra\">Jebel Aqra</a>): Worshipped at a site on the Syrian–Turkish border, a Hellenization of the <a href=\"Canaanite%20religion\">Canaanite</a> mountain and <a href=\"weather%20god\">weather god</a> <a href=\"Baal%20Zephon\">Baal Zephon</a>\\n</li><li>- Zeus Labrandos (\"Zeus of <a href=\"Labraunda\">Labraunda</a>\"): Worshiped at <a href=\"Caria\">Caria</a>, depicted with a double-edged axe (<i><a href=\"labrys\">labrys</a></i>), a Hellenization of the <a href=\"Hurrian%20religion\">Hurrian</a> <a href=\"weather%20god\">weather god</a> <a href=\"Teshub\">Teshub</a>\\n</li><li>- Zeus Meilichios (\"Zeus the Easily-Entreated\"): Worshipped at <a href=\"Ancient%20Athens\">Athens</a>, a form of the archaic chthonic <i><a href=\"daimon\">daimon</a></i> <a href=\"Meilichios\">Meilichios</a>\\n</li><li>- <a href=\"Dodonian%20Zeus\">Zeus Naos</a>: Worshipped at <a href=\"Dodona\">Dodona</a>, the earliest <a href=\"oracle\">oracle</a>, along with Zeus Bouleus\\n</li><li>- <a href=\"Talos\">Zeus Tallaios</a> (\"Solar Zeus\"): Worshipped on <a href=\"Crete\">Crete</a>\\n</li></ul>\\nPanhellenic cults. major center where all Greeks converged to pay honor to their chief god was <a href=\"Olympia%2C%20Greece\">Olympia</a>. Their quadrennial <a href=\"festival\">festival</a> featured the famous Games. There was also an altar to Zeus made not of stone, but of ash, from the accumulated remains of many centuries\\' worth of animals sacrificed there.\\n\\nOutside of the major inter-<a href=\"polis\">polis</a> sanctuaries, there were no modes of worshipping Zeus precisely shared across the Greek world. Most of the titles listed below, for instance, could be found at any number of <a href=\"Greek%20temple\">Greek temples</a> from <a href=\"Asia%20Minor\">Asia Minor</a> to <a href=\"Sicily\">Sicily</a>. Certain modes of ritual were held in common as well: sacrificing a white animal over a raised altar, for instance.\\n\\nZeus Velchanos.With one exception, Greeks were unanimous in recognizing the birthplace of Zeus as Crete. Minoan culture contributed many essentials of ancient Greek religion: \"by a hundred channels the old civilization emptied itself into the new\", Will Durant observed, and Cretan Zeus retained his youthful Minoan features. The local child of the Great Mother, \"a small and inferior deity who took the roles of son and consort\", whose Minoan name the Greeks Hellenized as Velchanos, was in time assumed as an <a href=\"epithet\">epithet</a> by Zeus, as transpired at many other sites, and he came to be venerated in Crete as Zeus Velchanos (\"boy-Zeus\"), often simply the <i><a href=\"Kouros\">Kouros</a></i>.\\n\\nIn <a href=\"Crete\">Crete</a>, Zeus was worshipped at a number of caves at <a href=\"Knossos\">Knossos</a>, <a href=\"Mount%20Ida%2C%20Crete\">Ida</a> and <a href=\"Palaikastro\">Palaikastro</a>. In the Hellenistic period a small sanctuary dedicated to Zeus Velchanos was founded at the <a href=\"Hagia%20Triada\">Hagia Triada</a> site of a long-ruined Minoan palace. Broadly contemporary coins from <a href=\"Phaistos\">Phaistos</a> show the form under which he was worshiped: a youth sits among the branches of a tree, with a cockerel on his knees. On other Cretan coins Velchanos is represented as an eagle and in association with a goddess celebrating a mystic marriage. Inscriptions at <a href=\"Gortyn\">Gortyn</a> and Lyttos record a <i>Velchania</i> festival, showing that Velchanios was still widely venerated in Hellenistic Crete.\\n\\nThe stories of <a href=\"Minos\">Minos</a> and <a href=\"Epimenides\">Epimenides</a> suggest that these caves were once used for <a href=\"Incubation%20%28ritual%29\">incubatory</a> divination by kings and priests. The dramatic setting of <a href=\"Plato\">Plato</a>\\'s <i>Laws</i> is along the pilgrimage-route to one such site, emphasizing archaic Cretan knowledge. On Crete, Zeus was represented in art as a long-haired youth rather than a mature adult and hymned as <i>ho megas kouros</i>, \"the great youth\". Ivory statuettes of the \"Divine Boy\" were unearthed near the <a href=\"Labyrinth\">Labyrinth</a> at <a href=\"Knossos\">Knossos</a> by <a href=\"Sir%20Arthur%20Evans\">Sir Arthur Evans</a>. With the <a href=\"Kouretes\">Kouretes</a>, a band of ecstatic armed dancers, he presided over the rigorous military-athletic training and secret rites of the Cretan <i><a href=\"paideia\">paideia</a></i>.\\n\\nThe myth of the death of Cretan Zeus, localised in numerous mountain sites though only mentioned in a comparatively late source, <a href=\"Callimachus\">Callimachus</a>, together with the assertion of <a href=\"Antoninus%20Liberalis\">Antoninus Liberalis</a> that a fire shone forth annually from the birth-cave the infant shared with a <a href=\"Bees%20%28mythology%29\">mythic swarm of bees</a>, suggests that Velchanos had been an annual vegetative spirit.\\nThe Hellenistic writer <a href=\"Euhemerus\">Euhemerus</a> apparently proposed a theory that Zeus had actually been a great king of <a href=\"Crete\">Crete</a> and that posthumously, his glory had slowly turned him into a deity. The works of Euhemerus himself have not survived, but Christian patristic writers took up the suggestion.\\n\\nZeus Lykaios.The epithet Zeus Lykaios (\"wolf-Zeus\") is assumed by Zeus only in connection with the archaic festival of the <a href=\"Lykaia\">Lykaia</a> on the slopes of <a href=\"Lycaeus\">Mount Lykaion</a> (\"Wolf Mountain\"), the tallest peak in rustic <a href=\"Arcadia\">Arcadia</a>; Zeus had only a formal connection with the rituals and myths of this primitive <a href=\"rite%20of%20passage\">rite of passage</a> with an ancient threat of <a href=\"cannibalism\">cannibalism</a> and the possibility of a <a href=\"werewolf\">werewolf</a> transformation for the <a href=\"ephebos\">ephebes</a> who were the participants. Near the ancient ash-heap where the sacrifices took place was a forbidden precinct in which, allegedly, no shadows were ever cast.\\n\\nAccording to <a href=\"Plato\">Plato</a>, a particular clan would gather on the mountain to make a sacrifice every nine years to Zeus Lykaios, and a single morsel of human entrails would be intermingled with the animal\\'s. Whoever ate the human flesh was said to turn into a wolf, and could only regain human form if he did not eat again of human flesh until the next nine-year cycle had ended. There were games associated with the Lykaia, removed in the fourth century to the first urbanization of Arcadia, <a href=\"Megalopolis%2C%20Greece\">Megalopolis</a>; there the major temple was dedicated to Zeus Lykaios.\\n\\nThere is, however, the crucial detail that <i>Lykaios</i> or <i>Lykeios</i> (epithets of Zeus and Apollo) may derive from <a href=\"Proto-Greek%20language\">Proto-Greek</a> *, \"light\", a noun still attested in compounds such as , \"twilight\", , \"year\" (lit. \"light\\'s course\") etc. This, Cook argues, brings indeed much new \\'light\\' to the matter as <a href=\"Achaeus%20of%20Eretria\">Achaeus</a>, the contemporary tragedian of <a href=\"Sophocles\">Sophocles</a>, spoke of Zeus Lykaios as \"starry-eyed\", and this Zeus Lykaios may just be the Arcadian Zeus, son of Aether, described by <a href=\"Cicero\">Cicero</a>. Again under this new signification may be seen <a href=\"Pausanias%20%28geographer%29\">Pausanias</a>\\' descriptions of Lykosoura being \\'the first city that ever the sun beheld\\', and of the altar of Zeus, at the summit of Mount Lykaion, before which stood two columns bearing gilded eagles and \\'facing the sun-rise\\'. Further Cook sees only the tale of Zeus\\' sacred precinct at Mount Lykaion allowing no shadows referring to Zeus as \\'god of light\\' (Lykaios).\\n\\nAdditional cults of Zeus.Although etymology indicates that Zeus was originally a sky god, many Greek cities honored a local Zeus who lived underground. Athenians and Sicilians honored Zeus Meilichios (\"kindly\" or \"honeyed\") while other cities had Zeus Chthonios (\"earthy\"), Zeus Katachthonios (\"under-the-earth\") and Zeus Plousios (\"wealth-bringing\"). These deities might be represented as snakes or in human form in visual art, or, for emphasis as both together in one image. They also received offerings of black animal victims sacrificed into sunken pits, as did <a href=\"chthonic\">chthonic</a> deities like <a href=\"Persephone\">Persephone</a> and <a href=\"Demeter\">Demeter</a>, and also the <a href=\"hero\">heroes</a> at their tombs. Olympian gods, by contrast, usually received white victims sacrificed upon raised altars.\\n\\nIn some cases, cities were not entirely sure whether the <i>daimon</i> to whom they sacrificed was a hero or an underground Zeus. Thus the shrine at Lebadaea in <a href=\"Boeotia\">Boeotia</a> might belong to the hero <a href=\"Trophonius\">Trophonius</a> or to Zeus Trephonius (\"the nurturing\"), depending on whether you believe <a href=\"Pausanias%20%28geographer%29\">Pausanias</a>, or <a href=\"Strabo\">Strabo</a>. The hero <a href=\"Amphiaraus\">Amphiaraus</a> was honored as Zeus Amphiaraus at Oropus outside of <a href=\"Thebes%2C%20Greece\">Thebes</a>, and the Spartans even had a shrine to Zeus Agamemnon. Ancient <a href=\"Molossians\">Molossian</a> kings sacrificed to <a href=\"Zeus%20Areius\">Zeus Areius</a>. <a href=\"Strabo\">Strabo</a> mention that at <a href=\"Tralles\">Tralles</a> there was the Zeus Larisaeus.\\n\\nNon-panhellenic cults.In addition to the Panhellenic titles and conceptions listed above, local cults maintained their own idiosyncratic ideas about the king of gods and men. With the epithet Zeus <a href=\"Aetnaeus\">Aetnaeus</a> he was worshiped on <a href=\"Mount%20Etna\">Mount Aetna</a>, where there was a statue of him, and a local festival called the Aetnaea in his honor. Other examples are listed below. As Zeus Aeneius or Zeus Aenesius, he was worshiped in the island of <a href=\"Cephalonia\">Cephalonia</a>, where he had a temple on <a href=\"Mount%20Ainos\">Mount Aenos</a>.\\n\\nOracles of Zeus.Although most oracle sites were usually dedicated to <a href=\"Apollo\">Apollo</a>, the heroes, or various goddesses like <a href=\"Themis\">Themis</a>, a few oracular sites were dedicated to Zeus. In addition, some foreign oracles, such as <a href=\"Ba%CA%BFal\">Baʿal</a>\\'s at <a href=\"Heliopolis%20%28Syria%29\">Heliopolis</a>, were <a href=\"interpretatio%20graeca\">associated</a> with Zeus in Greek or <a href=\"Jupiter\">Jupiter</a> in Latin.\\n\\nThe Oracle at Dodona.The cult of Zeus at <a href=\"Dodona\">Dodona</a> in <a href=\"Epirus\">Epirus</a>, where there is evidence of religious activity from the second millennium BC onward, centered on a sacred oak. When the <i><a href=\"Odyssey\">Odyssey</a></i> was composed (circa 750 BC), divination was done there by barefoot priests called <i>Selloi</i>, who lay on the ground and observed the rustling of the leaves and branches. By the time <a href=\"Herodotus\">Herodotus</a> wrote about Dodona, female priestesses called <a href=\"peleiades\">peleiades</a> (\"doves\") had replaced the male priests.\\n\\nZeus\\' consort at Dodona was not <a href=\"Hera\">Hera</a>, but the goddess <a href=\"Dione%20%28Titaness/Oceanid%29\">Dione</a> — whose name is a feminine form of \"Zeus\". Her status as a <a href=\"Titan%20%28mythology%29\">titaness</a> suggests to some that she may have been a more powerful pre-Hellenic deity, and perhaps the original occupant of the oracle.\\n\\nThe Oracle at Siwa.The <a href=\"oracle%20of%20Ammon\">oracle of Ammon</a> at the <a href=\"Siwa%20Oasis\">Siwa Oasis</a> in the Western Desert of <a href=\"Egypt\">Egypt</a> did not lie within the bounds of the Greek world before <a href=\"Alexander%20the%20Great\">Alexander</a>\\'s day, but it already loomed large in the Greek mind during the archaic era: <a href=\"Herodotus\">Herodotus</a> mentions consultations with Zeus Ammon in his account of the <a href=\"Greco-Persian%20Wars\">Persian War</a>. Zeus Ammon was especially favored at <a href=\"Sparta\">Sparta</a>, where a temple to him existed by the time of the <a href=\"Peloponnesian%20War\">Peloponnesian War</a>.\\n\\nAfter Alexander made a trek into the desert to consult the oracle at Siwa, the figure arose in the Hellenistic imagination of a <a href=\"Libyan%20Sibyl\">Libyan Sibyl</a>.\\n\\nZeus and foreign gods.Zeus was identified with the <a href=\"Roman%20mythology\">Roman</a> god <a href=\"Jupiter%20%28mythology%29\">Jupiter</a> and associated in the syncretic classical imagination (see <i><a href=\"interpretatio%20graeca\">interpretatio graeca</a></i>) with various other deities, such as the <a href=\"Egyptian%20mythology\">Egyptian</a> <a href=\"Amun\">Ammon</a> and the <a href=\"Etruscan%20mythology\">Etruscan</a> <a href=\"Tinia\">Tinia</a>. He, along with <a href=\"Dionysus\">Dionysus</a>, absorbed the role of the chief <a href=\"Phrygia\">Phrygian</a> god <a href=\"Sabazios\">Sabazios</a> in the <a href=\"Syncretism\">syncretic</a> deity known in Rome as <a href=\"Sabazius\">Sabazius</a>. The Seleucid ruler <a href=\"Antiochus%20IV%20Epiphanes\">Antiochus IV Epiphanes</a> erected a statue of Zeus Olympios in the Judean Temple in Jerusalem. Hellenizing Jews referred to this statue as <a href=\"Baal\">Baal</a> Shamen (in English, Lord of Heaven).\\n\\nZeus and the sun.Zeus is occasionally conflated with the Hellenic <a href=\"sun%20god\">sun god</a>, <a href=\"Helios\">Helios</a>, who is sometimes either directly referred to as Zeus\\' eye, or clearly implied as such. <a href=\"Hesiod\">Hesiod</a>, for instance, describes Zeus\\' eye as effectively the sun. This perception is possibly derived from earlier <a href=\"Proto-Indo-European%20religion\">Proto-Indo-European religion</a>, in which the sun is occasionally envisioned as the eye of <a href=\"Dyeus\">*<i>Dyḗus Pḥtḗr</i></a> (see <a href=\"Hvare-khshaeta\">Hvare-khshaeta</a>).\\n\\nThe <a href=\"Crete\">Cretan</a> Zeus <a href=\"Talos\">Tallaios</a> had solar elements to his cult. \"Talos\" was the local equivalent of Helios.\\n\\nZeus in philosophy.In <a href=\"Neoplatonism\">Neoplatonism</a>, Zeus\\' relation to the gods familiar from mythology is taught as the <a href=\"Demiurge\">Demiurge</a> or Divine <a href=\"nous\">Mind</a>. Specifically within <a href=\"Plotinus\">Plotinus</a>\\'s work the <i><a href=\"Enneads\">Enneads</a></i> and the <i>Platonic Theology</i> of <a href=\"Proclus\">Proclus</a>.\\n\\nZeus in the Bible.Zeus is mentioned in the New Testament twice, first in Acts 14:8–13: When the people living in <a href=\"Lystra\">Lystra</a> saw the <a href=\"Apostle%20Paul\">Apostle Paul</a> heal a lame man, they considered Paul and his partner <a href=\"Barnabas\">Barnabas</a> to be gods, identifying Paul with <a href=\"Hermes\">Hermes</a> and Barnabas with Zeus, even trying to offer them sacrifices with the crowd. Two ancient inscriptions discovered in 1909 near Lystra testify to the worship of these two gods in that city. One of the inscriptions refers to the \"priests of Zeus\", and the other mentions \"Hermes Most Great\"\" and \"Zeus the sun-god\".\\n\\nThe second occurrence is in Acts 28:11: the name of the ship in which the prisoner Paul set sail from the island of Malta bore the <a href=\"figurehead\">figurehead</a> \"Sons of Zeus\" aka <a href=\"Castor%20and%20Pollux\">Castor and Pollux</a>.\\n\\nThe deuterocanonical book of <a href=\"2%20Maccabees\">2 Maccabees</a> 6:1, 2 talks of King <a href=\"Antiochus%20IV\">Antiochus IV</a> (Epiphanes), who in his attempt to stamp out the Jewish religion, directed that the temple at Jerusalem be profaned and rededicated to Zeus (Jupiter Olympius).\\n\\nIn modern culture.Depictions of Zeus as a bull, the form he took when abducting <a href=\"Europa%20%28mythology%29\">Europa</a>, are found on the Greek 2-<a href=\"euro%20%28currency%29\">euro</a> coin and on the <a href=\"United%20Kingdom\">United Kingdom</a> identity card for visa holders. <a href=\"Mary%20Beard%20%28classicist%29\">Mary Beard</a>, professor of Classics at <a href=\"Cambridge%20University\">Cambridge University</a>, has criticised this for its apparent celebration of rape.\\n\\nZeus has been portrayed by Axel Ringvall in <i>Jupiter på jorden</i>, the first known film adaption to feature Zeus; <a href=\"Niall%20MacGinnis\">Niall MacGinnis</a> in <i><a href=\"Jason%20and%20the%20Argonauts%20%281963%20film%29\">Jason and the Argonauts</a></i> and <a href=\"Angus%20MacFadyen\">Angus MacFadyen</a> in the <a href=\"Jason%20and%20the%20Argonauts%20%28TV%20miniseries%29\">2000 remake</a>; <a href=\"Laurence%20Olivier\">Laurence Olivier</a> in the original <i><a href=\"Clash%20of%20the%20Titans%20%281981%20film%29\">Clash of the Titans</a></i>, and <a href=\"Liam%20Neeson\">Liam Neeson</a> in the <a href=\"Clash%20of%20the%20Titans%20%282010%20film%29\">2010 remake</a>, along with the 2012 sequel <a href=\"Wrath%20of%20the%20Titans\">Wrath of the Titans</a>; <a href=\"Anthony%20Quinn\">Anthony Quinn</a> in the 1990s TV series <i></i>; <a href=\"Rip%20Torn\">Rip Torn</a> in the Disney animated feature <i><a href=\"Hercules%20%281997%20film%29\">Hercules</a></i>; <a href=\"Corey%20Burton\">Corey Burton</a> in <i><a href=\"Hercules%20%281998%20TV%20series%29\">Hercules</a></i>, <i><a href=\"God%20of%20War%20II\">God of War II</a></i>, <i><a href=\"God%20of%20War%20III\">God of War III</a></i>, <i></i>, <i><a href=\"PlayStation%20All-Stars%20Battle%20Royale\">PlayStation All-Stars Battle Royale</a></i>, and <i><a href=\"Kingdom%20Hearts%203\">Kingdom Hearts 3</a></i>; and <a href=\"Sean%20Bean\">Sean Bean</a> in <i></i> (2010).\\n\\nSee also.<ul><li>- <a href=\"Achaean%20League\">Achaean League</a>\\n</li><li>- <a href=\"Agetor\">Agetor</a>\\n</li><li>- <a href=\"Ambulia\">Ambulia</a> - Spartan epithet used for <a href=\"Athena\">Athena</a>, Zeus, and <a href=\"Castor%20and%20Pollux\">Castor and Pollux</a>\\n</li><li>- <a href=\"Deception%20of%20Zeus\">Deception of Zeus</a>\\n</li><li>- <a href=\"Hetairideia\">Hetairideia</a> – Thessalian Festival to Zeus\\n</li><li>- <a href=\"Temple%20of%20Zeus%2C%20Olympia\">Temple of Zeus, Olympia</a>\\n</li><li>- <a href=\"Zanes%20of%20Olympia\">Zanes of Olympia</a> - Statues of Zeus\\n</li></ul>\\nReferences.<ul><li>- Burkert, Walter, (1977) 1985. <i>Greek Religion</i>, especially section III.ii.1 (Harvard University Press)\\n</li><li>- <a href=\"Arthur%20Bernard%20Cook\">Cook, Arthur Bernard</a>, <i>Zeus: A Study in Ancient Religion</i>, (3 volume set), (1914–1925). New York, Bibilo & Tannen: 1964.\\n</li><li>- Volume 1: <i>Zeus, God of the Bright Sky</i>, Biblo-Moser, June 1, 1964, (reprint)\\n</li><li>- Volume 2: <i>Zeus, God of the Dark Sky (Thunder and Lightning)</i>, Biblo-Moser, June 1, 1964,\\n</li><li>- Volume 3: <i>Zeus, God of the Dark Sky (earthquakes, clouds, wind, dew, rain, meteorites)</i>\\n</li><li>- <a href=\"Maurice%20Druon\">Druon, Maurice</a>, <i>The Memoirs of Zeus</i>, 1964, Charles Scribner\\'s and Sons. (tr. Humphrey Hare)\\n</li><li>- Farnell, Lewis Richard, <i>Cults of the Greek States</i> 5 vols. Oxford; Clarendon 1896–1909. Still the standard reference.\\n</li><li>- Farnell, Lewis Richard, <i>Greek Hero Cults and Ideas of Immortality</i>, 1921.\\n</li><li>- Gantz, Timothy, <i>Early Greek Myth: A Guide to Literary and Artistic Sources</i>, Johns Hopkins University Press, 1996, Two volumes: (Vol. 1), (Vol. 2).\\n</li><li>- <a href=\"Robert%20Graves\">Graves, Robert</a>; <i><a href=\"The%20Greek%20Myths\">The Greek Myths</a></i>, Penguin Books Ltd. (1960 edition)\\n</li><li>- <a href=\"Hesiod\">Hesiod</a>, <i><a href=\"Theogony\">Theogony</a></i>, in <i>The Homeric Hymns and Homerica with an English Translation by Hugh G. Evelyn-White</i>, Cambridge, Massachusetts., Harvard University Press; London, William Heinemann Ltd. 1914. <a href=\"https%3A//web.archive.org/web/20150823032802/http%3A//www.perseus.tufts.edu/hopper/text%3Fdoc%3DPerseus%253Atext%253A1999.01.0130%253Acard%253D1\">Online version at the Perseus Digital Library</a>.\\n</li><li>- <a href=\"Homer\">Homer</a>, <i>The Iliad with an English Translation by A.T. Murray, Ph.D. in two volumes</i>. Cambridge, Massachusetts., Harvard University Press; London, William Heinemann, Ltd. 1924. <a href=\"http%3A//www.perseus.tufts.edu/hopper/text%3Fdoc%3DPerseus%253Atext%253A1999.01.0134%253Abook%253D1%253Acard%253D1\">Online version at the Perseus Digital Library</a>.\\n</li><li>- <a href=\"Homer\">Homer</a>; <i>The Odyssey with an English Translation by A.T. Murray, PH.D. in two volumes</i>. Cambridge, Massachusetts., Harvard University Press; London, William Heinemann, Ltd. 1919. <a href=\"http%3A//www.perseus.tufts.edu/hopper/text%3Fdoc%3DPerseus%253Atext%253A1999.01.0136%253Abook%253D1%253Acard%253D1\">Online version at the Perseus Digital Library</a>.\\n</li><li>- <a href=\"William%20Mitford\">Mitford, William</a>, <i>The History of Greece</i>, 1784. Cf. v.1, Chapter II, <i>Religion of the Early Greeks</i>\\n</li><li>- Moore, Clifford H., <i>The Religious Thought of the Greeks</i>, 1916.\\n</li><li>- <a href=\"http%3A//www.sacred-texts.com/cla/gpr/\">Nilsson, Martin P., <i>Greek Popular Religion</i>, 1940.</a>\\n</li><li>- Nilsson, Martin P., <i>History of Greek Religion</i>, 1949.\\n</li><li>- <a href=\"Erwin%20Rohde\">Rohde, Erwin</a>, <i>Psyche: The Cult of Souls and Belief in Immortality among the Greeks</i>, 1925.\\n</li><li>- <a href=\"William%20Smith%20%28lexicographer%29\">Smith, William</a>, <i><a href=\"Dictionary%20of%20Greek%20and%20Roman%20Biography%20and%20Mythology\">Dictionary of Greek and Roman Biography and Mythology</a></i>, 1870, <a href=\"https%3A//web.archive.org/web/20051130005902/http%3A//www.ancientlibrary.com/smith-bio/\">Ancientlibrary.com</a>, William Smith, <i>Dictionary</i>: \"Zeus\" <a href=\"https%3A//web.archive.org/web/20060422144416/http%3A//www.ancientlibrary.com/smith-bio/3655.html\">Ancientlibrary.com</a>\\n</li></ul>\\nExternal links.<ul><li>- <a href=\"http%3A//www.maicar.com/GML/Zeus.html\">Greek Mythology Link, Zeus</a> stories of Zeus in myth\\n</li><li>- <a href=\"http%3A//www.theoi.com/Olympios/Zeus.html\">Theoi Project, Zeus</a> summary, stories, classical art\\n</li><li>- <a href=\"http%3A//www.theoi.com/Cult/ZeusCult.html\">Theoi Project, Cult Of Zeus</a> cult and statues\\n</li><li>- <a href=\"http%3A//news.nationalgeographic.com/news/2007/01/070122-pagans-athens.html\">Photo: Pagans Honor Zeus at Ancient Athens Temple</a> from <i>National Geographic</i>\\n</li></ul>\\n\\n</doc>\\n'"
            ],
            "application/vnd.google.colaboratory.intrinsic+json": {
              "type": "string"
            }
          },
          "metadata": {},
          "execution_count": 8
        }
      ]
    },
    {
      "cell_type": "markdown",
      "source": [
        "## Organizando os dados\n",
        "\n",
        "Organizando o conjunto de teste para gerar um array de pergunta e resposta esperada.\n",
        "\n",
        "Imprime as 10 primeiras perguntas e respostas para checar.\n",
        "\n",
        "Daqui dá pra pegar as 150 questões e respostas pra gente testar no final."
      ],
      "metadata": {
        "id": "ogEObZYzn-JX"
      }
    },
    {
      "cell_type": "code",
      "source": [
        "perg_resposta_esperada = []\n",
        "\n",
        "for i in range(len(test_set)):\n",
        "  pr = test_set[i]['questions'][0]\n",
        "\n",
        "  pergunta = pr['question']\n",
        "  resposta_obj = pr['answer']\n",
        "  tipo_resposta = resposta_obj['type']\n",
        "\n",
        "  if tipo_resposta == 'binary' or tipo_resposta == 'value':\n",
        "    resposta = resposta_obj['answer_value']\n",
        "  elif tipo_resposta == 'span':\n",
        "    resposta = resposta_obj['answer_spans'][0]['text']\n",
        "  elif tipo_resposta == 'none':\n",
        "    resposta = 'none'\n",
        "  else:\n",
        "    resposta = 'Não pode chegar aqui, os tipos parece que são só binary/value/span/none!'\n",
        "    print(tipo_resposta)\n",
        "\n",
        "  perg_resposta_esperada.append({\"pergunta\": pergunta, \"resposta\": resposta})\n",
        "\n",
        "  if i < 10:\n",
        "    print(f\"{i}: {pergunta}\\n{resposta}\")\n",
        "    print('----------------------------------------------------------------------')\n",
        "\n"
      ],
      "metadata": {
        "colab": {
          "base_uri": "https://localhost:8080/"
        },
        "id": "XsrUHSVom7Zh",
        "outputId": "52275a9f-3c23-49fd-c529-f4a059d61ec2"
      },
      "execution_count": 9,
      "outputs": [
        {
          "output_type": "stream",
          "name": "stdout",
          "text": [
            "0: What is Zeus know for in Greek mythology?\n",
            "sky and thunder god\n",
            "----------------------------------------------------------------------\n",
            "1: How long had the First World War been over when Messe was named aide-de-camp?\n",
            "5\n",
            "----------------------------------------------------------------------\n",
            "2: How long had Angela Scoular been acting professionally when she appeared in the movie \"On Her Majesty's Secret Service\"?\n",
            "2\n",
            "----------------------------------------------------------------------\n",
            "3: What is the capacity of the stadium where Brunt returned to action after a torn ACL?\n",
            "26,688\n",
            "----------------------------------------------------------------------\n",
            "4: In which country was Wilhelm Müller born?\n",
            "Germany \n",
            "----------------------------------------------------------------------\n",
            "5: In which Italian region did Pesce studied medicine?\n",
            "Liguria\n",
            "----------------------------------------------------------------------\n",
            "6: What albums were ranked higher than \"It Takes a Nation of Millions to Hold Us Back\" in Rolling Stone's the 500 Greatest Albums of All Time?\n",
            "none\n",
            "----------------------------------------------------------------------\n",
            "7: When was the sports organization that the Turks and Caicos Islands became affiliate members in 2002 founded?\n",
            "1909\n",
            "----------------------------------------------------------------------\n",
            "8: When was the port established at the Port Phillip District?\n",
            "none\n",
            "----------------------------------------------------------------------\n",
            "9: At which tournament were more goals scored, 1984 Canada Cup or 1994 Ice Hockey World Championship?\n",
            "none\n",
            "----------------------------------------------------------------------\n"
          ]
        }
      ]
    },
    {
      "cell_type": "markdown",
      "source": [
        "# BM25"
      ],
      "metadata": {
        "id": "eFyeJClpmjet"
      }
    },
    {
      "cell_type": "markdown",
      "source": [
        "## Tratando os dados que serão indexados"
      ],
      "metadata": {
        "id": "Lp6ExLO3shjm"
      }
    },
    {
      "cell_type": "code",
      "execution_count": 10,
      "metadata": {
        "id": "h5duKClxmNgr"
      },
      "outputs": [],
      "source": [
        "import re\n",
        "\n",
        "# Remover o html igual está na base IIRC é bem mais rápido que usar o BeuatifulSoup\n",
        "# https://github.com/jferguson144/IIRC-baseline/blob/main/util.py\n",
        "def remove_html(html):\n",
        "  return re.sub(\"<[^>]*>\", \"\", html).strip()"
      ]
    },
    {
      "cell_type": "markdown",
      "source": [
        "Sobre a base IIRC:\n",
        "\n",
        "\"Contains more than 13K questions over paragraphs from English Wikipedia that provide only partial information to answer them, with the missing information occurring in one or more linked documents. The questions were written by crowd workers who did not have access to any of the linked documents, leading to questions that have little lexical overlap with the contexts where the answers appear.\" [https://paperswithcode.com/dataset/iirc]\n",
        "\n",
        "Assim, para a base de testes, vamos indexar todos os documentos relacionados à pergunta (ou seja, o documento e os linkados)."
      ],
      "metadata": {
        "id": "Sj_dEYILskSn"
      }
    },
    {
      "cell_type": "code",
      "source": [
        "%%time\n",
        "documents = []\n",
        "all_titles = []\n",
        "\n",
        "for item in test_set[:TOTAL_PERGUNTAS]:\n",
        "    if item['title'].lower() not in all_titles:\n",
        "        documents.append({\n",
        "                \"title\": item['title'],\n",
        "                \"content\": item[\"text\"]\n",
        "            }\n",
        "        )\n",
        "        all_titles.append(item['title'].lower())\n",
        "    for link in item[\"links\"]:\n",
        "        if link['target'].lower() in context_articles and link['target'].lower() not in all_titles:\n",
        "            documents.append({\n",
        "                \"title\": link['target'],\n",
        "                \"content\": context_articles[link['target'].lower()]\n",
        "            })\n",
        "            all_titles.append(link['target'].lower())\n",
        "        # else:\n",
        "            # print(link['target'].lower())"
      ],
      "metadata": {
        "colab": {
          "base_uri": "https://localhost:8080/"
        },
        "id": "Q_57jEaGnsZH",
        "outputId": "c0e002ef-3495-497b-ce4e-692d739b7bc4"
      },
      "execution_count": 11,
      "outputs": [
        {
          "output_type": "stream",
          "name": "stdout",
          "text": [
            "CPU times: user 70.8 ms, sys: 813 µs, total: 71.7 ms\n",
            "Wall time: 153 ms\n"
          ]
        }
      ]
    },
    {
      "cell_type": "markdown",
      "source": [
        "Limpa o HTML dos documentos:"
      ],
      "metadata": {
        "id": "-aWo7xxxtDZ3"
      }
    },
    {
      "cell_type": "code",
      "source": [
        "artigos_sem_html = []\n",
        "\n",
        "# Se for usar todos os context_articles para indexar:\n",
        "#for titulo in context_articles.keys():\n",
        "#  artigo_html = context_articles[titulo]\n",
        "#  artigos_sem_html.append({\"title\": titulo, \"content\": remove_html(artigo_html)})\n",
        "\n",
        "# Se for usar só os documentos que estão na base de teste\n",
        "for doc in documents:\n",
        "  titulo = doc['title']\n",
        "  conteudo = doc['content']\n",
        "  artigos_sem_html.append({\"title\": titulo, \"content\": remove_html(conteudo)})"
      ],
      "metadata": {
        "id": "-i3tL0nvs_3j"
      },
      "execution_count": 12,
      "outputs": []
    },
    {
      "cell_type": "markdown",
      "source": [
        "Quebra cada artigo em grupos de 3 sentenças. Usa a biblioteca Spacy para separar as sentenças.\n",
        "\n",
        "Código de origem: https://github.com/neuralmind-ai/visconde/blob/main/iirc_create_indices.ipynb"
      ],
      "metadata": {
        "id": "_PeHbIDTtJuG"
      }
    },
    {
      "cell_type": "code",
      "source": [
        "%%time\n",
        "from tqdm import tqdm\n",
        "import spacy\n",
        "import pickle\n",
        "\n",
        "nlp = spacy.blank(\"en\")\n",
        "nlp.add_pipe(\"sentencizer\")\n",
        "\n",
        "stride = 2\n",
        "max_length = 3\n",
        "\n",
        "def window(documents, stride=2, max_length=3):\n",
        "  treated_documents = []\n",
        "\n",
        "  for j, document in enumerate(tqdm(documents)):\n",
        "    doc_text = document['content']\n",
        "    doc = nlp(doc_text)\n",
        "    sentences = [sent.text.strip() for sent in doc.sents]\n",
        "    for i in range(0, len(sentences), stride):\n",
        "      segment = ' '.join(sentences[i:i + max_length])\n",
        "      treated_documents.append({\n",
        "          \"title\": document['title'],\n",
        "          \"contents\": document['title']+\". \"+segment,\n",
        "          \"segment\": segment\n",
        "      })\n",
        "      if i + max_length >= len(sentences):\n",
        "        break\n",
        "  return treated_documents\n",
        "\n",
        "\n",
        "artigos_segmentados = window(artigos_sem_html)"
      ],
      "metadata": {
        "colab": {
          "base_uri": "https://localhost:8080/"
        },
        "id": "M7FIwopgtKaD",
        "outputId": "c05a1865-0a3c-4e49-eeea-20aeac938aca"
      },
      "execution_count": 13,
      "outputs": [
        {
          "output_type": "stream",
          "name": "stderr",
          "text": [
            "100%|██████████| 2164/2164 [00:59<00:00, 36.07it/s]"
          ]
        },
        {
          "output_type": "stream",
          "name": "stdout",
          "text": [
            "CPU times: user 1min 2s, sys: 1.18 s, total: 1min 3s\n",
            "Wall time: 1min 9s\n"
          ]
        },
        {
          "output_type": "stream",
          "name": "stderr",
          "text": [
            "\n"
          ]
        }
      ]
    },
    {
      "cell_type": "code",
      "source": [
        "len(artigos_segmentados)"
      ],
      "metadata": {
        "colab": {
          "base_uri": "https://localhost:8080/"
        },
        "id": "YHZcoMb7tUDN",
        "outputId": "6d7b43ff-09c5-48ca-cc4a-9beaf330bc0a"
      },
      "execution_count": 14,
      "outputs": [
        {
          "output_type": "execute_result",
          "data": {
            "text/plain": [
              "161738"
            ]
          },
          "metadata": {},
          "execution_count": 14
        }
      ]
    },
    {
      "cell_type": "markdown",
      "source": [
        "## Implementação do BM25"
      ],
      "metadata": {
        "id": "28Fu1NphtW9o"
      }
    },
    {
      "cell_type": "code",
      "source": [
        "%%time\n",
        "from collections import Counter\n",
        "import array\n",
        "import pickle\n",
        "import math\n",
        "import nltk\n",
        "from nltk.corpus import stopwords\n",
        "from nltk.tokenize import word_tokenize\n",
        "from nltk.stem import PorterStemmer\n",
        "\n",
        "nltk.download('punkt')\n",
        "nltk.download('stopwords')\n",
        "\n",
        "# Definição de uma classe para índice invertido\n",
        "class IndiceInvertido:\n",
        "\n",
        "  # Recebe 'tokenizar', uma função tokenizadora\n",
        "  def __init__(self):\n",
        "    # Cria um índice invertido vazio\n",
        "    self.indice = {}\n",
        "    # Cria um índice de tamanho de documentos vazio\n",
        "    self.tamanho_doc = {}\n",
        "    # Guarda o total de documentos adicionados\n",
        "    self.n_docs = 0\n",
        "    # Tokenizador\n",
        "    self.stemmer = PorterStemmer()\n",
        "\n",
        "  def tokenizar(self, texto):\n",
        "    # Tokeniza\n",
        "    tokens = word_tokenize(texto)\n",
        "    # Converte para minúsculo, filtra stopwords e passa pelo Porter Stemer\n",
        "    tokens = [self.stemmer.stem(token.lower()) for token in tokens if token.lower() not in stopwords.words('english')]\n",
        "    # Converte para minúsculo, não filtra stopwords e passa pelo Porter Stemer\n",
        "    #tokens = [self.stemmer.stem(token.lower()) for token in tokens]\n",
        "\n",
        "    return tokens\n",
        "\n",
        "  def adiciona_doc(self, id_doc, conteudo_doc=None):\n",
        "    tokens = self.tokenizar(conteudo_doc)\n",
        "\n",
        "    contador_tokens_do_documento = Counter(tokens)\n",
        "    for token, n_ocorrencias in contador_tokens_do_documento.items():\n",
        "      self.indice.setdefault(token, {\"id_doc\": [], \"n_ocorrencias\": array.array(\"L\", [])})['id_doc'].append(id_doc)\n",
        "      self.indice.setdefault(token, {\"id_doc\": [], \"n_ocorrencias\": array.array(\"L\", [])})['n_ocorrencias'].append(n_ocorrencias)\n",
        "\n",
        "    self.n_docs += 1\n",
        "    self.tamanho_doc[id_doc] = len(tokens)\n",
        "\n",
        "class BM25:\n",
        "\n",
        "  def __init__(self, indiceInvertido=IndiceInvertido(), k1 = 0.9, b = 0.4, bias_adicionar_ao_idf = 0):\n",
        "    self.indiceInvertido = indiceInvertido\n",
        "    self.bias_adicionar_ao_idf = bias_adicionar_ao_idf\n",
        "    self.calcula_tam_medio_doc_no_indice()\n",
        "    self.k1 = k1\n",
        "    self.b = b\n",
        "    self.precalcula_idf()\n",
        "    self.reinicia_score_dos_indices()\n",
        "\n",
        "  def reinicia_score_dos_indices(self):\n",
        "    for token in self.indiceInvertido.indice.keys():\n",
        "      self.indiceInvertido.indice[token].pop('score', None)\n",
        "\n",
        "  def calcula_tam_medio_doc_no_indice(self):\n",
        "    self.avgdl = sum(self.indiceInvertido.tamanho_doc.values()) / self.indiceInvertido.n_docs\n",
        "\n",
        "  def precalcula_idf(self):\n",
        "    # Número de documento do corpus está presente no objeto indiceInvertido\n",
        "    N = self.indiceInvertido.n_docs\n",
        "    # Varre todos os tokens do índice. Os tokens são as chaves do indiceInvertido.indice\n",
        "    for token in self.indiceInvertido.indice.keys():\n",
        "      # O número de documentos que possui o token é calculado pelo tamanho da lista de id_doc:\n",
        "      n_doc_token = len(self.indiceInvertido.indice[token]['id_doc'])\n",
        "      # Isso já é o suficiente pra calcular o idf\n",
        "      idf_token = math.log( ((self.indiceInvertido.n_docs - n_doc_token + 0.5)/(n_doc_token + 0.5)) + self.bias_adicionar_ao_idf )\n",
        "      # E agora, vamos colocar essa informação no índice\n",
        "      self.indiceInvertido.indice[token]['idf'] = idf_token\n",
        "\n",
        "  def calcula_score_para_um_token_e_salva(self, token):\n",
        "    # O cálculo do BM25 para determinada query é a multiplicação do idf pela frequência do termo no documento * (k1 + 1)\n",
        "    # Além disso, é dividido pela frequencia do termo no documento + k1 * (1 - b + b * tamanho_doc/avgdl)\n",
        "    idf = self.indiceInvertido.indice[token]['idf']\n",
        "    # Juntando tudo, podemos calcular o score pelo BM25\n",
        "    zip_id_freq = zip(self.indiceInvertido.indice[token]['id_doc'], self.indiceInvertido.indice[token]['n_ocorrencias'])\n",
        "    bm25 = array.array(\"f\", [ idf * freq_token_no_doc * (self.k1 + 1) / (freq_token_no_doc + self.k1 * (1 - self.b + self.b * self.indiceInvertido.tamanho_doc[id_doc] / self.avgdl)) for (id_doc, freq_token_no_doc) in zip_id_freq ])\n",
        "    # Salva o bm25 no índice\n",
        "    self.indiceInvertido.indice[token]['score'] = bm25\n",
        "\n",
        "  def tokenizar(self, query):\n",
        "    return self.indiceInvertido.tokenizar(query)\n",
        "\n",
        "  def pesquisar(self, query):\n",
        "    # Tokeniza a query\n",
        "    tokens = self.tokenizar(query)\n",
        "\n",
        "    # Se não tem token para ser pesquisado, retorna conjunto vazio\n",
        "    if (len(tokens) == 0):\n",
        "      return []\n",
        "\n",
        "    # Guarda um dicionário onde a chave é o id do documento e o valor é o score desse documento para a query pesquisada\n",
        "    docs_retornado_com_score = Counter({})\n",
        "\n",
        "    # Faz a pesquisa de documentos. Para isso iteramos todos os tokens da query\n",
        "    for token in tokens:\n",
        "      # É possível que a query contenha algum termo que não foi indexado. Se isso ocorrer,\n",
        "      # entende-se que a frequência desse token em qualquer documento é 0, já que não pode ser encontrado\n",
        "      if token not in self.indiceInvertido.indice:\n",
        "        continue\n",
        "\n",
        "      # Pega a lista de documentos que será analisado\n",
        "      docs_que_tem_token = self.indiceInvertido.indice[token]['id_doc']\n",
        "\n",
        "      # Se for a primeira vez que esse token é pesquisado, é necessário calcular o score relacionado\n",
        "      # a ele e salvar. Se já tiver sido feito antes, já podemos buscar o cálculo pronto (que funciona\n",
        "      # como um cache. Isso é útil no caso de várias pesquisas seguidas)\n",
        "      if 'score' not in self.indiceInvertido.indice[token].keys():\n",
        "        self.calcula_score_para_um_token_e_salva(token)\n",
        "      score_dos_docs_deste_token = self.indiceInvertido.indice[token]['score']\n",
        "\n",
        "      # Agora já temos calculado o score de todos os documentos desse token. Só adiciona ao acumulador de score atual\n",
        "      # docs_retornado_com_score += score_dos_docs_deste_token -> Se fosse usar dict direto no índice seria assim, mas a memória não está aguentando guardar os scores de ambos\n",
        "      for id_doc, score_par_doc_token in zip(docs_que_tem_token, score_dos_docs_deste_token):\n",
        "        docs_retornado_com_score[id_doc] += score_par_doc_token\n",
        "\n",
        "    # Agora converte esse dict em uma lista de tuplas com a chave (id_doc) e valor (score_do_doc)\n",
        "    docs_com_score = list(docs_retornado_com_score.items())\n",
        "\n",
        "    # E ordena do mais relevante para o menos relevante\n",
        "    return sorted(docs_com_score, key=lambda x: x[1], reverse=True)"
      ],
      "metadata": {
        "colab": {
          "base_uri": "https://localhost:8080/"
        },
        "id": "I2escT_6tYwB",
        "outputId": "0e109c5f-612d-4609-dcab-527ac3aaa1ac"
      },
      "execution_count": 15,
      "outputs": [
        {
          "output_type": "stream",
          "name": "stderr",
          "text": [
            "[nltk_data] Downloading package punkt to /root/nltk_data...\n",
            "[nltk_data]   Unzipping tokenizers/punkt.zip.\n"
          ]
        },
        {
          "output_type": "stream",
          "name": "stdout",
          "text": [
            "CPU times: user 1.27 s, sys: 446 ms, total: 1.72 s\n",
            "Wall time: 2.75 s\n"
          ]
        },
        {
          "output_type": "stream",
          "name": "stderr",
          "text": [
            "[nltk_data] Downloading package stopwords to /root/nltk_data...\n",
            "[nltk_data]   Unzipping corpora/stopwords.zip.\n"
          ]
        }
      ]
    },
    {
      "cell_type": "markdown",
      "source": [
        "Testa uma tokenização qualquer:"
      ],
      "metadata": {
        "id": "f0nzV198wybT"
      }
    },
    {
      "cell_type": "code",
      "source": [
        "iidx = IndiceInvertido()\n",
        "iidx.tokenizar('What is Zeus know for in Greek mythology?')"
      ],
      "metadata": {
        "colab": {
          "base_uri": "https://localhost:8080/"
        },
        "id": "JgYHa2CgwxrL",
        "outputId": "e9cc6fb3-7f57-4042-a8bd-5faaa50f8417"
      },
      "execution_count": 16,
      "outputs": [
        {
          "output_type": "execute_result",
          "data": {
            "text/plain": [
              "['zeu', 'know', 'greek', 'mytholog', '?']"
            ]
          },
          "metadata": {},
          "execution_count": 16
        }
      ]
    },
    {
      "cell_type": "markdown",
      "source": [
        "Agora efetivamente indexa os artigos segmentados:"
      ],
      "metadata": {
        "id": "s7XgUnJ0uoHt"
      }
    },
    {
      "cell_type": "code",
      "source": [
        "def salvar_indice_em_arquivo_pickle(indice_invertido):\n",
        "  nome_arquivo_base = f\"{DIR_AULA8}{ARQUIVO_INDICE_INVERTIDO}\"\n",
        "\n",
        "  with open(f'{nome_arquivo_base}_indice.pickle', 'wb') as f:\n",
        "    pickle.dump(indice_invertido.indice, f)\n",
        "  with open(f'{nome_arquivo_base}_tamanho_doc.pickle', 'wb') as f:\n",
        "    pickle.dump(indice_invertido.tamanho_doc, f)\n",
        "\n",
        "def recuperar_indice_em_arquivo_pickle():\n",
        "  nome_arquivo_base = f\"{DIR_AULA8}{ARQUIVO_INDICE_INVERTIDO}\"\n",
        "  idx = IndiceInvertido()\n",
        "\n",
        "  with open(f'{nome_arquivo_base}_indice.pickle', 'rb') as f:\n",
        "    idx.indice = pickle.load(f)\n",
        "  with open(f'{nome_arquivo_base}_tamanho_doc.pickle', 'rb') as f:\n",
        "    idx.tamanho_doc = pickle.load(f)\n",
        "  idx.n_docs = len(idx.tamanho_doc)\n",
        "\n",
        "  return idx"
      ],
      "metadata": {
        "id": "jhMLIKKW2AVq"
      },
      "execution_count": 17,
      "outputs": []
    },
    {
      "cell_type": "code",
      "source": [
        "%%time\n",
        "iidx = IndiceInvertido()\n",
        "\n",
        "if GERAR_INDICE_INVERTIDO:\n",
        "  # Vamos usar o próprio índice como um id para o segmento. Vai facilitar a vida depois\n",
        "  # art_seg['contents'] tem o título e 3 frases do artigo\n",
        "  for id, art_seg in enumerate(artigos_segmentados):\n",
        "    iidx.adiciona_doc(id, art_seg['contents'])\n",
        "\n",
        "    if id % 10000 == 0:\n",
        "      print(f'{id} segmentos indexados')\n",
        "\n",
        "  salvar_indice_em_arquivo_pickle(iidx)\n",
        "else:\n",
        "  iidx = recuperar_indice_em_arquivo_pickle()"
      ],
      "metadata": {
        "colab": {
          "base_uri": "https://localhost:8080/"
        },
        "id": "WvCVHXxculsj",
        "outputId": "f0c57a86-d465-4399-e10d-bcc6dd1d2556"
      },
      "execution_count": 18,
      "outputs": [
        {
          "output_type": "stream",
          "name": "stdout",
          "text": [
            "CPU times: user 2.5 s, sys: 522 ms, total: 3.02 s\n",
            "Wall time: 5.05 s\n"
          ]
        }
      ]
    },
    {
      "cell_type": "markdown",
      "source": [
        "Agora sim cria o buscador BM25 e testa:"
      ],
      "metadata": {
        "id": "UDitxj6AxMry"
      }
    },
    {
      "cell_type": "code",
      "source": [
        "buscador = BM25(iidx, 0.82, 0.68, 1)\n",
        "buscador = BM25(iidx)"
      ],
      "metadata": {
        "id": "0jfBzRV4ut60"
      },
      "execution_count": 19,
      "outputs": []
    },
    {
      "cell_type": "markdown",
      "source": [
        "Faz um teste pesquisando a primeira pergunta e exibindo os 10 primeiros resultados do BM25."
      ],
      "metadata": {
        "id": "QSiTCvXuxPFl"
      }
    },
    {
      "cell_type": "code",
      "source": [
        "print('Pergunta e resposta esperada: ')\n",
        "print(perg_resposta_esperada[0])\n",
        "\n",
        "resultado_bm25 = buscador.pesquisar(perg_resposta_esperada[0]['pergunta'])\n",
        "\n",
        "print('-----------------------------------------------------------------')\n",
        "print('10 primeiros conteúdos retornados pelo BM25\\n')\n",
        "for i in range(10):\n",
        "  segmento_id = resultado_bm25[i][0]\n",
        "  score = resultado_bm25[i][1]\n",
        "\n",
        "  title = artigos_segmentados[segmento_id]['title']\n",
        "  contents = artigos_segmentados[segmento_id]['contents']\n",
        "  segment = artigos_segmentados[segmento_id]['segment']\n",
        "\n",
        "  print(f'Segmento_id: {segmento_id}. Score: {score}')\n",
        "  print(f\"Title: {title}\")\n",
        "  print(f\"Contents: {contents}\")\n",
        "  print('-----------------------------------------------------------------')"
      ],
      "metadata": {
        "colab": {
          "base_uri": "https://localhost:8080/"
        },
        "id": "rLWO6ceUxWl_",
        "outputId": "3afe9459-61ed-4a83-d42c-ae8a61f56248"
      },
      "execution_count": 20,
      "outputs": [
        {
          "output_type": "stream",
          "name": "stdout",
          "text": [
            "Pergunta e resposta esperada: \n",
            "{'pergunta': 'What is Zeus know for in Greek mythology?', 'resposta': 'sky and thunder god'}\n",
            "-----------------------------------------------------------------\n",
            "10 primeiros conteúdos retornados pelo BM25\n",
            "\n",
            "Segmento_id: 1140. Score: 25.03773307800293\n",
            "Title: Zeus\n",
            "Contents: Zeus. - Rohde, Erwin, Psyche: The Cult of Souls and Belief in Immortality among the Greeks, 1925. - Smith, William, Dictionary of Greek and Roman Biography and Mythology, 1870, Ancientlibrary.com, William Smith, Dictionary: \"Zeus\" Ancientlibrary.com\n",
            "\n",
            "External links.- Greek Mythology Link, Zeus stories of Zeus in myth\n",
            "- Theoi Project, Zeus summary, stories, classical art\n",
            "- Theoi Project, Cult Of Zeus cult and statues\n",
            "- Photo: Pagans Honor Zeus at Ancient Athens Temple from National Geographic\n",
            "-----------------------------------------------------------------\n",
            "Segmento_id: 510. Score: 24.084765434265137\n",
            "Title: Greek mythology\n",
            "Contents: Greek mythology. In Ancient Roman times, a new Roman mythology was born through syncretization of numerous Greek and other foreign gods. This occurred because the Romans had little mythology of their own, and inheritance of the Greek mythological tradition caused the major Roman gods to adopt characteristics of their Greek equivalents. The gods Zeus and Jupiter are an example of this mythological overlap.\n",
            "-----------------------------------------------------------------\n",
            "Segmento_id: 434. Score: 22.604285717010498\n",
            "Title: Greek mythology\n",
            "Contents: Greek mythology. Greek pantheon. According to Classical-era mythology, after the overthrow of the Titans, the new pantheon of gods and goddesses was confirmed. Among the principal Greek gods were the Olympians, residing on Mount Olympus under the eye of Zeus. (\n",
            "-----------------------------------------------------------------\n",
            "Segmento_id: 511. Score: 21.23982858657837\n",
            "Title: Greek mythology\n",
            "Contents: Greek mythology. The gods Zeus and Jupiter are an example of this mythological overlap. In addition to the combination of the two mythological traditions, the association of the Romans with eastern religions led to further syncretizations. For instance, the cult of Sun was introduced in Rome after Aurelian's successful campaigns in Syria.\n",
            "-----------------------------------------------------------------\n",
            "Segmento_id: 529. Score: 21.126102447509766\n",
            "Title: Greek mythology\n",
            "Contents: Greek mythology. In 1891, he claimed that \"the most important discovery which has been made during the nineteenth century with respect to the ancient history of mankind ... was this sample equation: Sanskrit Dyaus-pitar = Greek Zeus = Latin Jupiter = Old Norse Tyr\". The question of Greek mythology's place in Indo-European studies has generated much scholarship since Müller's time. For example, philologist Georges Dumézil draws a comparison between the Greek Uranus and the Sanskrit Varuna, although there is no hint that he believes them to be originally connected.\n",
            "-----------------------------------------------------------------\n",
            "Segmento_id: 423. Score: 21.06399393081665\n",
            "Title: Greek mythology\n",
            "Contents: Greek mythology. At last, with the help of the Cyclopes (whom Zeus freed from Tartarus), Zeus and his siblings were victorious, while Cronus and the Titans were hurled down to imprisonment in Tartarus. Zeus was plagued by the same concern, and after a prophecy that the offspring of his first wife, Metis, would give birth to a god \"greater than he\", Zeus swallowed her. She was already pregnant with Athena, however, and she burst forth from his head—fully-grown and dressed for war.\n",
            "-----------------------------------------------------------------\n",
            "Segmento_id: 136545. Score: 20.87095022201538\n",
            "Title: Balkan Mountains\n",
            "Contents: Balkan Mountains. The name of the place where the range meets the Black Sea, Cape Emine, is derived from Aemon. A folk etymology holds that 'Haemus' derives from the Greek word \"haima\" () meaning 'blood', and is based on Greek mythology. During a fight between Zeus and the monster/titan Typhon, Zeus injured Typhon with thunder; and Typhon's blood fell on the mountains, which were then named for this battle.\n",
            "-----------------------------------------------------------------\n",
            "Segmento_id: 422. Score: 20.671489715576172\n",
            "Title: Greek mythology\n",
            "Contents: Greek mythology. When Zeus was full grown, he fed Cronus a drugged drink which caused him to vomit, throwing up Rhea's other children, including Poseidon, Hades, Hestia, Demeter, and Hera, and the stone, which had been sitting in Cronus's stomach all this time. Zeus then challenged Cronus to war for the kingship of the gods. At last, with the help of the Cyclopes (whom Zeus freed from Tartarus), Zeus and his siblings were victorious, while Cronus and the Titans were hurled down to imprisonment in Tartarus.\n",
            "-----------------------------------------------------------------\n",
            "Segmento_id: 1142. Score: 20.520625591278076\n",
            "Title: Hephaestus\n",
            "Contents: Hephaestus. In Greek mythology, Hephaestus was either the son of Zeus and Hera or he was Hera's parthenogenous child. He was cast off Mount Olympus by his mother because of his deformity or, in another account, by Zeus for protecting Hera from his advances. As a smithing god, Hephaestus made all the weapons of the gods in Olympus.\n",
            "-----------------------------------------------------------------\n",
            "Segmento_id: 1161. Score: 20.027055263519287\n",
            "Title: Hephaestus\n",
            "Contents: Hephaestus. In one branch of Greek mythology, Hera ejected Hephaestus from the heavens because he was \"shrivelled of foot\". He fell into the ocean and was raised by Thetis (mother of Achilles and one of the 50 Nereids) and the Oceanid Eurynome. In another account, Hephaestus, attempting to rescue his mother from Zeus' advances, was flung down from the heavens by Zeus.\n",
            "-----------------------------------------------------------------\n"
          ]
        }
      ]
    },
    {
      "cell_type": "markdown",
      "source": [
        "# Agregação com Llama 3"
      ],
      "metadata": {
        "id": "CSKKhi4wxWJ6"
      }
    },
    {
      "cell_type": "markdown",
      "source": [
        "Vamos selecionar algumas perguntas/respostas pra passar no prompt:"
      ],
      "metadata": {
        "id": "vupct62Z0zLK"
      }
    },
    {
      "cell_type": "code",
      "source": [
        "def mensagem_user(numExemplo, pergunta, lista_documentos):\n",
        "  doc_com_id = [ f\"[Document {i+1}]: {lista_documentos[i]}\" for i in range(len(lista_documentos))]\n",
        "  return f\"Example {numExemplo}\\n\\n\" + \"\\n\\n\".join(doc_com_id) + f\"\\n\\nQuestion: {pergunta}\"\n",
        "\n",
        "def mensagem_assistant(evidencia, resposta):\n",
        "  return f\"Evidence: {evidencia}\\n\\nAnswer: {resposta}\"\n",
        "\n",
        "few_shot_examples = [\n",
        "    {\"user\": \"\", \"assistant\": \"\"},\n",
        "    {\"user\": \"\", \"assistant\": \"\"},\n",
        "]\n",
        "few_shot_examples[0][\"user\"] = mensagem_user(1, \"Did Pink Floyd have a song about the French Riviera?\", [\n",
        "    \"\\\"San Tropez\\\" is the fourth track from the album Meddle by the band Pink Floyd. This song was one of several to be considered for the band's \\\"best of\\\" album, Echoes: The Best of Pink Floyd.\",\n",
        "    \"The French Riviera (known in French as the Côte d'Azur [kot daˈzyʁ]; Occitan: Còsta d'Azur [ˈkɔstɔ daˈzyɾ]; literal translation \\\"Azure Coast\\\") is the Mediterranean coastline of the southeast corner of France. There is no official boundary, but it is usually considered to extend from Cassis, Toulon or Saint-Tropez on the west to Menton at the France–Italy border in the east, where the Italian Riviera joins. The coast is entirely within the Provence-Alpes-Côte d'Azur (Région Sud) region of France. The Principality of Monaco is a semi-enclave within the region, surrounded on three sides by France and fronting the Mediterranean.\",\n",
        "    \"Moon also promised transparency in his presidency, moving the presidential residence from the palatial and isolated Blue House to an existing government complex in downtown Seoul.\",\n",
        "    \"Saint-Tropez (US: /ˌsæn troʊˈpeɪ/ SAN-troh-PAY, French: [sɛ̃ tʁɔpe]; Occitan: Sant-Tropetz , pronounced [san(t) tʀuˈpes]) is a town on the French Riviera, 68 kilometres (42 miles) west of Nice and 100 kilometres (62 miles) east of Marseille in the Var department of the Provence-Alpes-Côte d'Azur region of Occitania, Southern France.\"\n",
        "])\n",
        "few_shot_examples[0][\"assistant\"] = mensagem_assistant(\"\\\"San Tropez\\\" is a song by Pink Floyd about the French Riviera [Document 1]. Saint-Tropez is a town on the French Riviera [Document 4]\", \"yes\")\n",
        "few_shot_examples[1][\"user\"] = mensagem_user(2, \"On what date did the Loma Prieta earthquake occur?\", [\n",
        "    \"The 1989 Loma Prieta earthquake occurred on California’s Central Coast on October 17 at local time (1989-10-18 00:04 UTC). The shock was centered in The Forest of Nisene Marks State Park approximately 10 mi northeast of Santa Cruz on a section of the San Andreas Fault System and was named for the nearby Loma Prieta Peak in the Santa Cruz Mountains. With an magnitude of 6.9 and a maximum Modified Mercalli intensity of IX (Violent), the shock was responsible for 63 deaths and 3,757 injuries.\",\n",
        "    \"'Foreshocks. The 5.3 June 1988 and the 5.4 August 1989 events also occurred on previously unknown oblique reverse faults and were within 3 mi of the M6.9 Loma Prieta mainshock epicenter, near the intersection of the San Andreas and Sargent faults. Total displacement for these shocks was relatively small (approximately 4 in of strike-slip and substantially less reverse-slip) and although they occurred on separate faults and well before the mainshock, a group of seismologists considered these to be foreshocks due to their location in space and time relative to the main event.'\",\n",
        "    \"The June 27, 1988, shock occurred with a maximum intensity of VI (Strong). Its effects included broken windows in Los Gatos, and other light damage in Holy City, where increased flow was observed at a water well. Farther away from the Santa Cruz Mountains, pieces of concrete fell from a parking structure at the Sunnyvale Town Center, a two-level shopping mall in Santa Clara County.\",\n",
        "    \"The 6.9 Loma Prieta earthquake occurred on October 17, 1989. The rupture was related to the San Andreas fault system and affected the entire San Francisco Bay Area with a maximum Mercalli intensity of IX (Violent). Many structures in Oakland were badly damaged including the double-decker portion of Interstate 880 that collapsed.\",\n",
        "])\n",
        "few_shot_examples[1][\"assistant\"] = mensagem_assistant(\"According to [Document 1] and [Document 4], the Loma Prieta earthquake occur on October 17, 1989\", \"1989-10-17\")\n",
        "\n",
        "initial_messages=[\n",
        "    {\"role\": \"system\", \"content\": \"You are a helpful reader who reads a list of documents and uses them as evidence to answer a question given by the user. For each example, you will write an explanation for the answer based on the documents and the question. Then, after explaining your reasoning, you will give your final answer, which should be short (less than 10 words).\"},\n",
        "    {\"role\": \"user\", \"content\": few_shot_examples[0][\"user\"]},\n",
        "    {\"role\": \"assistant\", \"content\": few_shot_examples[0][\"assistant\"]},\n",
        "    {\"role\": \"user\", \"content\": few_shot_examples[1][\"user\"]},\n",
        "    {\"role\": \"assistant\", \"content\": few_shot_examples[1][\"assistant\"]}\n",
        "]"
      ],
      "metadata": {
        "id": "-4adr0AsGzXH"
      },
      "execution_count": 21,
      "outputs": []
    },
    {
      "cell_type": "markdown",
      "source": [
        "Agora chamar o Llama e pegar a resposta:"
      ],
      "metadata": {
        "id": "XTgrjWz-Kc1c"
      }
    },
    {
      "cell_type": "code",
      "source": [
        "def get_passagens(pergunta, n=5):\n",
        "  passagens = []\n",
        "  resultado_bm25 = buscador.pesquisar(pergunta)\n",
        "\n",
        "  for i in range(min(len(resultado_bm25), n)):\n",
        "    segmento_id = resultado_bm25[i][0]\n",
        "    segment = artigos_segmentados[segmento_id]['segment']\n",
        "    passagens.append(segment)\n",
        "\n",
        "  return passagens\n"
      ],
      "metadata": {
        "id": "lxYH6uE2LJ5K"
      },
      "execution_count": 22,
      "outputs": []
    },
    {
      "cell_type": "code",
      "source": [
        "# Teste de como chamar o mensagem_user usando o retorno do BM25:\n",
        "\n",
        "teste_pergunta = test_set[0]['questions'][0]['question']\n",
        "teste_passagens = get_passagens(teste_pergunta, 5)\n",
        "print(mensagem_user(3, teste_pergunta, teste_passagens))"
      ],
      "metadata": {
        "colab": {
          "base_uri": "https://localhost:8080/"
        },
        "id": "4UTLU8QdLwun",
        "outputId": "644dc4d1-e74f-4f92-c266-4e731ba3e660"
      },
      "execution_count": 23,
      "outputs": [
        {
          "output_type": "stream",
          "name": "stdout",
          "text": [
            "Example 3\n",
            "\n",
            "[Document 1]: - Rohde, Erwin, Psyche: The Cult of Souls and Belief in Immortality among the Greeks, 1925. - Smith, William, Dictionary of Greek and Roman Biography and Mythology, 1870, Ancientlibrary.com, William Smith, Dictionary: \"Zeus\" Ancientlibrary.com\n",
            "\n",
            "External links.- Greek Mythology Link, Zeus stories of Zeus in myth\n",
            "- Theoi Project, Zeus summary, stories, classical art\n",
            "- Theoi Project, Cult Of Zeus cult and statues\n",
            "- Photo: Pagans Honor Zeus at Ancient Athens Temple from National Geographic\n",
            "\n",
            "[Document 2]: In Ancient Roman times, a new Roman mythology was born through syncretization of numerous Greek and other foreign gods. This occurred because the Romans had little mythology of their own, and inheritance of the Greek mythological tradition caused the major Roman gods to adopt characteristics of their Greek equivalents. The gods Zeus and Jupiter are an example of this mythological overlap.\n",
            "\n",
            "[Document 3]: Greek pantheon. According to Classical-era mythology, after the overthrow of the Titans, the new pantheon of gods and goddesses was confirmed. Among the principal Greek gods were the Olympians, residing on Mount Olympus under the eye of Zeus. (\n",
            "\n",
            "[Document 4]: The gods Zeus and Jupiter are an example of this mythological overlap. In addition to the combination of the two mythological traditions, the association of the Romans with eastern religions led to further syncretizations. For instance, the cult of Sun was introduced in Rome after Aurelian's successful campaigns in Syria.\n",
            "\n",
            "[Document 5]: In 1891, he claimed that \"the most important discovery which has been made during the nineteenth century with respect to the ancient history of mankind ... was this sample equation: Sanskrit Dyaus-pitar = Greek Zeus = Latin Jupiter = Old Norse Tyr\". The question of Greek mythology's place in Indo-European studies has generated much scholarship since Müller's time. For example, philologist Georges Dumézil draws a comparison between the Greek Uranus and the Sanskrit Varuna, although there is no hint that he believes them to be originally connected.\n",
            "\n",
            "Question: What is Zeus know for in Greek mythology?\n"
          ]
        }
      ]
    },
    {
      "cell_type": "code",
      "source": [
        "from groq import Groq\n",
        "\n",
        "client = Groq(api_key=GROQ_API)\n",
        "\n",
        "def chat_completion(pergunta, n=5):\n",
        "    # Documentação: https://console.groq.com/docs/text-chat\n",
        "    messages = []\n",
        "    # Adiciona as mensagens de sistema e few-shot\n",
        "    messages.extend(initial_messages)\n",
        "    # Sempre adiciona o prompt do usuário\n",
        "    passagens = get_passagens(pergunta, n)\n",
        "    user_message = mensagem_user(3, pergunta, passagens)\n",
        "    messages.append({\n",
        "        # Set a user message for the assistant to respond to.\n",
        "        \"role\": \"user\",\n",
        "        \"content\": user_message\n",
        "    })\n",
        "    chat_completion = client.chat.completions.create(\n",
        "        messages=messages,\n",
        "\n",
        "        # The language model which will generate the completion.\n",
        "        model=\"llama3-70b-8192\",\n",
        "\n",
        "        # Controls randomness: lowering results in less random completions.\n",
        "        # As the temperature approaches zero, the model will become deterministic\n",
        "        # and repetitive.\n",
        "        temperature=0,\n",
        "\n",
        "        # The maximum number of tokens to generate. Requests can use up to\n",
        "        # 32,768 tokens shared between prompt and completion.\n",
        "        max_tokens=1024,\n",
        "\n",
        "        # Controls diversity via nucleus sampling: 0.5 means half of all\n",
        "        # likelihood-weighted options are considered.\n",
        "        top_p=1,\n",
        "\n",
        "        # A stop sequence is a predefined or user-specified text string that\n",
        "        # signals an AI to stop generating content, ensuring its responses\n",
        "        # remain focused and concise. Examples include punctuation marks and\n",
        "        # markers like \"[end]\".\n",
        "        stop=None,\n",
        "\n",
        "        # If set, partial message deltas will be sent.\n",
        "        stream=False,\n",
        "    )\n",
        "    # Retorna o texto da primeira mensagem e, caso seja necessário usar depois,\n",
        "    # todo o objeto\n",
        "    return chat_completion.choices[0].message.content, chat_completion"
      ],
      "metadata": {
        "id": "5OFg4qytKfGT"
      },
      "execution_count": 24,
      "outputs": []
    },
    {
      "cell_type": "code",
      "source": [
        "perg_resp_esperada_obtida = []"
      ],
      "metadata": {
        "id": "akVxi77WZtq5"
      },
      "execution_count": 25,
      "outputs": []
    },
    {
      "cell_type": "code",
      "source": [
        "from tqdm import tqdm\n",
        "\n",
        "def salvar_perg_resp_esperada_obtida(perg_resp_esperada_obtida):\n",
        "  nome_arquivo = f\"{DIR_AULA8}{ARQUIVO_AGREGADO}\"\n",
        "  with open(nome_arquivo, 'wb') as f:\n",
        "    pickle.dump(perg_resp_esperada_obtida, f)\n",
        "\n",
        "def recuperar_perg_resp_esperada_obtida():\n",
        "  nome_arquivo_base = f\"{DIR_AULA8}{ARQUIVO_AGREGADO}\"\n",
        "  perg_respostas = []\n",
        "  with open(nome_arquivo_base, 'rb') as f:\n",
        "    perg_respostas = pickle.load(f)\n",
        "  return perg_respostas"
      ],
      "metadata": {
        "id": "LpiTNAgOLGWa"
      },
      "execution_count": 26,
      "outputs": []
    },
    {
      "cell_type": "code",
      "source": [
        "import time\n",
        "\n",
        "# Do jeito que foi implementado, se der problema (rate limit), basta executar a\n",
        "# célula novamente. Ele vai continuar de onde parou\n",
        "if AGREGAR_DOCUMENTOS:\n",
        "  for perg_resp in tqdm(perg_resposta_esperada[len(perg_resp_esperada_obtida):TOTAL_PERGUNTAS]):\n",
        "    pergunta = perg_resp['pergunta']\n",
        "    resposta_esperada = perg_resp['resposta']\n",
        "    resposta_obtida = chat_completion(pergunta)\n",
        "\n",
        "    perg_resp_esperada_obtida.append({\n",
        "        \"pergunta\": pergunta,\n",
        "        \"resposta_esperada\": resposta_esperada,\n",
        "        \"resposta_obtida\": resposta_obtida\n",
        "    })\n",
        "    time.sleep(10)\n",
        "  salvar_perg_resp_esperada_obtida(perg_resp_esperada_obtida)\n",
        "else:\n",
        "  perg_resp_esperada_obtida = recuperar_perg_resp_esperada_obtida()"
      ],
      "metadata": {
        "id": "_VHx5_vAZyJr"
      },
      "execution_count": 27,
      "outputs": []
    },
    {
      "cell_type": "markdown",
      "source": [
        "# Cálculo do F1"
      ],
      "metadata": {
        "id": "1f_h0IeAYbVk"
      }
    },
    {
      "cell_type": "code",
      "source": [
        "# Funções normize_answer e token_f1_score foram retiradas do Visconde (arquivo qasper_evaluator.py)\n",
        "import re\n",
        "import string\n",
        "\n",
        "def normalize_answer(s):\n",
        "  \"\"\"\n",
        "  Taken from the official evaluation script for v1.1 of the SQuAD dataset.\n",
        "  Lower text and remove punctuation, articles and extra whitespace.\n",
        "  \"\"\"\n",
        "\n",
        "  def remove_articles(text):\n",
        "      return re.sub(r\"\\b(a|an|the)\\b\", \" \", text)\n",
        "\n",
        "  def white_space_fix(text):\n",
        "      return \" \".join(text.split())\n",
        "\n",
        "  def remove_punc(text):\n",
        "      exclude = set(string.punctuation)\n",
        "      return \"\".join(ch for ch in text if ch not in exclude)\n",
        "\n",
        "  def lower(text):\n",
        "      return text.lower()\n",
        "\n",
        "  return white_space_fix(remove_articles(remove_punc(lower(s))))\n",
        "\n",
        "def token_f1_score(prediction, ground_truth):\n",
        "  \"\"\"\n",
        "  Taken from the official evaluation script for v1.1 of the SQuAD dataset.\n",
        "  \"\"\"\n",
        "  prediction_tokens = normalize_answer(prediction).split()\n",
        "  ground_truth_tokens = normalize_answer(ground_truth).split()\n",
        "  common = Counter(prediction_tokens) & Counter(ground_truth_tokens)\n",
        "  num_same = sum(common.values())\n",
        "  if num_same == 0:\n",
        "      return 0\n",
        "  precision = 1.0 * num_same / len(prediction_tokens)\n",
        "  recall = 1.0 * num_same / len(ground_truth_tokens)\n",
        "  f1 = (2 * precision * recall) / (precision + recall)\n",
        "  return f1\n",
        "\n",
        "def extrai_resposta(resp):\n",
        "  idx_resposta_llm = resp.find('Answer: ') + 8\n",
        "  return resp[idx_resposta_llm:]\n",
        "\n",
        "# Trata respostas vazias do GPT-3.5\n",
        "def uniformiza_resposta_vazia(resp):\n",
        "  valores_possiveis = [\"n/a\", \"it is not possible to determine\", \"no information in the documents\", \"no information provided\", \"none of the documents\", \"documents do not provide\", \"unknown\", \"cannot be answered\", \"not mentioned\", \"not specified\", \"n/a\", \"not available\", \"insufficient data\", \"not enough information\", \"cannot be determined\", \"there is no mention\", \"no information available\"]\n",
        "\n",
        "  if resp == '':\n",
        "    return 'none'\n",
        "\n",
        "  resp = resp.lower()\n",
        "\n",
        "  for valor_none in valores_possiveis:\n",
        "    if valor_none in resp:\n",
        "      return 'none'\n",
        "\n",
        "  return resp"
      ],
      "metadata": {
        "id": "7N10kTxRYc7S"
      },
      "execution_count": 28,
      "outputs": []
    },
    {
      "cell_type": "code",
      "source": [
        "import pandas as pd\n",
        "\n",
        "col_queries = []\n",
        "col_resp_esperadas = []\n",
        "col_respostas_llm = []\n",
        "col_f1_score = []\n",
        "col_em_score = []\n",
        "\n",
        "for perg_respostas in perg_resp_esperada_obtida:\n",
        "  query = perg_respostas['pergunta']\n",
        "  resposta_esperada = normalize_answer(perg_respostas['resposta_esperada'])\n",
        "  resposta_llm = normalize_answer(uniformiza_resposta_vazia(extrai_resposta(perg_respostas['resposta_obtida'][0])))\n",
        "  f1_score = token_f1_score(resposta_llm, resposta_esperada)\n",
        "  em_score = 1 if resposta_llm == resposta_esperada else 0\n",
        "\n",
        "  #print(f'{query}\\n{resposta_esperada}\\n{resposta_llm}\\n---------------------------------------------')\n",
        "\n",
        "  col_queries.append(query)\n",
        "  col_resp_esperadas.append(resposta_esperada)\n",
        "  col_respostas_llm.append(resposta_llm)\n",
        "  col_f1_score.append(f1_score)\n",
        "  col_em_score.append(em_score)\n",
        "\n",
        "df = pd.DataFrame({'Query': col_queries, 'Resp_esperada': col_resp_esperadas, 'Resposta_LLM': col_respostas_llm, 'F1_score': col_f1_score, 'EM_score': col_em_score})\n",
        "df"
      ],
      "metadata": {
        "colab": {
          "base_uri": "https://localhost:8080/",
          "height": 423
        },
        "id": "DmjxNTAiYkHa",
        "outputId": "14730ae9-1488-43f4-c37d-42951792d6ab"
      },
      "execution_count": 29,
      "outputs": [
        {
          "output_type": "execute_result",
          "data": {
            "text/plain": [
              "                                                 Query        Resp_esperada  \\\n",
              "0            What is Zeus know for in Greek mythology?  sky and thunder god   \n",
              "1    How long had the First World War been over whe...                    5   \n",
              "2    How long had Angela Scoular been acting profes...                    2   \n",
              "3    What is the capacity of the stadium where Brun...                26688   \n",
              "4            In which country was Wilhelm Müller born?              germany   \n",
              "..                                                 ...                  ...   \n",
              "145  Which of the destinations had the largest popu...                 none   \n",
              "146  Was Rao alive when Manmohan Singh was prime mi...                  yes   \n",
              "147  Who was in charge of the London County Council...  municipal reformers   \n",
              "148  How many years passed between the sack of Cons...                    4   \n",
              "149  How many weeks did \"What Hurts the Most\" spend...                 none   \n",
              "\n",
              "           Resposta_LLM  F1_score  EM_score  \n",
              "0    being king of gods  0.000000         0  \n",
              "1               5 years  0.666667         0  \n",
              "2      at least 2 years  0.400000         0  \n",
              "3                  none  0.000000         0  \n",
              "4               germany  1.000000         1  \n",
              "..                  ...       ...       ...  \n",
              "145       new york city  0.000000         0  \n",
              "146                  no  0.000000         0  \n",
              "147                none  0.000000         0  \n",
              "148             4 years  0.666667         0  \n",
              "149                none  1.000000         1  \n",
              "\n",
              "[150 rows x 5 columns]"
            ],
            "text/html": [
              "\n",
              "  <div id=\"df-54cf0a27-446d-42c5-abd5-21f447151a74\" class=\"colab-df-container\">\n",
              "    <div>\n",
              "<style scoped>\n",
              "    .dataframe tbody tr th:only-of-type {\n",
              "        vertical-align: middle;\n",
              "    }\n",
              "\n",
              "    .dataframe tbody tr th {\n",
              "        vertical-align: top;\n",
              "    }\n",
              "\n",
              "    .dataframe thead th {\n",
              "        text-align: right;\n",
              "    }\n",
              "</style>\n",
              "<table border=\"1\" class=\"dataframe\">\n",
              "  <thead>\n",
              "    <tr style=\"text-align: right;\">\n",
              "      <th></th>\n",
              "      <th>Query</th>\n",
              "      <th>Resp_esperada</th>\n",
              "      <th>Resposta_LLM</th>\n",
              "      <th>F1_score</th>\n",
              "      <th>EM_score</th>\n",
              "    </tr>\n",
              "  </thead>\n",
              "  <tbody>\n",
              "    <tr>\n",
              "      <th>0</th>\n",
              "      <td>What is Zeus know for in Greek mythology?</td>\n",
              "      <td>sky and thunder god</td>\n",
              "      <td>being king of gods</td>\n",
              "      <td>0.000000</td>\n",
              "      <td>0</td>\n",
              "    </tr>\n",
              "    <tr>\n",
              "      <th>1</th>\n",
              "      <td>How long had the First World War been over whe...</td>\n",
              "      <td>5</td>\n",
              "      <td>5 years</td>\n",
              "      <td>0.666667</td>\n",
              "      <td>0</td>\n",
              "    </tr>\n",
              "    <tr>\n",
              "      <th>2</th>\n",
              "      <td>How long had Angela Scoular been acting profes...</td>\n",
              "      <td>2</td>\n",
              "      <td>at least 2 years</td>\n",
              "      <td>0.400000</td>\n",
              "      <td>0</td>\n",
              "    </tr>\n",
              "    <tr>\n",
              "      <th>3</th>\n",
              "      <td>What is the capacity of the stadium where Brun...</td>\n",
              "      <td>26688</td>\n",
              "      <td>none</td>\n",
              "      <td>0.000000</td>\n",
              "      <td>0</td>\n",
              "    </tr>\n",
              "    <tr>\n",
              "      <th>4</th>\n",
              "      <td>In which country was Wilhelm Müller born?</td>\n",
              "      <td>germany</td>\n",
              "      <td>germany</td>\n",
              "      <td>1.000000</td>\n",
              "      <td>1</td>\n",
              "    </tr>\n",
              "    <tr>\n",
              "      <th>...</th>\n",
              "      <td>...</td>\n",
              "      <td>...</td>\n",
              "      <td>...</td>\n",
              "      <td>...</td>\n",
              "      <td>...</td>\n",
              "    </tr>\n",
              "    <tr>\n",
              "      <th>145</th>\n",
              "      <td>Which of the destinations had the largest popu...</td>\n",
              "      <td>none</td>\n",
              "      <td>new york city</td>\n",
              "      <td>0.000000</td>\n",
              "      <td>0</td>\n",
              "    </tr>\n",
              "    <tr>\n",
              "      <th>146</th>\n",
              "      <td>Was Rao alive when Manmohan Singh was prime mi...</td>\n",
              "      <td>yes</td>\n",
              "      <td>no</td>\n",
              "      <td>0.000000</td>\n",
              "      <td>0</td>\n",
              "    </tr>\n",
              "    <tr>\n",
              "      <th>147</th>\n",
              "      <td>Who was in charge of the London County Council...</td>\n",
              "      <td>municipal reformers</td>\n",
              "      <td>none</td>\n",
              "      <td>0.000000</td>\n",
              "      <td>0</td>\n",
              "    </tr>\n",
              "    <tr>\n",
              "      <th>148</th>\n",
              "      <td>How many years passed between the sack of Cons...</td>\n",
              "      <td>4</td>\n",
              "      <td>4 years</td>\n",
              "      <td>0.666667</td>\n",
              "      <td>0</td>\n",
              "    </tr>\n",
              "    <tr>\n",
              "      <th>149</th>\n",
              "      <td>How many weeks did \"What Hurts the Most\" spend...</td>\n",
              "      <td>none</td>\n",
              "      <td>none</td>\n",
              "      <td>1.000000</td>\n",
              "      <td>1</td>\n",
              "    </tr>\n",
              "  </tbody>\n",
              "</table>\n",
              "<p>150 rows × 5 columns</p>\n",
              "</div>\n",
              "    <div class=\"colab-df-buttons\">\n",
              "\n",
              "  <div class=\"colab-df-container\">\n",
              "    <button class=\"colab-df-convert\" onclick=\"convertToInteractive('df-54cf0a27-446d-42c5-abd5-21f447151a74')\"\n",
              "            title=\"Convert this dataframe to an interactive table.\"\n",
              "            style=\"display:none;\">\n",
              "\n",
              "  <svg xmlns=\"http://www.w3.org/2000/svg\" height=\"24px\" viewBox=\"0 -960 960 960\">\n",
              "    <path d=\"M120-120v-720h720v720H120Zm60-500h600v-160H180v160Zm220 220h160v-160H400v160Zm0 220h160v-160H400v160ZM180-400h160v-160H180v160Zm440 0h160v-160H620v160ZM180-180h160v-160H180v160Zm440 0h160v-160H620v160Z\"/>\n",
              "  </svg>\n",
              "    </button>\n",
              "\n",
              "  <style>\n",
              "    .colab-df-container {\n",
              "      display:flex;\n",
              "      gap: 12px;\n",
              "    }\n",
              "\n",
              "    .colab-df-convert {\n",
              "      background-color: #E8F0FE;\n",
              "      border: none;\n",
              "      border-radius: 50%;\n",
              "      cursor: pointer;\n",
              "      display: none;\n",
              "      fill: #1967D2;\n",
              "      height: 32px;\n",
              "      padding: 0 0 0 0;\n",
              "      width: 32px;\n",
              "    }\n",
              "\n",
              "    .colab-df-convert:hover {\n",
              "      background-color: #E2EBFA;\n",
              "      box-shadow: 0px 1px 2px rgba(60, 64, 67, 0.3), 0px 1px 3px 1px rgba(60, 64, 67, 0.15);\n",
              "      fill: #174EA6;\n",
              "    }\n",
              "\n",
              "    .colab-df-buttons div {\n",
              "      margin-bottom: 4px;\n",
              "    }\n",
              "\n",
              "    [theme=dark] .colab-df-convert {\n",
              "      background-color: #3B4455;\n",
              "      fill: #D2E3FC;\n",
              "    }\n",
              "\n",
              "    [theme=dark] .colab-df-convert:hover {\n",
              "      background-color: #434B5C;\n",
              "      box-shadow: 0px 1px 3px 1px rgba(0, 0, 0, 0.15);\n",
              "      filter: drop-shadow(0px 1px 2px rgba(0, 0, 0, 0.3));\n",
              "      fill: #FFFFFF;\n",
              "    }\n",
              "  </style>\n",
              "\n",
              "    <script>\n",
              "      const buttonEl =\n",
              "        document.querySelector('#df-54cf0a27-446d-42c5-abd5-21f447151a74 button.colab-df-convert');\n",
              "      buttonEl.style.display =\n",
              "        google.colab.kernel.accessAllowed ? 'block' : 'none';\n",
              "\n",
              "      async function convertToInteractive(key) {\n",
              "        const element = document.querySelector('#df-54cf0a27-446d-42c5-abd5-21f447151a74');\n",
              "        const dataTable =\n",
              "          await google.colab.kernel.invokeFunction('convertToInteractive',\n",
              "                                                    [key], {});\n",
              "        if (!dataTable) return;\n",
              "\n",
              "        const docLinkHtml = 'Like what you see? Visit the ' +\n",
              "          '<a target=\"_blank\" href=https://colab.research.google.com/notebooks/data_table.ipynb>data table notebook</a>'\n",
              "          + ' to learn more about interactive tables.';\n",
              "        element.innerHTML = '';\n",
              "        dataTable['output_type'] = 'display_data';\n",
              "        await google.colab.output.renderOutput(dataTable, element);\n",
              "        const docLink = document.createElement('div');\n",
              "        docLink.innerHTML = docLinkHtml;\n",
              "        element.appendChild(docLink);\n",
              "      }\n",
              "    </script>\n",
              "  </div>\n",
              "\n",
              "\n",
              "<div id=\"df-6b303237-cbef-42c8-9726-e137ffddabd6\">\n",
              "  <button class=\"colab-df-quickchart\" onclick=\"quickchart('df-6b303237-cbef-42c8-9726-e137ffddabd6')\"\n",
              "            title=\"Suggest charts\"\n",
              "            style=\"display:none;\">\n",
              "\n",
              "<svg xmlns=\"http://www.w3.org/2000/svg\" height=\"24px\"viewBox=\"0 0 24 24\"\n",
              "     width=\"24px\">\n",
              "    <g>\n",
              "        <path d=\"M19 3H5c-1.1 0-2 .9-2 2v14c0 1.1.9 2 2 2h14c1.1 0 2-.9 2-2V5c0-1.1-.9-2-2-2zM9 17H7v-7h2v7zm4 0h-2V7h2v10zm4 0h-2v-4h2v4z\"/>\n",
              "    </g>\n",
              "</svg>\n",
              "  </button>\n",
              "\n",
              "<style>\n",
              "  .colab-df-quickchart {\n",
              "      --bg-color: #E8F0FE;\n",
              "      --fill-color: #1967D2;\n",
              "      --hover-bg-color: #E2EBFA;\n",
              "      --hover-fill-color: #174EA6;\n",
              "      --disabled-fill-color: #AAA;\n",
              "      --disabled-bg-color: #DDD;\n",
              "  }\n",
              "\n",
              "  [theme=dark] .colab-df-quickchart {\n",
              "      --bg-color: #3B4455;\n",
              "      --fill-color: #D2E3FC;\n",
              "      --hover-bg-color: #434B5C;\n",
              "      --hover-fill-color: #FFFFFF;\n",
              "      --disabled-bg-color: #3B4455;\n",
              "      --disabled-fill-color: #666;\n",
              "  }\n",
              "\n",
              "  .colab-df-quickchart {\n",
              "    background-color: var(--bg-color);\n",
              "    border: none;\n",
              "    border-radius: 50%;\n",
              "    cursor: pointer;\n",
              "    display: none;\n",
              "    fill: var(--fill-color);\n",
              "    height: 32px;\n",
              "    padding: 0;\n",
              "    width: 32px;\n",
              "  }\n",
              "\n",
              "  .colab-df-quickchart:hover {\n",
              "    background-color: var(--hover-bg-color);\n",
              "    box-shadow: 0 1px 2px rgba(60, 64, 67, 0.3), 0 1px 3px 1px rgba(60, 64, 67, 0.15);\n",
              "    fill: var(--button-hover-fill-color);\n",
              "  }\n",
              "\n",
              "  .colab-df-quickchart-complete:disabled,\n",
              "  .colab-df-quickchart-complete:disabled:hover {\n",
              "    background-color: var(--disabled-bg-color);\n",
              "    fill: var(--disabled-fill-color);\n",
              "    box-shadow: none;\n",
              "  }\n",
              "\n",
              "  .colab-df-spinner {\n",
              "    border: 2px solid var(--fill-color);\n",
              "    border-color: transparent;\n",
              "    border-bottom-color: var(--fill-color);\n",
              "    animation:\n",
              "      spin 1s steps(1) infinite;\n",
              "  }\n",
              "\n",
              "  @keyframes spin {\n",
              "    0% {\n",
              "      border-color: transparent;\n",
              "      border-bottom-color: var(--fill-color);\n",
              "      border-left-color: var(--fill-color);\n",
              "    }\n",
              "    20% {\n",
              "      border-color: transparent;\n",
              "      border-left-color: var(--fill-color);\n",
              "      border-top-color: var(--fill-color);\n",
              "    }\n",
              "    30% {\n",
              "      border-color: transparent;\n",
              "      border-left-color: var(--fill-color);\n",
              "      border-top-color: var(--fill-color);\n",
              "      border-right-color: var(--fill-color);\n",
              "    }\n",
              "    40% {\n",
              "      border-color: transparent;\n",
              "      border-right-color: var(--fill-color);\n",
              "      border-top-color: var(--fill-color);\n",
              "    }\n",
              "    60% {\n",
              "      border-color: transparent;\n",
              "      border-right-color: var(--fill-color);\n",
              "    }\n",
              "    80% {\n",
              "      border-color: transparent;\n",
              "      border-right-color: var(--fill-color);\n",
              "      border-bottom-color: var(--fill-color);\n",
              "    }\n",
              "    90% {\n",
              "      border-color: transparent;\n",
              "      border-bottom-color: var(--fill-color);\n",
              "    }\n",
              "  }\n",
              "</style>\n",
              "\n",
              "  <script>\n",
              "    async function quickchart(key) {\n",
              "      const quickchartButtonEl =\n",
              "        document.querySelector('#' + key + ' button');\n",
              "      quickchartButtonEl.disabled = true;  // To prevent multiple clicks.\n",
              "      quickchartButtonEl.classList.add('colab-df-spinner');\n",
              "      try {\n",
              "        const charts = await google.colab.kernel.invokeFunction(\n",
              "            'suggestCharts', [key], {});\n",
              "      } catch (error) {\n",
              "        console.error('Error during call to suggestCharts:', error);\n",
              "      }\n",
              "      quickchartButtonEl.classList.remove('colab-df-spinner');\n",
              "      quickchartButtonEl.classList.add('colab-df-quickchart-complete');\n",
              "    }\n",
              "    (() => {\n",
              "      let quickchartButtonEl =\n",
              "        document.querySelector('#df-6b303237-cbef-42c8-9726-e137ffddabd6 button');\n",
              "      quickchartButtonEl.style.display =\n",
              "        google.colab.kernel.accessAllowed ? 'block' : 'none';\n",
              "    })();\n",
              "  </script>\n",
              "</div>\n",
              "\n",
              "  <div id=\"id_9d0ffb52-974f-4bca-ab6e-98d71ecf84b7\">\n",
              "    <style>\n",
              "      .colab-df-generate {\n",
              "        background-color: #E8F0FE;\n",
              "        border: none;\n",
              "        border-radius: 50%;\n",
              "        cursor: pointer;\n",
              "        display: none;\n",
              "        fill: #1967D2;\n",
              "        height: 32px;\n",
              "        padding: 0 0 0 0;\n",
              "        width: 32px;\n",
              "      }\n",
              "\n",
              "      .colab-df-generate:hover {\n",
              "        background-color: #E2EBFA;\n",
              "        box-shadow: 0px 1px 2px rgba(60, 64, 67, 0.3), 0px 1px 3px 1px rgba(60, 64, 67, 0.15);\n",
              "        fill: #174EA6;\n",
              "      }\n",
              "\n",
              "      [theme=dark] .colab-df-generate {\n",
              "        background-color: #3B4455;\n",
              "        fill: #D2E3FC;\n",
              "      }\n",
              "\n",
              "      [theme=dark] .colab-df-generate:hover {\n",
              "        background-color: #434B5C;\n",
              "        box-shadow: 0px 1px 3px 1px rgba(0, 0, 0, 0.15);\n",
              "        filter: drop-shadow(0px 1px 2px rgba(0, 0, 0, 0.3));\n",
              "        fill: #FFFFFF;\n",
              "      }\n",
              "    </style>\n",
              "    <button class=\"colab-df-generate\" onclick=\"generateWithVariable('df')\"\n",
              "            title=\"Generate code using this dataframe.\"\n",
              "            style=\"display:none;\">\n",
              "\n",
              "  <svg xmlns=\"http://www.w3.org/2000/svg\" height=\"24px\"viewBox=\"0 0 24 24\"\n",
              "       width=\"24px\">\n",
              "    <path d=\"M7,19H8.4L18.45,9,17,7.55,7,17.6ZM5,21V16.75L18.45,3.32a2,2,0,0,1,2.83,0l1.4,1.43a1.91,1.91,0,0,1,.58,1.4,1.91,1.91,0,0,1-.58,1.4L9.25,21ZM18.45,9,17,7.55Zm-12,3A5.31,5.31,0,0,0,4.9,8.1,5.31,5.31,0,0,0,1,6.5,5.31,5.31,0,0,0,4.9,4.9,5.31,5.31,0,0,0,6.5,1,5.31,5.31,0,0,0,8.1,4.9,5.31,5.31,0,0,0,12,6.5,5.46,5.46,0,0,0,6.5,12Z\"/>\n",
              "  </svg>\n",
              "    </button>\n",
              "    <script>\n",
              "      (() => {\n",
              "      const buttonEl =\n",
              "        document.querySelector('#id_9d0ffb52-974f-4bca-ab6e-98d71ecf84b7 button.colab-df-generate');\n",
              "      buttonEl.style.display =\n",
              "        google.colab.kernel.accessAllowed ? 'block' : 'none';\n",
              "\n",
              "      buttonEl.onclick = () => {\n",
              "        google.colab.notebook.generateWithVariable('df');\n",
              "      }\n",
              "      })();\n",
              "    </script>\n",
              "  </div>\n",
              "\n",
              "    </div>\n",
              "  </div>\n"
            ],
            "application/vnd.google.colaboratory.intrinsic+json": {
              "type": "dataframe",
              "variable_name": "df",
              "summary": "{\n  \"name\": \"df\",\n  \"rows\": 150,\n  \"fields\": [\n    {\n      \"column\": \"Query\",\n      \"properties\": {\n        \"dtype\": \"string\",\n        \"num_unique_values\": 150,\n        \"samples\": [\n          \"What was Blaschek's time when he won the silver medal at the 2006 European Athletics Championships?\",\n          \"Which team won the first game in the 2004 National League Division Series?\",\n          \"In what city did Northwestern play it's conference road opener?\"\n        ],\n        \"semantic_type\": \"\",\n        \"description\": \"\"\n      }\n    },\n    {\n      \"column\": \"Resp_esperada\",\n      \"properties\": {\n        \"dtype\": \"string\",\n        \"num_unique_values\": 96,\n        \"samples\": [\n          \"brother\",\n          \"scotland\",\n          \"618 to 907\"\n        ],\n        \"semantic_type\": \"\",\n        \"description\": \"\"\n      }\n    },\n    {\n      \"column\": \"Resposta_LLM\",\n      \"properties\": {\n        \"dtype\": \"string\",\n        \"num_unique_values\": 76,\n        \"samples\": [\n          \"germany\",\n          \"35\",\n          \"university of colorado\"\n        ],\n        \"semantic_type\": \"\",\n        \"description\": \"\"\n      }\n    },\n    {\n      \"column\": \"F1_score\",\n      \"properties\": {\n        \"dtype\": \"number\",\n        \"std\": 0.4642047366023029,\n        \"min\": 0.0,\n        \"max\": 1.0,\n        \"num_unique_values\": 10,\n        \"samples\": [\n          0.8,\n          0.6666666666666666,\n          0.19999999999999998\n        ],\n        \"semantic_type\": \"\",\n        \"description\": \"\"\n      }\n    },\n    {\n      \"column\": \"EM_score\",\n      \"properties\": {\n        \"dtype\": \"number\",\n        \"std\": 0,\n        \"min\": 0,\n        \"max\": 1,\n        \"num_unique_values\": 2,\n        \"samples\": [\n          1,\n          0\n        ],\n        \"semantic_type\": \"\",\n        \"description\": \"\"\n      }\n    }\n  ]\n}"
            }
          },
          "metadata": {},
          "execution_count": 29
        }
      ]
    },
    {
      "cell_type": "markdown",
      "source": [
        "Exibe o F1 e o EM (exact match) médios:"
      ],
      "metadata": {
        "id": "QVDyd-olzKcR"
      }
    },
    {
      "cell_type": "code",
      "source": [
        "print(f'Total de exemplos: {len(df)}')\n",
        "print(f\"F1 score. Média: {df['F1_score'].mean():.2f}. Std: {df['F1_score'].std():.2f}\")\n",
        "print(f\"EM score. Média: {df['EM_score'].mean():.2f}. Std: {df['EM_score'].std():.2f}\")"
      ],
      "metadata": {
        "colab": {
          "base_uri": "https://localhost:8080/"
        },
        "id": "nRcWNnYZj_wP",
        "outputId": "7ce00f97-1a39-4863-baf8-4f8fd40a0349"
      },
      "execution_count": 36,
      "outputs": [
        {
          "output_type": "stream",
          "name": "stdout",
          "text": [
            "Total de exemplos: 150\n",
            "F1 score. Média: 0.46. Std: 0.46\n",
            "EM score. Média: 0.38. Std: 0.49\n"
          ]
        }
      ]
    },
    {
      "cell_type": "markdown",
      "source": [
        "Agora considera apenas os dados diferentes de None:"
      ],
      "metadata": {
        "id": "oDij208-zS7w"
      }
    },
    {
      "cell_type": "code",
      "source": [
        "df_com_resposta = df[df.Resp_esperada != \"none\"]\n",
        "print(f'Total de exemplos: {len(df_com_resposta)}')\n",
        "print(f\"F1 score. Média: {df_com_resposta['F1_score'].mean():.2f}. Std: {df_com_resposta['F1_score'].std():.2f}\")\n",
        "print(f\"EM score. Média: {df_com_resposta['EM_score'].mean():.2f}. Std: {df_com_resposta['EM_score'].std():.2f}\")"
      ],
      "metadata": {
        "colab": {
          "base_uri": "https://localhost:8080/"
        },
        "id": "xYe1nJDZzWDl",
        "outputId": "c5f26e1b-43ba-4ba2-aeb2-1bec71378529"
      },
      "execution_count": 37,
      "outputs": [
        {
          "output_type": "stream",
          "name": "stdout",
          "text": [
            "Total de exemplos: 104\n",
            "F1 score. Média: 0.33. Std: 0.42\n",
            "EM score. Média: 0.21. Std: 0.41\n"
          ]
        }
      ]
    }
  ]
}