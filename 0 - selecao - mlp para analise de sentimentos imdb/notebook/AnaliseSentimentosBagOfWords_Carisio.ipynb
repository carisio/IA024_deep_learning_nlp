{
  "nbformat": 4,
  "nbformat_minor": 0,
  "metadata": {
    "colab": {
      "provenance": [],
      "gpuType": "T4"
    },
    "kernelspec": {
      "name": "python3",
      "display_name": "Python 3"
    },
    "language_info": {
      "name": "python"
    },
    "accelerator": "GPU"
  },
  "cells": [
    {
      "cell_type": "markdown",
      "source": [
        "# Notebook Processo Seletivo Aluno Especial IA-024 1S2024 FEEC-UNICAMP\n",
        "\n",
        "Candidato: Leandro Carísio Fernandes\n",
        "\n",
        "versão 5 de fevereiro de 2024, 19h"
      ],
      "metadata": {
        "id": "9A4HuVIYGgXg"
      }
    },
    {
      "cell_type": "code",
      "source": [
        "!pip install torchtext\n",
        "!pip install 'portalocker>=2.0.0'"
      ],
      "metadata": {
        "colab": {
          "base_uri": "https://localhost:8080/"
        },
        "id": "HA5BWLDCKmw3",
        "outputId": "287f8ce8-6faa-4f9a-950d-37f3a6010b8d"
      },
      "execution_count": 1,
      "outputs": [
        {
          "output_type": "stream",
          "name": "stdout",
          "text": [
            "Requirement already satisfied: torchtext in /usr/local/lib/python3.10/dist-packages (0.16.0)\n",
            "Requirement already satisfied: tqdm in /usr/local/lib/python3.10/dist-packages (from torchtext) (4.66.1)\n",
            "Requirement already satisfied: requests in /usr/local/lib/python3.10/dist-packages (from torchtext) (2.31.0)\n",
            "Requirement already satisfied: torch==2.1.0 in /usr/local/lib/python3.10/dist-packages (from torchtext) (2.1.0+cu121)\n",
            "Requirement already satisfied: numpy in /usr/local/lib/python3.10/dist-packages (from torchtext) (1.25.2)\n",
            "Requirement already satisfied: torchdata==0.7.0 in /usr/local/lib/python3.10/dist-packages (from torchtext) (0.7.0)\n",
            "Requirement already satisfied: filelock in /usr/local/lib/python3.10/dist-packages (from torch==2.1.0->torchtext) (3.13.1)\n",
            "Requirement already satisfied: typing-extensions in /usr/local/lib/python3.10/dist-packages (from torch==2.1.0->torchtext) (4.9.0)\n",
            "Requirement already satisfied: sympy in /usr/local/lib/python3.10/dist-packages (from torch==2.1.0->torchtext) (1.12)\n",
            "Requirement already satisfied: networkx in /usr/local/lib/python3.10/dist-packages (from torch==2.1.0->torchtext) (3.2.1)\n",
            "Requirement already satisfied: jinja2 in /usr/local/lib/python3.10/dist-packages (from torch==2.1.0->torchtext) (3.1.3)\n",
            "Requirement already satisfied: fsspec in /usr/local/lib/python3.10/dist-packages (from torch==2.1.0->torchtext) (2023.6.0)\n",
            "Requirement already satisfied: triton==2.1.0 in /usr/local/lib/python3.10/dist-packages (from torch==2.1.0->torchtext) (2.1.0)\n",
            "Requirement already satisfied: urllib3>=1.25 in /usr/local/lib/python3.10/dist-packages (from torchdata==0.7.0->torchtext) (2.0.7)\n",
            "Requirement already satisfied: charset-normalizer<4,>=2 in /usr/local/lib/python3.10/dist-packages (from requests->torchtext) (3.3.2)\n",
            "Requirement already satisfied: idna<4,>=2.5 in /usr/local/lib/python3.10/dist-packages (from requests->torchtext) (3.6)\n",
            "Requirement already satisfied: certifi>=2017.4.17 in /usr/local/lib/python3.10/dist-packages (from requests->torchtext) (2024.2.2)\n",
            "Requirement already satisfied: MarkupSafe>=2.0 in /usr/local/lib/python3.10/dist-packages (from jinja2->torch==2.1.0->torchtext) (2.1.5)\n",
            "Requirement already satisfied: mpmath>=0.19 in /usr/local/lib/python3.10/dist-packages (from sympy->torch==2.1.0->torchtext) (1.3.0)\n",
            "Collecting portalocker>=2.0.0\n",
            "  Downloading portalocker-2.8.2-py3-none-any.whl (17 kB)\n",
            "Installing collected packages: portalocker\n",
            "Successfully installed portalocker-2.8.2\n"
          ]
        }
      ]
    },
    {
      "cell_type": "code",
      "source": [
        "import torch\n",
        "from torch.utils.data import Dataset, DataLoader\n",
        "from torchtext.datasets import IMDB\n",
        "from collections import Counter\n",
        "import torch.nn as nn\n",
        "import torch.optim as optim"
      ],
      "metadata": {
        "id": "VorDvF62iyXF"
      },
      "execution_count": 2,
      "outputs": []
    },
    {
      "cell_type": "markdown",
      "source": [
        "## I - Vocabulário e Tokenização"
      ],
      "metadata": {
        "id": "A5ovJE02CwKT"
      }
    },
    {
      "cell_type": "code",
      "source": [
        "## Função gerada com ajuda do ChatGPT\n",
        "import re\n",
        "\n",
        "def tokenizar(frase):\n",
        "    # return frase.split() # Usar esse return para uma tokenização simples (apenas split)\n",
        "    # Converter a frase para minúsculo\n",
        "    frase = frase.lower()\n",
        "    # Remover caracteres especiais e pontuação usando expressões regulares\n",
        "    frase = re.sub(r'[^\\w\\s]', '', frase)\n",
        "    # Dividir a frase em palavras\n",
        "    palavras = frase.split()\n",
        "    return palavras\n",
        "\n",
        "# Exemplo de uso\n",
        "frase = \"Olá! Como você está? Eu estou bem, obrigado.\"\n",
        "palavras = tokenizar(frase)\n",
        "print(palavras)"
      ],
      "metadata": {
        "colab": {
          "base_uri": "https://localhost:8080/"
        },
        "id": "q44O56djTGDz",
        "outputId": "3e5fcda3-c9fc-4536-9ab7-26450b38a9d5"
      },
      "execution_count": 3,
      "outputs": [
        {
          "output_type": "stream",
          "name": "stdout",
          "text": [
            "['olá', 'como', 'você', 'está', 'eu', 'estou', 'bem', 'obrigado']\n"
          ]
        }
      ]
    },
    {
      "cell_type": "code",
      "source": [
        "# O dataset torchtext.datasets.IMDB classifica os sentimentos negativos e positivos como 1 e 2\n",
        "neg = 1\n",
        "pos = 2"
      ],
      "metadata": {
        "id": "H1xUYhIx6lxJ"
      },
      "execution_count": 4,
      "outputs": []
    },
    {
      "cell_type": "code",
      "source": [
        "%%time\n",
        "# limit the vocabulary size to 20000 most frequent tokens\n",
        "vocab_size = 20000\n",
        "\n",
        "imdb_train = list(IMDB(split='train'))\n",
        "# Para testar com uma amostra menor (por exemplo, 200 elementos)\n",
        "#idx_amostras = list(range(200))\n",
        "#idx_amostras = list(range(100)) + list(range(24900, 25000))\n",
        "#vocab_size = 10000\n",
        "# Para testar com toda a base:\n",
        "idx_amostras = list(range(len(imdb_train)))\n",
        "vocab_size = 20000\n",
        "\n",
        "counter = Counter()\n",
        "# counter para calcular o total de amostras positivas e negativas\n",
        "counter_sentiment = Counter()\n",
        "for (label, line) in [imdb_train[i] for i in idx_amostras]:\n",
        "    # Com tokenizador:\n",
        "    counter.update(tokenizar(line))\n",
        "    # counter.update(line.split())\n",
        "    # faz o update do contador de amostras positivas/negativas\n",
        "    counter_sentiment.update([label])\n",
        "# termina de calcular o tamanho médio das amostras\n",
        "avg_words_per_sample = sum(counter.values())/sum(counter_sentiment.values())\n",
        "\n",
        "# create a vocabulary of the 20000 most frequent tokens\n",
        "most_frequent_words = sorted(counter, key=counter.get, reverse=True)[:vocab_size]\n",
        "vocab = {word: i for i, word in enumerate(most_frequent_words, 1)} # words indexed from 1 to 20000"
      ],
      "metadata": {
        "id": "mqzUqy3diz0X",
        "colab": {
          "base_uri": "https://localhost:8080/"
        },
        "outputId": "5af3ef31-73e3-45f9-ed3e-fa84a3ddfc73"
      },
      "execution_count": 5,
      "outputs": [
        {
          "output_type": "stream",
          "name": "stdout",
          "text": [
            "CPU times: user 15.3 s, sys: 621 ms, total: 15.9 s\n",
            "Wall time: 36.9 s\n"
          ]
        }
      ]
    },
    {
      "cell_type": "code",
      "source": [
        "print('Número de amostras positivas: ', counter_sentiment[pos])\n",
        "print('Número de amostras negativas: ', counter_sentiment[neg])\n",
        "print('Total de amostras: ', sum(counter_sentiment.values()))\n",
        "print('Média de palavra por amostra: ', avg_words_per_sample)"
      ],
      "metadata": {
        "colab": {
          "base_uri": "https://localhost:8080/"
        },
        "id": "N7oUN28pTxKf",
        "outputId": "fe37964f-e35c-4312-c245-95d9beb7e8f7"
      },
      "execution_count": 6,
      "outputs": [
        {
          "output_type": "stream",
          "name": "stdout",
          "text": [
            "Número de amostras positivas:  12500\n",
            "Número de amostras negativas:  12500\n",
            "Total de amostras:  25000\n",
            "Média de palavra por amostra:  232.81272\n"
          ]
        }
      ]
    },
    {
      "cell_type": "code",
      "source": [
        "# As cinco palavras mais e menos frequentes são:\n",
        "print('Cinco palavras mais frequentes:', most_frequent_words[0:5])\n",
        "print('Cinco palavras menos frequentes:', most_frequent_words[-5:])"
      ],
      "metadata": {
        "colab": {
          "base_uri": "https://localhost:8080/"
        },
        "id": "ma2fQm-ZCXAg",
        "outputId": "c5c8324e-438d-49d3-abb6-cb5e7af7b01b"
      },
      "execution_count": 7,
      "outputs": [
        {
          "output_type": "stream",
          "name": "stdout",
          "text": [
            "Cinco palavras mais frequentes: ['the', 'and', 'a', 'of', 'to']\n",
            "Cinco palavras menos frequentes: ['dolores', 'showings', 'cacoyannis', 'goring', 'gorris']\n"
          ]
        }
      ]
    },
    {
      "cell_type": "code",
      "source": [
        "def encode_sentence(sentence, vocab):\n",
        "    return [vocab.get(word, 0) for word in tokenizar(sentence)] # 0 for OOV\n",
        "    # Código original\n",
        "    # return [vocab.get(word, 0) for word in sentence.split()] # 0 for OOV\n",
        "\n",
        "encode_sentence(\"I like Pizza\", vocab)"
      ],
      "metadata": {
        "id": "0rZn-m1Mi110",
        "colab": {
          "base_uri": "https://localhost:8080/"
        },
        "outputId": "6b90fb15-1cd8-4883-d6e6-5582f3893a1e"
      },
      "execution_count": 8,
      "outputs": [
        {
          "output_type": "execute_result",
          "data": {
            "text/plain": [
              "[9, 38, 7923]"
            ]
          },
          "metadata": {},
          "execution_count": 8
        }
      ]
    },
    {
      "cell_type": "code",
      "source": [
        "# Codificação de uma palavra que não está no vocabulário:\n",
        "print(encode_sentence(\"alskfjlaksjflasfjlaskfjlas\", vocab))"
      ],
      "metadata": {
        "colab": {
          "base_uri": "https://localhost:8080/"
        },
        "id": "ogGrmPT6EdIZ",
        "outputId": "7bb8630a-53fd-4e47-80f9-6b91ab9fecf6"
      },
      "execution_count": 9,
      "outputs": [
        {
          "output_type": "stream",
          "name": "stdout",
          "text": [
            "[0]\n"
          ]
        }
      ]
    },
    {
      "cell_type": "code",
      "source": [
        "# Número de unknown tokens no conjunto de treinamento:\n",
        "# Calcula as palavras únicas e subtrai do tamanho do vocabulário\n",
        "print('Total de palavras distintas classificadas como UNK', len(counter.keys()) - 20000)\n",
        "\n",
        "# Separando quais os tokens e contando novamente:\n",
        "unk_tokens = sorted(counter, key=counter.get, reverse=True)[vocab_size:]\n",
        "print('Total de palavras distintas classificadas como UNK', len(unk_tokens))\n",
        "\n",
        "# Total de palavras classificadas como UNK na base de treinamento\n",
        "total_unk = sum([counter[unk] for unk in unk_tokens])\n",
        "print('Total de palavras classificadas como UNK', total_unk)"
      ],
      "metadata": {
        "colab": {
          "base_uri": "https://localhost:8080/"
        },
        "id": "P4MEezgGVJwL",
        "outputId": "d744aead-a1da-48d2-9b55-0245a037e6dd"
      },
      "execution_count": 10,
      "outputs": [
        {
          "output_type": "stream",
          "name": "stdout",
          "text": [
            "Total de palavras distintas classificadas como UNK 101045\n",
            "Total de palavras distintas classificadas como UNK 101045\n",
            "Total de palavras classificadas como UNK 214060\n"
          ]
        }
      ]
    },
    {
      "cell_type": "markdown",
      "source": [
        "## II - Dataset"
      ],
      "metadata": {
        "id": "5iV4bF8cDAj1"
      }
    },
    {
      "cell_type": "code",
      "source": [
        "%%time\n",
        "\n",
        "from torch.nn.functional import one_hot\n",
        "# Dataset Class with One-hot Encoding\n",
        "class IMDBDataset(Dataset):\n",
        "    def __init__(self, split, vocab):\n",
        "        self.data = list(IMDB(split=split))\n",
        "        self.vocab = vocab\n",
        "\n",
        "    def __len__(self):\n",
        "        return len(self.data)\n",
        "\n",
        "    def __getitem__(self, idx):\n",
        "        label, line = self.data[idx]\n",
        "        label = 1 if label == 1 else 0\n",
        "\n",
        "        # one-hot encoding\n",
        "        X = torch.zeros(len(self.vocab) + 1)\n",
        "        #for word in encode_sentence(line, self.vocab):\n",
        "        #    X[word] = 1\n",
        "        # Otimizando o one-hot encoding\n",
        "        X[encode_sentence(line, self.vocab)] = 1\n",
        "\n",
        "        return X, torch.tensor(label)\n",
        "\n",
        "\n",
        "# Load Data with One-hot Encoding\n",
        "train_data = IMDBDataset('train', vocab)\n",
        "test_data = IMDBDataset('test', vocab)\n"
      ],
      "metadata": {
        "colab": {
          "base_uri": "https://localhost:8080/"
        },
        "id": "YOdD3GkJ386K",
        "outputId": "1ca936d5-d078-4dad-efe1-6e0558930c18"
      },
      "execution_count": 11,
      "outputs": [
        {
          "output_type": "stream",
          "name": "stdout",
          "text": [
            "CPU times: user 13.3 s, sys: 305 ms, total: 13.6 s\n",
            "Wall time: 13.6 s\n"
          ]
        }
      ]
    },
    {
      "cell_type": "code",
      "source": [
        "# Trecho de código para assegurar que o refactoring está correto\n",
        "sentence = \"Some sentence to check if the refactoring is correct. Let's just use some random words now: the is a blue color\"\n",
        "X = torch.zeros(len(vocab) + 1)\n",
        "for word in encode_sentence(line, vocab):\n",
        "    X[word] = 1\n",
        "Y = torch.zeros(len(vocab) + 1)\n",
        "Y[encode_sentence(line, vocab)] = 1\n",
        "sum(abs(X-Y))"
      ],
      "metadata": {
        "colab": {
          "base_uri": "https://localhost:8080/"
        },
        "id": "TiPDNg_lC8qf",
        "outputId": "479adad1-99c1-453e-a284-f11d40e6dcde"
      },
      "execution_count": 12,
      "outputs": [
        {
          "output_type": "execute_result",
          "data": {
            "text/plain": [
              "tensor(0.)"
            ]
          },
          "metadata": {},
          "execution_count": 12
        }
      ]
    },
    {
      "cell_type": "code",
      "source": [
        "# Se antes o sentimento era calculado como 1 (negativo) e 2 (positivo), agora ele passou a calcular como 1 (negativo) e 0 (positivo)\n",
        "# Assim, vamos ajustar as variavéis pos e neg:\n",
        "neg = 1\n",
        "pos = 0\n",
        "\n",
        "# Faça um código que aplique um laço sobre o dataset train_data e calcule novamente quantas amostras positivas e negativas do dataset.\n",
        "counter_sentiment = Counter()\n",
        "sum_one_hot_tensor = torch.zeros(vocab_size + 1)\n",
        "for one_hot_tensor, label in train_data:\n",
        "  counter_sentiment.update([label.item()])\n",
        "  sum_one_hot_tensor += one_hot_tensor\n",
        "\n",
        "avg_words_per_sample = sum(sum_one_hot_tensor)/sum(counter_sentiment.values())\n",
        "\n",
        "print('Número de amostras positivas: ', counter_sentiment[pos])\n",
        "print('Número de amostras negativas: ', counter_sentiment[neg])\n",
        "print('Total de amostras: ', sum(counter_sentiment.values()))\n",
        "print('Média de palavra por amostra: ', avg_words_per_sample)"
      ],
      "metadata": {
        "colab": {
          "base_uri": "https://localhost:8080/"
        },
        "id": "yI-8rmkBVaIU",
        "outputId": "a1dab799-4541-466d-b395-f628f0aca207"
      },
      "execution_count": 13,
      "outputs": [
        {
          "output_type": "stream",
          "name": "stdout",
          "text": [
            "Número de amostras positivas:  12500\n",
            "Número de amostras negativas:  12500\n",
            "Total de amostras:  25000\n",
            "Média de palavra por amostra:  tensor(133.7259)\n"
          ]
        }
      ]
    },
    {
      "cell_type": "markdown",
      "source": [
        "## III - Data Loader"
      ],
      "metadata": {
        "id": "d7RMPSvMDL5U"
      }
    },
    {
      "cell_type": "code",
      "source": [
        "%%time\n",
        "batch_size = 128\n",
        "# define dataloaders\n",
        "train_loader = DataLoader(train_data, batch_size=batch_size, shuffle=True)\n",
        "test_loader = DataLoader(test_data, batch_size=batch_size, shuffle=False)"
      ],
      "metadata": {
        "id": "Y7tcZv2YDIog",
        "colab": {
          "base_uri": "https://localhost:8080/"
        },
        "outputId": "f3edf60d-432c-4c92-b9d8-b2258cd16749"
      },
      "execution_count": 14,
      "outputs": [
        {
          "output_type": "stream",
          "name": "stdout",
          "text": [
            "CPU times: user 559 µs, sys: 0 ns, total: 559 µs\n",
            "Wall time: 567 µs\n"
          ]
        }
      ]
    },
    {
      "cell_type": "code",
      "source": [
        "# Número de amostras de test_loader\n",
        "print(len(test_data))\n",
        "print(len(test_loader))"
      ],
      "metadata": {
        "colab": {
          "base_uri": "https://localhost:8080/"
        },
        "id": "Q6I5kMDekaz0",
        "outputId": "45817c1d-0fa9-4dd0-ca27-926586013255"
      },
      "execution_count": 15,
      "outputs": [
        {
          "output_type": "stream",
          "name": "stdout",
          "text": [
            "25000\n",
            "196\n"
          ]
        }
      ]
    },
    {
      "cell_type": "markdown",
      "source": [
        "Calculando o total de iterações para percorrer todo o train_loader:"
      ],
      "metadata": {
        "id": "v3RkNvakondM"
      }
    },
    {
      "cell_type": "code",
      "source": [
        "#%%time\n",
        "# Calculando o total de iterações para percorrer todo o train_loader:\n",
        "#total_amostras_batch = 0\n",
        "#for iteracao, batch in enumerate(train_loader, 1):\n",
        "#    total_amostras_batch = len(batch[1])\n",
        "#    pass\n",
        "#\n",
        "#print(iteracao)\n",
        "#print(total_amostras_batch)"
      ],
      "metadata": {
        "id": "81Bk-9FjlW4K"
      },
      "execution_count": 16,
      "outputs": []
    },
    {
      "cell_type": "markdown",
      "source": [
        "Calculando a relação R usando list comprehension:"
      ],
      "metadata": {
        "id": "CEzVLKRjorAW"
      }
    },
    {
      "cell_type": "code",
      "source": [
        "# Calculando a relação R usando list comprehension\n",
        "#R = [sum(batch[1])/len(batch[1]) for batch in train_loader]\n",
        "#print(sum(R)/len(R))"
      ],
      "metadata": {
        "id": "PL18jQF6nrN-"
      },
      "execution_count": 17,
      "outputs": []
    },
    {
      "cell_type": "markdown",
      "source": [
        "Estrutura de um batch:"
      ],
      "metadata": {
        "id": "r_MB0X3Xotk1"
      }
    },
    {
      "cell_type": "code",
      "source": [
        "#batch = next(iter(train_loader))\n",
        "#print(f\"O batch possui {len(batch)} elementos\")\n",
        "#print(f\"O primeiro elemento são os dados de entrada. Possui shape {batch[0].shape}\")\n",
        "#print(f\"Ou seja, são {batch[0].shape[0]} linhas (tamanho do batch) e {batch[0].shape[1]} colunas (tamanho do vocabulário com UNK)\")\n",
        "#print(f\"O tipo de dado do input é {batch[0].dtype}\")\n",
        "#print(f\"O segundo elemento são os labels relacionados. Possui shape {batch[1].shape} (tamanho do batch)\")\n",
        "#print(f\"O tipo de dado do label é {batch[1].dtype}\")"
      ],
      "metadata": {
        "id": "oRbqyufvovIK"
      },
      "execution_count": 18,
      "outputs": []
    },
    {
      "cell_type": "markdown",
      "source": [
        "## IV - Modelo"
      ],
      "metadata": {
        "id": "MwPeJ7h8DahT"
      }
    },
    {
      "cell_type": "code",
      "source": [
        "class OneHotMLP(nn.Module):\n",
        "    def __init__(self, vocab_size, n_logitos = 1):\n",
        "        super(OneHotMLP, self).__init__()\n",
        "\n",
        "        self.fc1 = nn.Linear(vocab_size+1, 200)\n",
        "        self.fc2 = nn.Linear(200, n_logitos)\n",
        "\n",
        "        self.relu = nn.ReLU()\n",
        "\n",
        "    def forward(self, x):\n",
        "        o = self.fc1(x.float())\n",
        "        o = self.relu(o)\n",
        "        return self.fc2(o)\n",
        "\n",
        "# Model instantiation\n",
        "model = OneHotMLP(vocab_size, 2)"
      ],
      "metadata": {
        "id": "6QuDhWvji7lt"
      },
      "execution_count": 19,
      "outputs": []
    },
    {
      "cell_type": "markdown",
      "source": [
        "## V - Laço de Treinamento - Otimização da função de Perda pelo Gradiente descendente"
      ],
      "metadata": {
        "id": "iVAhdFGXDepU"
      }
    },
    {
      "cell_type": "code",
      "source": [
        "# Verifica se há uma GPU disponível e define o dispositivo para GPU se possível, caso contrário, usa a CPU\n",
        "device = torch.device('cuda' if torch.cuda.is_available() else 'cpu')\n",
        "if device.type == 'cuda':\n",
        "    print('GPU:', torch.cuda.get_device_name(torch.cuda.current_device()))\n",
        "else:\n",
        "    print('using CPU')"
      ],
      "metadata": {
        "id": "RaH1Uv3yHih5",
        "colab": {
          "base_uri": "https://localhost:8080/"
        },
        "outputId": "4d6d48c1-af4c-4dd7-9970-d12add7b2bf2"
      },
      "execution_count": 20,
      "outputs": [
        {
          "output_type": "stream",
          "name": "stdout",
          "text": [
            "GPU: Tesla T4\n"
          ]
        }
      ]
    },
    {
      "cell_type": "code",
      "source": [
        "# Loop de teste alterado para medir apeas o tempo de\n",
        "#import time\n",
        "\n",
        "# Training loop\n",
        "#num_epochs = 5\n",
        "#for epoch in range(num_epochs):\n",
        "#    start_time = time.time()  # Start time of the epoch\n",
        "#    for inputs, labels in train_loader:\n",
        "#        teste = 1\n",
        "#\n",
        "#    end_time = time.time()  # End time of the epoch\n",
        "#    epoch_duration = end_time - start_time  # Duration of epoch\n",
        "#\n",
        "#    print(f'Epoch [{epoch+1}/{num_epochs}], \\\n",
        "#            Elapsed Time: {epoch_duration:.2f} sec')"
      ],
      "metadata": {
        "id": "RjALw4yc4yeL"
      },
      "execution_count": 21,
      "outputs": []
    },
    {
      "cell_type": "code",
      "source": [
        "import math\n",
        "\n",
        "# Gerado com ajuda do chatGPT\n",
        "def calcula_loss_e_perplexidade(model, criterion, n_logitos, loader):\n",
        "  with torch.no_grad():  # Garante que nenhum gradiente seja calculado\n",
        "    model.eval()  # Coloca o modelo no modo de avaliação (não treinamento)\n",
        "    total_loss = 0.0\n",
        "    total_samples = 0\n",
        "    for inputs, labels in loader:\n",
        "        inputs = inputs.to(device)\n",
        "        labels = labels.to(device)\n",
        "        # Forward pass\n",
        "        outputs = model(inputs)\n",
        "        # Calcula a perda\n",
        "        if n_logitos == 1:\n",
        "            #Para usar com nn.BCEWithLogitsLoss():\n",
        "            loss = criterion(outputs.squeeze().to(device), labels.float()).to(device)\n",
        "        else:\n",
        "            # Para usar com nn.CrossEntropyLoss():\n",
        "            loss = criterion(nn.functional.softmax(outputs, dim=1), labels)\n",
        "        # Acumula a perda e o número total de amostras\n",
        "        total_loss += loss.item() * inputs.size(0)\n",
        "        total_samples += inputs.size(0)\n",
        "\n",
        "  loss = total_loss / total_samples\n",
        "  ppl = math.exp(loss)\n",
        "  return loss, ppl"
      ],
      "metadata": {
        "id": "D08kciyLO6d8"
      },
      "execution_count": 22,
      "outputs": []
    },
    {
      "cell_type": "code",
      "source": [
        "import time\n",
        "\n",
        "def train_model(model, lr=0.001, num_epochs=5, n_logitos = 1):\n",
        "    model = model.to(device)\n",
        "    # Define loss and optimizer\n",
        "    if n_logitos == 1:\n",
        "        criterion = nn.BCEWithLogitsLoss()\n",
        "    else:\n",
        "        criterion = nn.CrossEntropyLoss()\n",
        "    optimizer = optim.SGD(model.parameters(), lr=lr)\n",
        "\n",
        "    loss_por_epoca = []\n",
        "\n",
        "    loss_ppl_treinamento_por_epoca = []\n",
        "    loss_ppl_teste_por_epoca = []\n",
        "\n",
        "    print(f'Loss e perplexidade antes de iniciar o treinamento: {calcula_loss_e_perplexidade(model, criterion, n_logitos, train_loader)}')\n",
        "    # Training loop\n",
        "    for epoch in range(num_epochs):\n",
        "        start_time = time.time()  # Start time of the epoch\n",
        "        model.train()\n",
        "        for inputs, labels in train_loader:\n",
        "            inputs = inputs.to(device)\n",
        "            labels = labels.to(device)\n",
        "            # Forward pass\n",
        "            outputs = model(inputs)\n",
        "            if n_logitos == 1:\n",
        "                # Para usar com nn.BCEWithLogitsLoss():\n",
        "                loss = criterion(outputs.squeeze(), labels.float())\n",
        "            else:\n",
        "                # Para usar com nn.CrossEntropyLoss():\n",
        "                loss = criterion(nn.functional.softmax(outputs, dim=1), labels)\n",
        "            # Backward and optimize\n",
        "            optimizer.zero_grad()\n",
        "            loss.backward()\n",
        "            optimizer.step()\n",
        "\n",
        "        end_time = time.time()  # End time of the epoch\n",
        "        epoch_duration = end_time - start_time  # Duration of epoch\n",
        "\n",
        "        print(f'Epoch [{epoch+1}/{num_epochs}], \\\n",
        "                Loss: {loss.item():.4f}, \\\n",
        "                Elapsed Time: {epoch_duration:.2f} sec')\n",
        "        loss_por_epoca.append(loss.item())\n",
        "\n",
        "        loss_ppl_treinamento_epoca_i = calcula_loss_e_perplexidade(model, criterion, n_logitos, train_loader)\n",
        "        loss_ppl_treinamento_por_epoca.append(loss_ppl_treinamento_epoca_i)\n",
        "        print(f'Loss e perplexidade treinamento: {loss_ppl_treinamento_epoca_i}')\n",
        "\n",
        "        loss_ppl_teste_epoca_i = calcula_loss_e_perplexidade(model, criterion, n_logitos, test_loader)\n",
        "        loss_ppl_teste_por_epoca.append(loss_ppl_teste_epoca_i)\n",
        "        print(f'Loss e perplexidade teste: {loss_ppl_teste_epoca_i}')\n",
        "\n",
        "    return loss_ppl_treinamento_por_epoca, loss_ppl_teste_por_epoca\n",
        "\n",
        "n_logitos = 1\n",
        "model = OneHotMLP(vocab_size, n_logitos)\n",
        "loss_ppl_treinamento_por_epoca, loss_ppl_teste_por_epoca = train_model(model, lr=0.1, num_epochs=15, n_logitos=n_logitos)"
      ],
      "metadata": {
        "id": "Nh_pe8rni93_",
        "colab": {
          "base_uri": "https://localhost:8080/"
        },
        "outputId": "b8c114be-6d9a-4ae4-abed-74526ac90146"
      },
      "execution_count": 23,
      "outputs": [
        {
          "output_type": "stream",
          "name": "stdout",
          "text": [
            "Loss e perplexidade antes de iniciar o treinamento: (0.6932015802764893, 2.0001088023924707)\n",
            "Epoch [1/15],                 Loss: 0.3590,                 Elapsed Time: 6.52 sec\n",
            "Loss e perplexidade treinamento: (0.37721463454246523, 1.4582172595793867)\n",
            "Loss e perplexidade teste: (0.39817551761627196, 1.4891053711967368)\n",
            "Epoch [2/15],                 Loss: 0.2976,                 Elapsed Time: 5.30 sec\n",
            "Loss e perplexidade treinamento: (0.27799754282951356, 1.3204829525533701)\n",
            "Loss e perplexidade teste: (0.3176313918209076, 1.3738697482546698)\n",
            "Epoch [3/15],                 Loss: 0.3121,                 Elapsed Time: 6.13 sec\n",
            "Loss e perplexidade treinamento: (0.3579982614803314, 1.4304631335894433)\n",
            "Loss e perplexidade teste: (0.4253342184638977, 1.5301017224624898)\n",
            "Epoch [4/15],                 Loss: 0.2671,                 Elapsed Time: 6.38 sec\n",
            "Loss e perplexidade treinamento: (0.376180210814476, 1.456709624946468)\n",
            "Loss e perplexidade teste: (0.4682546864700317, 1.5972041371735854)\n",
            "Epoch [5/15],                 Loss: 0.2422,                 Elapsed Time: 5.34 sec\n",
            "Loss e perplexidade treinamento: (0.21647105420589446, 1.2416871432132537)\n",
            "Loss e perplexidade teste: (0.30728507655620574, 1.359728539555015)\n",
            "Epoch [6/15],                 Loss: 0.4746,                 Elapsed Time: 6.21 sec\n",
            "Loss e perplexidade treinamento: (0.8201805646133423, 2.270909846473103)\n",
            "Loss e perplexidade teste: (0.9541140969133377, 2.5963694320777115)\n",
            "Epoch [7/15],                 Loss: 0.2087,                 Elapsed Time: 5.45 sec\n",
            "Loss e perplexidade treinamento: (0.2821276804161072, 1.3259480067724996)\n",
            "Loss e perplexidade teste: (0.4079328834319115, 1.5037062341813616)\n",
            "Epoch [8/15],                 Loss: 0.2118,                 Elapsed Time: 5.92 sec\n",
            "Loss e perplexidade treinamento: (0.24123923624038696, 1.2728255048751547)\n",
            "Loss e perplexidade teste: (0.37822136019468305, 1.4596860234982203)\n",
            "Epoch [9/15],                 Loss: 0.1978,                 Elapsed Time: 6.20 sec\n",
            "Loss e perplexidade treinamento: (0.1459462430214882, 1.1571339823521913)\n",
            "Loss e perplexidade teste: (0.2829804505443573, 1.3270792178872586)\n",
            "Epoch [10/15],                 Loss: 0.2054,                 Elapsed Time: 5.52 sec\n",
            "Loss e perplexidade treinamento: (0.13892151968479158, 1.1490339199207502)\n",
            "Loss e perplexidade teste: (0.29806197700977327, 1.347245283526226)\n",
            "Epoch [11/15],                 Loss: 0.0778,                 Elapsed Time: 6.11 sec\n",
            "Loss e perplexidade treinamento: (0.12323312561392784, 1.1311480898051922)\n",
            "Loss e perplexidade teste: (0.3009635038661957, 1.351160028520962)\n",
            "Epoch [12/15],                 Loss: 0.0848,                 Elapsed Time: 5.28 sec\n",
            "Loss e perplexidade treinamento: (0.13329005637168884, 1.1425813632759052)\n",
            "Loss e perplexidade teste: (0.3396973991394043, 1.4045225165307251)\n",
            "Epoch [13/15],                 Loss: 0.1763,                 Elapsed Time: 5.44 sec\n",
            "Loss e perplexidade treinamento: (0.15665904727935792, 1.169596768710755)\n",
            "Loss e perplexidade teste: (0.37866412992477416, 1.46033247138808)\n",
            "Epoch [14/15],                 Loss: 0.2450,                 Elapsed Time: 6.22 sec\n",
            "Loss e perplexidade treinamento: (0.23417087272167206, 1.2638604330300598)\n",
            "Loss e perplexidade teste: (0.49067712140083314, 1.6334218704884123)\n",
            "Epoch [15/15],                 Loss: 0.0732,                 Elapsed Time: 5.29 sec\n",
            "Loss e perplexidade treinamento: (0.09275073651432991, 1.0971882122216297)\n",
            "Loss e perplexidade teste: (0.32305172422409056, 1.3813367976319162)\n"
          ]
        }
      ]
    },
    {
      "cell_type": "markdown",
      "source": [
        "Exibe gráficos de perplexidade e loss para mostrar overfitting (tem que fazer o cálculo com muitas épocas para mostrar isso):"
      ],
      "metadata": {
        "id": "0LDpbUw7wLa2"
      }
    },
    {
      "cell_type": "code",
      "source": [
        "import matplotlib.pyplot as plt\n",
        "\n",
        "def plotar_dois_graficos(x, y1, y2, titulo, label1, label2, cor1='blue', cor2='red', xlabel='X', ylabel='Y', grid=True):\n",
        "    # Configurações do primeiro gráfico\n",
        "    plt.figure()\n",
        "    plt.plot(x, y1, color=cor1, label=label1)\n",
        "\n",
        "    # Configurações do segundo gráfico\n",
        "    plt.plot(x, y2, color=cor2, label=label2)\n",
        "\n",
        "    # Adicionando título e legendas\n",
        "    plt.title(titulo)\n",
        "    plt.xlabel(xlabel)\n",
        "    plt.ylabel(ylabel)\n",
        "    plt.legend()\n",
        "\n",
        "    # Adicionando grid se necessário\n",
        "    if grid:\n",
        "        plt.grid(True)\n",
        "\n",
        "    # Exibindo o gráfico\n",
        "    plt.show()\n",
        "\n",
        "epocas = range(1, len(loss_ppl_treinamento_por_epoca)+1)\n",
        "loss_treinamento, ppl_treinamento = zip(*loss_ppl_treinamento_por_epoca)\n",
        "loss_teste, ppl_teste = zip(*loss_ppl_teste_por_epoca)\n",
        "\n",
        "plotar_dois_graficos(epocas, loss_treinamento, loss_teste, titulo='Loss por época', label1='Treinamento', label2='Teste', xlabel='Época', ylabel='Loss')\n",
        "plotar_dois_graficos(epocas, ppl_treinamento, ppl_teste, titulo='Perplexidade por época', label1='Treinamento', label2='Teste', xlabel='Época', ylabel='PPL')\n"
      ],
      "metadata": {
        "colab": {
          "base_uri": "https://localhost:8080/",
          "height": 931
        },
        "id": "AoW8Xg1NwIgC",
        "outputId": "c94766d2-6554-455e-8b35-97df0a5bceb3"
      },
      "execution_count": 24,
      "outputs": [
        {
          "output_type": "display_data",
          "data": {
            "text/plain": [
              "<Figure size 640x480 with 1 Axes>"
            ],
            "image/png": "[encoded data removed]"
          },
          "metadata": {}
        },
        {
          "output_type": "display_data",
          "data": {
            "text/plain": [
              "<Figure size 640x480 with 1 Axes>"
            ],
            "image/png": "[encoded data removed]"
          },
          "metadata": {}
        }
      ]
    },
    {
      "cell_type": "markdown",
      "source": [
        "## VI - Avaliação"
      ],
      "metadata": {
        "id": "Bwvahen5D1oM"
      }
    },
    {
      "cell_type": "code",
      "source": [
        "## evaluation\n",
        "\n",
        "def eval_model(model, n_logitos):\n",
        "  model.eval()\n",
        "\n",
        "  with torch.no_grad():\n",
        "      correct = 0\n",
        "      total = 0\n",
        "      for inputs, labels in test_loader:\n",
        "          inputs = inputs.to(device)\n",
        "          labels = labels.to(device)\n",
        "          outputs = model(inputs)\n",
        "          if n_logitos == 1:\n",
        "              # Para usar com nn.BCEWithLogitsLoss():\n",
        "              # predicted = torch.round(torch.sigmoid(outputs.squeeze()))\n",
        "              # Podemos calcular isso de forma mais simples assim:\n",
        "              predicted = (outputs.squeeze() >= 0).int()\n",
        "          else:\n",
        "              # Para usar com nn.CrossEntropyLoss():\n",
        "              probabilities = nn.functional.softmax(outputs, dim=1)\n",
        "              _, predicted = torch.max(probabilities, 1)\n",
        "\n",
        "          total += labels.size(0)\n",
        "          correct += (predicted == labels).sum().item()\n",
        "\n",
        "      print(f'Test Accuracy: {100 * correct / total}%')\n",
        "\n",
        "      # Alterações para calcular a loss e a perplexidade:\n",
        "      if n_logitos == 1:\n",
        "          criterion = nn.BCEWithLogitsLoss()\n",
        "      else:\n",
        "          criterion = nn.CrossEntropyLoss()\n",
        "      loss, ppl = calcula_loss_e_perplexidade(model, criterion, n_logitos, test_loader)\n",
        "      print(f'Loss: {loss}')\n",
        "      print(f'Perplexidade: {ppl}')\n",
        "      return 100 * correct / total, loss, ppl\n",
        "\n",
        "eval_model(model, n_logitos)"
      ],
      "metadata": {
        "id": "2DtTPUBfjBj-",
        "colab": {
          "base_uri": "https://localhost:8080/"
        },
        "outputId": "748e9f09-5cd2-438d-ab2c-22794788322c"
      },
      "execution_count": 25,
      "outputs": [
        {
          "output_type": "stream",
          "name": "stdout",
          "text": [
            "Test Accuracy: 87.9%\n",
            "Loss: 0.32305172422409056\n",
            "Perplexidade: 1.3813367976319162\n"
          ]
        },
        {
          "output_type": "execute_result",
          "data": {
            "text/plain": [
              "(87.9, 0.32305172422409056, 1.3813367976319162)"
            ]
          },
          "metadata": {},
          "execution_count": 25
        }
      ]
    },
    {
      "cell_type": "markdown",
      "source": [
        "# Avaliando algumas learning rates"
      ],
      "metadata": {
        "id": "g2StaJSTFR-S"
      }
    },
    {
      "cell_type": "code",
      "source": [
        "%%time\n",
        "lrs_para_avaliar = [0.1, 0.01, 0.001, 0.0001]\n",
        "\n",
        "resultado_por_lr = {}\n",
        "num_epoch = 15\n",
        "n_logitos = 1\n",
        "\n",
        "for lr in lrs_para_avaliar:\n",
        "    # Cria um modelo\n",
        "    model = OneHotMLP(vocab_size, n_logitos)\n",
        "    print(f'Treinando modelo com lr={lr}')\n",
        "    loss_ppl_treinamento_por_epoca, _ = train_model(model, lr, num_epoch)\n",
        "    acc = eval_model(model, n_logitos)\n",
        "    resultado_por_lr[lr] = {'loss_ppl_por_epoca': loss_ppl_treinamento_por_epoca, 'acc': acc}"
      ],
      "metadata": {
        "colab": {
          "base_uri": "https://localhost:8080/"
        },
        "id": "QdBSSbCRFXSS",
        "outputId": "8d24a5b1-a5f3-4d14-895f-c1888f7f6e21"
      },
      "execution_count": 40,
      "outputs": [
        {
          "output_type": "stream",
          "name": "stdout",
          "text": [
            "Treinando modelo com lr=0.1\n",
            "Loss e perplexidade antes de iniciar o treinamento: (0.6938112104225159, 2.001328500758414)\n",
            "Epoch [1/15],                 Loss: 0.5831,                 Elapsed Time: 5.74 sec\n",
            "Loss e perplexidade treinamento: (0.3551149643611908, 1.4263446236544788)\n",
            "Loss e perplexidade teste: (0.3737567927074432, 1.453183682606581)\n",
            "Epoch [2/15],                 Loss: 0.2209,                 Elapsed Time: 6.34 sec\n",
            "Loss e perplexidade treinamento: (0.2731620704269409, 1.3141132064553007)\n",
            "Loss e perplexidade teste: (0.31329715197563174, 1.3679279531338444)\n",
            "Epoch [3/15],                 Loss: 0.2279,                 Elapsed Time: 5.43 sec\n",
            "Loss e perplexidade treinamento: (0.2393679766845703, 1.270445945067642)\n",
            "Loss e perplexidade teste: (0.29918426080703736, 1.3487581238381652)\n",
            "Epoch [4/15],                 Loss: 0.1981,                 Elapsed Time: 6.44 sec\n",
            "Loss e perplexidade treinamento: (0.23650830194473266, 1.2668180726301035)\n",
            "Loss e perplexidade teste: (0.31215756980896, 1.3663699747239726)\n",
            "Epoch [5/15],                 Loss: 0.3558,                 Elapsed Time: 5.45 sec\n",
            "Loss e perplexidade treinamento: (0.34286466437339785, 1.4089780640934637)\n",
            "Loss e perplexidade teste: (0.4477339069747925, 1.5647622679261188)\n",
            "Epoch [6/15],                 Loss: 0.4126,                 Elapsed Time: 6.28 sec\n",
            "Loss e perplexidade treinamento: (0.20788543812274932, 1.2310721275360417)\n",
            "Loss e perplexidade teste: (0.31674375724315645, 1.3726507950333404)\n",
            "Epoch [7/15],                 Loss: 0.3187,                 Elapsed Time: 6.26 sec\n",
            "Loss e perplexidade treinamento: (0.30543489623069764, 1.3572151224175544)\n",
            "Loss e perplexidade teste: (0.432026165292263, 1.5403754190068768)\n",
            "Epoch [8/15],                 Loss: 0.1180,                 Elapsed Time: 5.83 sec\n",
            "Loss e perplexidade treinamento: (0.16469777575016023, 1.1790367313679833)\n",
            "Loss e perplexidade teste: (0.3012509694004059, 1.351548496293237)\n",
            "Epoch [9/15],                 Loss: 0.1367,                 Elapsed Time: 5.81 sec\n",
            "Loss e perplexidade treinamento: (0.15248255569934846, 1.1647221441541407)\n",
            "Loss e perplexidade teste: (0.309660305929184, 1.3629620453602165)\n",
            "Epoch [10/15],                 Loss: 0.1234,                 Elapsed Time: 5.72 sec\n",
            "Loss e perplexidade treinamento: (0.1449700112056732, 1.1560049025549393)\n",
            "Loss e perplexidade teste: (0.30509817997455596, 1.356758202953178)\n",
            "Epoch [11/15],                 Loss: 0.1517,                 Elapsed Time: 6.19 sec\n",
            "Loss e perplexidade treinamento: (0.13117347994327544, 1.140165560012851)\n",
            "Loss e perplexidade teste: (0.303963000535965, 1.3552189127886165)\n",
            "Epoch [12/15],                 Loss: 0.1022,                 Elapsed Time: 5.44 sec\n",
            "Loss e perplexidade treinamento: (0.1195118057346344, 1.1269465484205696)\n",
            "Loss e perplexidade teste: (0.3092274617958069, 1.3623722228946724)\n",
            "Epoch [13/15],                 Loss: 0.1361,                 Elapsed Time: 6.23 sec\n",
            "Loss e perplexidade treinamento: (0.10326768879294396, 1.1087881795225807)\n",
            "Loss e perplexidade teste: (0.3071764643764496, 1.3595808644942575)\n",
            "Epoch [14/15],                 Loss: 0.1742,                 Elapsed Time: 5.40 sec\n",
            "Loss e perplexidade treinamento: (0.15858227353334428, 1.1718483323620736)\n",
            "Loss e perplexidade teste: (0.38013011044979095, 1.462474860317725)\n",
            "Epoch [15/15],                 Loss: 0.1259,                 Elapsed Time: 5.61 sec\n",
            "Loss e perplexidade treinamento: (0.08902515173196793, 1.0931081495437671)\n",
            "Loss e perplexidade teste: (0.318558122882843, 1.3751435461683126)\n",
            "Test Accuracy: 88.02%\n",
            "Loss: 0.318558122882843\n",
            "Perplexidade: 1.3751435461683126\n",
            "Treinando modelo com lr=0.01\n",
            "Loss e perplexidade antes de iniciar o treinamento: (0.6932052563095092, 2.0001161548719857)\n",
            "Epoch [1/15],                 Loss: 0.6711,                 Elapsed Time: 5.35 sec\n",
            "Loss e perplexidade treinamento: (0.67466914270401, 1.9633832688162853)\n",
            "Loss e perplexidade teste: (0.6754271460151673, 1.964872084027263)\n",
            "Epoch [2/15],                 Loss: 0.6498,                 Elapsed Time: 7.04 sec\n",
            "Loss e perplexidade treinamento: (0.6383650739097595, 1.8933828064858655)\n",
            "Loss e perplexidade teste: (0.6405425479507446, 1.8975100902925544)\n",
            "Epoch [3/15],                 Loss: 0.6143,                 Elapsed Time: 5.45 sec\n",
            "Loss e perplexidade treinamento: (0.5864100216484069, 1.7975237469928884)\n",
            "Loss e perplexidade teste: (0.5906335146331787, 1.8051316305406224)\n",
            "Epoch [4/15],                 Loss: 0.5553,                 Elapsed Time: 5.88 sec\n",
            "Loss e perplexidade treinamento: (0.5281579796028137, 1.6958057211556294)\n",
            "Loss e perplexidade teste: (0.5348456370544433, 1.707184695855574)\n",
            "Epoch [5/15],                 Loss: 0.4173,                 Elapsed Time: 6.21 sec\n",
            "Loss e perplexidade treinamento: (0.4752678577041626, 1.608444974167833)\n",
            "Loss e perplexidade teste: (0.4843295478630066, 1.6230864421953928)\n",
            "Epoch [6/15],                 Loss: 0.4511,                 Elapsed Time: 5.52 sec\n",
            "Loss e perplexidade treinamento: (0.4336482281589508, 1.5428760323025141)\n",
            "Loss e perplexidade teste: (0.4447613725948334, 1.56011786453244)\n",
            "Epoch [7/15],                 Loss: 0.3678,                 Elapsed Time: 6.26 sec\n",
            "Loss e perplexidade treinamento: (0.4020534784126282, 1.4948912749508667)\n",
            "Loss e perplexidade teste: (0.4153468134975433, 1.5148960359896895)\n",
            "Epoch [8/15],                 Loss: 0.3570,                 Elapsed Time: 5.41 sec\n",
            "Loss e perplexidade treinamento: (0.3769877310848236, 1.4578864225766448)\n",
            "Loss e perplexidade teste: (0.3928717000579834, 1.4812283356280112)\n",
            "Epoch [9/15],                 Loss: 0.5977,                 Elapsed Time: 6.27 sec\n",
            "Loss e perplexidade treinamento: (0.35781360607147217, 1.4301990152208455)\n",
            "Loss e perplexidade teste: (0.37619456954956054, 1.4567305416042358)\n",
            "Epoch [10/15],                 Loss: 0.4707,                 Elapsed Time: 5.92 sec\n",
            "Loss e perplexidade treinamento: (0.34422974407196044, 1.410902744816891)\n",
            "Loss e perplexidade teste: (0.36442824034690857, 1.4396906157733451)\n",
            "Epoch [11/15],                 Loss: 0.2320,                 Elapsed Time: 5.43 sec\n",
            "Loss e perplexidade treinamento: (0.32897847681045533, 1.3895479477618948)\n",
            "Loss e perplexidade teste: (0.35216565629959107, 1.4221440913340646)\n",
            "Epoch [12/15],                 Loss: 0.4704,                 Elapsed Time: 6.25 sec\n",
            "Loss e perplexidade treinamento: (0.3176984564304352, 1.373961889382548)\n",
            "Loss e perplexidade teste: (0.34322323454856873, 1.4094833721935105)\n",
            "Epoch [13/15],                 Loss: 0.3344,                 Elapsed Time: 5.55 sec\n",
            "Loss e perplexidade treinamento: (0.3077046722984314, 1.3602991955748407)\n",
            "Loss e perplexidade teste: (0.3359178024291992, 1.3992240072695104)\n",
            "Epoch [14/15],                 Loss: 0.2274,                 Elapsed Time: 6.30 sec\n",
            "Loss e perplexidade treinamento: (0.2987275522136688, 1.3481422750550531)\n",
            "Loss e perplexidade teste: (0.32927387446403505, 1.38995847759699)\n",
            "Epoch [15/15],                 Loss: 0.4176,                 Elapsed Time: 5.56 sec\n",
            "Loss e perplexidade treinamento: (0.2928829051923752, 1.3402858407301808)\n",
            "Loss e perplexidade teste: (0.32553262022972107, 1.3847680050501017)\n",
            "Test Accuracy: 86.688%\n",
            "Loss: 0.32553262022972107\n",
            "Perplexidade: 1.3847680050501017\n",
            "Treinando modelo com lr=0.001\n",
            "Loss e perplexidade antes de iniciar o treinamento: (0.6939006419563294, 2.001507490639452)\n",
            "Epoch [1/15],                 Loss: 0.6914,                 Elapsed Time: 6.19 sec\n",
            "Loss e perplexidade treinamento: (0.6927281184959412, 1.9991620514604769)\n",
            "Loss e perplexidade teste: (0.6928454400634766, 1.999396610045233)\n",
            "Epoch [2/15],                 Loss: 0.6932,                 Elapsed Time: 5.40 sec\n",
            "Loss e perplexidade treinamento: (0.6915673446464539, 1.9968428227406885)\n",
            "Loss e perplexidade teste: (0.6917308932495118, 1.9971694303022511)\n",
            "Epoch [3/15],                 Loss: 0.6925,                 Elapsed Time: 6.23 sec\n",
            "Loss e perplexidade treinamento: (0.6903800299835205, 1.994473348911543)\n",
            "Loss e perplexidade teste: (0.6905935150146484, 1.9948991845696709)\n",
            "Epoch [4/15],                 Loss: 0.6904,                 Elapsed Time: 5.53 sec\n",
            "Loss e perplexidade treinamento: (0.6891280296516419, 1.991977830137927)\n",
            "Loss e perplexidade teste: (0.689394806842804, 1.9925093152792128)\n",
            "Epoch [5/15],                 Loss: 0.6883,                 Elapsed Time: 6.06 sec\n",
            "Loss e perplexidade treinamento: (0.6877805046272277, 1.9892953978919288)\n",
            "Loss e perplexidade teste: (0.688100964679718, 1.9899329897554605)\n",
            "Epoch [6/15],                 Loss: 0.6869,                 Elapsed Time: 6.31 sec\n",
            "Loss e perplexidade treinamento: (0.6863099226951599, 1.9863721260044784)\n",
            "Loss e perplexidade teste: (0.6866879583358765, 1.987123187418881)\n",
            "Epoch [7/15],                 Loss: 0.6855,                 Elapsed Time: 5.51 sec\n",
            "Loss e perplexidade treinamento: (0.684697228755951, 1.9831712973880338)\n",
            "Loss e perplexidade teste: (0.6851387383651734, 1.9840470798915337)\n",
            "Epoch [8/15],                 Loss: 0.6804,                 Elapsed Time: 6.27 sec\n",
            "Loss e perplexidade treinamento: (0.6829290035820007, 1.979667702460979)\n",
            "Loss e perplexidade teste: (0.6834401193618774, 1.9806798004902224)\n",
            "Epoch [9/15],                 Loss: 0.6865,                 Elapsed Time: 5.43 sec\n",
            "Loss e perplexidade treinamento: (0.6810067719078065, 1.9758659775675387)\n",
            "Loss e perplexidade teste: (0.6815921356010437, 1.977022916355455)\n",
            "Epoch [10/15],                 Loss: 0.6816,                 Elapsed Time: 6.14 sec\n",
            "Loss e perplexidade treinamento: (0.678922122554779, 1.9717512801764856)\n",
            "Loss e perplexidade teste: (0.6795886220932007, 1.9730658895392075)\n",
            "Epoch [11/15],                 Loss: 0.6796,                 Elapsed Time: 5.51 sec\n",
            "Loss e perplexidade treinamento: (0.6766815568923951, 1.9673383874973742)\n",
            "Loss e perplexidade teste: (0.6774316550064087, 1.9688146379085698)\n",
            "Epoch [12/15],                 Loss: 0.6798,                 Elapsed Time: 5.68 sec\n",
            "Loss e perplexidade treinamento: (0.6742830204772949, 1.962625309238572)\n",
            "Loss e perplexidade teste: (0.6751205330467224, 1.9642697211158242)\n",
            "Epoch [13/15],                 Loss: 0.6787,                 Elapsed Time: 6.46 sec\n",
            "Loss e perplexidade treinamento: (0.6717333666801453, 1.9576276680013298)\n",
            "Loss e perplexidade teste: (0.6726648726463318, 1.9594520594374794)\n",
            "Epoch [14/15],                 Loss: 0.6579,                 Elapsed Time: 5.73 sec\n",
            "Loss e perplexidade treinamento: (0.669018307056427, 1.9523198010099432)\n",
            "Loss e perplexidade teste: (0.670049870185852, 1.9543347812444878)\n",
            "Epoch [15/15],                 Loss: 0.6668,                 Elapsed Time: 6.42 sec\n",
            "Loss e perplexidade treinamento: (0.6661376818084717, 1.9467039917034414)\n",
            "Loss e perplexidade teste: (0.6672794701004028, 1.9489279849521357)\n",
            "Test Accuracy: 76.108%\n",
            "Loss: 0.6672794701004028\n",
            "Perplexidade: 1.9489279849521357\n",
            "Treinando modelo com lr=0.0001\n",
            "Loss e perplexidade antes de iniciar o treinamento: (0.6932240817642212, 2.000153808322499)\n",
            "Epoch [1/15],                 Loss: 0.6934,                 Elapsed Time: 6.30 sec\n",
            "Loss e perplexidade treinamento: (0.6931091426277161, 1.9999239255824075)\n",
            "Loss e perplexidade teste: (0.6931480510902405, 2.000001741061348)\n",
            "Epoch [2/15],                 Loss: 0.6950,                 Elapsed Time: 6.36 sec\n",
            "Loss e perplexidade treinamento: (0.69299434009552, 1.9996943424301667)\n",
            "Loss e perplexidade teste: (0.6930381204223632, 1.999781891618517)\n",
            "Epoch [3/15],                 Loss: 0.6928,                 Elapsed Time: 6.14 sec\n",
            "Loss e perplexidade treinamento: (0.692879419555664, 1.9994645496809942)\n",
            "Loss e perplexidade teste: (0.6929281026649475, 1.9995618922016238)\n",
            "Epoch [4/15],                 Loss: 0.6940,                 Elapsed Time: 6.00 sec\n",
            "Loss e perplexidade treinamento: (0.6927648422431946, 1.9992354695304584)\n",
            "Loss e perplexidade teste: (0.6928185049057007, 1.999342756707362)\n",
            "Epoch [5/15],                 Loss: 0.6955,                 Elapsed Time: 5.35 sec\n",
            "Loss e perplexidade treinamento: (0.692650306110382, 1.999006497944207)\n",
            "Loss e perplexidade teste: (0.6927090815162659, 1.999123993815388)\n",
            "Epoch [6/15],                 Loss: 0.6928,                 Elapsed Time: 6.18 sec\n",
            "Loss e perplexidade treinamento: (0.6925357010269165, 1.9987774147649613)\n",
            "Loss e perplexidade teste: (0.6925995530700684, 1.9989050448613777)\n",
            "Epoch [7/15],                 Loss: 0.6967,                 Elapsed Time: 5.37 sec\n",
            "Loss e perplexidade treinamento: (0.6924210853195191, 1.9985483366058663)\n",
            "Loss e perplexidade teste: (0.692490076122284, 1.9986862228163587)\n",
            "Epoch [8/15],                 Loss: 0.6938,                 Elapsed Time: 6.29 sec\n",
            "Loss e perplexidade treinamento: (0.6923058887290955, 1.9983181239118057)\n",
            "Loss e perplexidade teste: (0.6923799607467651, 1.998466148849375)\n",
            "Epoch [9/15],                 Loss: 0.6914,                 Elapsed Time: 6.01 sec\n",
            "Loss e perplexidade treinamento: (0.6921903432846069, 1.9980872406949577)\n",
            "Loss e perplexidade teste: (0.6922695591545105, 1.9982455271831907)\n",
            "Epoch [10/15],                 Loss: 0.6922,                 Elapsed Time: 5.38 sec\n",
            "Loss e perplexidade treinamento: (0.6920747016716003, 1.9978561920231939)\n",
            "Loss e perplexidade teste: (0.6921591334724426, 1.9980248817405983)\n",
            "Epoch [11/15],                 Loss: 0.6922,                 Elapsed Time: 6.34 sec\n",
            "Loss e perplexidade treinamento: (0.6919585060119628, 1.9976240632915376)\n",
            "Loss e perplexidade teste: (0.6920481761169434, 1.9978031984824203)\n",
            "Epoch [12/15],                 Loss: 0.6914,                 Elapsed Time: 5.67 sec\n",
            "Loss e perplexidade treinamento: (0.6918419963645935, 1.9973913343741925)\n",
            "Loss e perplexidade teste: (0.6919369960403442, 1.9975810949167574)\n",
            "Epoch [13/15],                 Loss: 0.6925,                 Elapsed Time: 7.22 sec\n",
            "Loss e perplexidade treinamento: (0.6917252651023865, 1.9971581899704947)\n",
            "Loss e perplexidade teste: (0.6918256318473816, 1.9973586482967687)\n",
            "Epoch [14/15],                 Loss: 0.6924,                 Elapsed Time: 5.55 sec\n",
            "Loss e perplexidade treinamento: (0.6916078962898254, 1.9969237996405675)\n",
            "Loss e perplexidade teste: (0.691713533039093, 1.9971347593216477)\n",
            "Epoch [15/15],                 Loss: 0.6935,                 Elapsed Time: 6.27 sec\n",
            "Loss e perplexidade treinamento: (0.6914902359580993, 1.9966888547459882)\n",
            "Loss e perplexidade teste: (0.6916012260818482, 1.9969104797879322)\n",
            "Test Accuracy: 54.628%\n",
            "Loss: 0.6916012260818482\n",
            "Perplexidade: 1.9969104797879322\n",
            "CPU times: user 18min 12s, sys: 3.56 s, total: 18min 15s\n",
            "Wall time: 18min 21s\n"
          ]
        }
      ]
    },
    {
      "cell_type": "markdown",
      "source": [
        "Mostra a loss em função da LR:"
      ],
      "metadata": {
        "id": "fk8a5sLFQCBl"
      }
    },
    {
      "cell_type": "code",
      "source": [
        "import matplotlib.pyplot as plt\n",
        "\n",
        "plt.figure()\n",
        "\n",
        "# Plota loss\n",
        "for lr in lrs_para_avaliar:\n",
        "    loss_por_epoca, ppl_por_epoca = zip(*resultado_por_lr[lr]['loss_ppl_por_epoca'])\n",
        "    plt.plot(range(1, num_epoch+1), loss_por_epoca, label=f'lr={lr}')\n",
        "plt.ylabel('Loss')\n",
        "plt.xlabel('Época')\n",
        "plt.legend()"
      ],
      "metadata": {
        "colab": {
          "base_uri": "https://localhost:8080/",
          "height": 468
        },
        "id": "McOynl3CIYqi",
        "outputId": "2ec5599b-2441-489e-df1b-c802916a01f2"
      },
      "execution_count": 41,
      "outputs": [
        {
          "output_type": "execute_result",
          "data": {
            "text/plain": [
              "<matplotlib.legend.Legend at 0x7f58b6894190>"
            ]
          },
          "metadata": {},
          "execution_count": 41
        },
        {
          "output_type": "display_data",
          "data": {
            "text/plain": [
              "<Figure size 640x480 with 1 Axes>"
            ],
            "image/png": "[encoded data removed]"
          },
          "metadata": {}
        }
      ]
    },
    {
      "cell_type": "markdown",
      "source": [
        "Mostra a accuracy por LR no final do treinamento:"
      ],
      "metadata": {
        "id": "lyxUZSvYQE0S"
      }
    },
    {
      "cell_type": "code",
      "source": [
        "resultado_por_lr[lr]['acc']"
      ],
      "metadata": {
        "colab": {
          "base_uri": "https://localhost:8080/"
        },
        "id": "MTSXjuBZgzMV",
        "outputId": "b8e294fb-5b00-4671-a711-991de05c1980"
      },
      "execution_count": 43,
      "outputs": [
        {
          "output_type": "execute_result",
          "data": {
            "text/plain": [
              "(54.628, 0.6916012260818482, 1.9969104797879322)"
            ]
          },
          "metadata": {},
          "execution_count": 43
        }
      ]
    },
    {
      "cell_type": "code",
      "source": [
        "import matplotlib.pyplot as plt\n",
        "\n",
        "plt.figure()\n",
        "\n",
        "plt.bar([str(lr) for lr in lrs_para_avaliar], [resultado_por_lr[lr]['acc'][0] for lr in lrs_para_avaliar])\n",
        "plt.xlabel('lr')\n",
        "plt.ylabel('Accuracy (%)')\n",
        "plt.legend()"
      ],
      "metadata": {
        "colab": {
          "base_uri": "https://localhost:8080/",
          "height": 484
        },
        "id": "kY7gRvf9JxsQ",
        "outputId": "09c6d2fc-83a5-4b47-9ec1-d8743cd68780"
      },
      "execution_count": 44,
      "outputs": [
        {
          "output_type": "stream",
          "name": "stderr",
          "text": [
            "WARNING:matplotlib.legend:No artists with labels found to put in legend.  Note that artists whose label start with an underscore are ignored when legend() is called with no argument.\n"
          ]
        },
        {
          "output_type": "execute_result",
          "data": {
            "text/plain": [
              "<matplotlib.legend.Legend at 0x7f58b375afb0>"
            ]
          },
          "metadata": {},
          "execution_count": 44
        },
        {
          "output_type": "display_data",
          "data": {
            "text/plain": [
              "<Figure size 640x480 with 1 Axes>"
            ],
            "image/png": "[encoded data removed]"
          },
          "metadata": {}
        }
      ]
    },
    {
      "cell_type": "markdown",
      "source": [
        "# Exeperimentando o modelo"
      ],
      "metadata": {
        "id": "6b7yWCg4_d3x"
      }
    },
    {
      "cell_type": "code",
      "source": [
        "# Testes para experimentar o modelo\n",
        "# Pega um batch qualquer\n",
        "train_loader = DataLoader(train_data, batch_size=batch_size, shuffle=True)\n",
        "input, target = next(iter(train_loader))\n",
        "device = torch.device('cuda' if torch.cuda.is_available() else 'cpu')\n",
        "model = OneHotMLP(vocab_size)\n",
        "model.to(device)\n",
        "\n",
        "# Calcula os logitos\n",
        "logit = model(input.to(device))\n",
        "## Converte para probabilidade\n",
        "prob = torch.sigmoid(logit)\n",
        "print(f\"A média do cálculo da probabilidade da saída é {sum(prob)/len(prob)}\")\n",
        "\n",
        "target_estimado = torch.round(prob).squeeze()\n",
        "num_acertos = ((target_estimado - target.to(device)) == 0).sum().item()\n",
        "\n",
        "print(f\"Número de acertos: {num_acertos}\")\n",
        "print(f\"Tamanho do batch: {len(target)}\")\n",
        "print(f\"Acerto médio: {num_acertos/len(target)}\")\n",
        "\n",
        "# Após treinar o modelo\n",
        "train_model(model, lr=0.1, num_epochs=5)\n",
        "logit = model(input.to(device))\n",
        "prob = torch.sigmoid(logit)\n",
        "print(f\"A média do cálculo da probabilidade da saída é {sum(prob)/len(prob)}\")\n",
        "\n",
        "target_estimado = torch.round(prob).squeeze()\n",
        "num_acertos = ((target_estimado - target.to(device)) == 0).sum().item()\n",
        "\n",
        "print(f\"Número de acertos: {num_acertos}\")\n",
        "print(f\"Tamanho do batch: {len(target)}\")\n",
        "print(f\"Acerto médio: {num_acertos/len(target)}\")"
      ],
      "metadata": {
        "colab": {
          "base_uri": "https://localhost:8080/"
        },
        "id": "NoaiyZGA_eCM",
        "outputId": "8fcdc198-2483-44d6-f85b-db4435785956"
      },
      "execution_count": 45,
      "outputs": [
        {
          "output_type": "stream",
          "name": "stdout",
          "text": [
            "A média do cálculo da probabilidade da saída é tensor([0.5060], device='cuda:0', grad_fn=<DivBackward0>)\n",
            "Número de acertos: 64\n",
            "Tamanho do batch: 128\n",
            "Acerto médio: 0.5\n",
            "Loss e perplexidade antes de iniciar o treinamento: (0.6930578614616394, 1.999821369781052)\n",
            "Epoch [1/5],                 Loss: 0.3289,                 Elapsed Time: 5.43 sec\n",
            "Loss e perplexidade treinamento: (0.36159351042747495, 1.4356152607045825)\n",
            "Loss e perplexidade teste: (0.37958968179702757, 1.4616847105282873)\n",
            "Epoch [2/5],                 Loss: 0.2660,                 Elapsed Time: 6.14 sec\n",
            "Loss e perplexidade treinamento: (0.28252290011405945, 1.326472151112498)\n",
            "Loss e perplexidade teste: (0.32156712976455687, 1.3792875941698288)\n",
            "Epoch [3/5],                 Loss: 0.2942,                 Elapsed Time: 5.40 sec\n",
            "Loss e perplexidade treinamento: (0.3403057648277283, 1.4053772398040554)\n",
            "Loss e perplexidade teste: (0.4097939327812195, 1.5065073113529972)\n",
            "Epoch [4/5],                 Loss: 0.3579,                 Elapsed Time: 6.22 sec\n",
            "Loss e perplexidade treinamento: (0.3998705434513092, 1.4916315836648661)\n",
            "Loss e perplexidade teste: (0.49327801691055295, 1.6376757596594573)\n",
            "Epoch [5/5],                 Loss: 0.1277,                 Elapsed Time: 5.43 sec\n",
            "Loss e perplexidade treinamento: (0.1952267610692978, 1.215586602956918)\n",
            "Loss e perplexidade teste: (0.2894229731464386, 1.3356565559226974)\n",
            "A média do cálculo da probabilidade da saída é tensor([0.5490], device='cuda:0', grad_fn=<DivBackward0>)\n",
            "Número de acertos: 117\n",
            "Tamanho do batch: 128\n",
            "Acerto médio: 0.9140625\n"
          ]
        }
      ]
    },
    {
      "cell_type": "code",
      "source": [
        "# Número de parâmetros do modelo\n",
        "print(model.fc1.weight.shape, model.fc1.weight.shape[0]*model.fc1.weight.shape[1])\n",
        "print(model.fc1.bias.shape)\n",
        "print(model.fc2.weight.shape, model.fc2.weight.shape[0]*model.fc2.weight.shape[1])\n",
        "print(model.fc2.bias.shape)"
      ],
      "metadata": {
        "colab": {
          "base_uri": "https://localhost:8080/"
        },
        "id": "NfpMcUecB4TX",
        "outputId": "0c7bf898-df4f-414d-dd77-bfcc8cadab34"
      },
      "execution_count": 46,
      "outputs": [
        {
          "output_type": "stream",
          "name": "stdout",
          "text": [
            "torch.Size([200, 20001]) 4000200\n",
            "torch.Size([200])\n",
            "torch.Size([1, 200]) 200\n",
            "torch.Size([1])\n"
          ]
        }
      ]
    },
    {
      "cell_type": "markdown",
      "source": [
        "# Testes com treinamento do modelo"
      ],
      "metadata": {
        "id": "2-LGj_xXE2Zu"
      }
    },
    {
      "cell_type": "markdown",
      "source": [
        "## Testes com 1 logito"
      ],
      "metadata": {
        "id": "R0DYyVUWdqvD"
      }
    },
    {
      "cell_type": "markdown",
      "source": [
        "Verificando o valor teórico da loss (perda de entropia cruzada binária). Usando apenas 1 logito"
      ],
      "metadata": {
        "id": "c1ZHRzA7Gptw"
      }
    },
    {
      "cell_type": "code",
      "source": [
        "# Inicializa um dataloader\n",
        "train_loader = DataLoader(train_data, batch_size=batch_size, shuffle=True)\n",
        "# Pega o primeiro batch\n",
        "inputs, y = next(iter(train_loader))\n",
        "# Inicializa um modelo\n",
        "model = OneHotMLP(vocab_size, 1)\n",
        "model.to(device)\n",
        "\n",
        "# Calcula a saída do model\n",
        "logit = model(inputs.to(device))\n",
        "prob = torch.sigmoid(logit)\n",
        "y_hat = prob.squeeze()\n",
        "\n",
        "# Cálculo da loss:\n",
        "N = len(prob)\n",
        "loss_por_amostra = [y[i]*torch.log(y_hat[i]) + (1-y[i])*torch.log(1-y_hat[i]) for i in range(N)]\n",
        "loss = -1/N * sum(loss_por_amostra)\n",
        "print(loss)"
      ],
      "metadata": {
        "colab": {
          "base_uri": "https://localhost:8080/"
        },
        "id": "eP17n9OeGyPJ",
        "outputId": "ee206c61-110e-43f6-c008-d32af988b7fc"
      },
      "execution_count": 47,
      "outputs": [
        {
          "output_type": "stream",
          "name": "stdout",
          "text": [
            "tensor(0.6942, device='cuda:0', grad_fn=<MulBackward0>)\n"
          ]
        }
      ]
    },
    {
      "cell_type": "markdown",
      "source": [
        "Conferindo o cálculo da loss com nn.BCELoss()"
      ],
      "metadata": {
        "id": "INjLebwMKavd"
      }
    },
    {
      "cell_type": "code",
      "source": [
        "# Cálculo da loss:\n",
        "loss_fn = nn.BCELoss()\n",
        "loss = loss_fn(y_hat, y.to(device).float())\n",
        "print(loss)"
      ],
      "metadata": {
        "colab": {
          "base_uri": "https://localhost:8080/"
        },
        "id": "rWn76_6hHdUV",
        "outputId": "cd418ae1-74b7-4395-fcb3-e87c4296bdc6"
      },
      "execution_count": 48,
      "outputs": [
        {
          "output_type": "stream",
          "name": "stdout",
          "text": [
            "tensor(0.6942, device='cuda:0', grad_fn=<BinaryCrossEntropyBackward0>)\n"
          ]
        }
      ]
    },
    {
      "cell_type": "markdown",
      "source": [
        "Conferindo o cálculo da loss com nn.BCEWithLogitsLoss"
      ],
      "metadata": {
        "id": "yMgCf4bSLXbw"
      }
    },
    {
      "cell_type": "code",
      "source": [
        "# Cálculo da loss:\n",
        "loss_fn = nn.BCEWithLogitsLoss()\n",
        "loss = loss_fn(logit.squeeze(), y.to(device).float())\n",
        "print(loss)"
      ],
      "metadata": {
        "colab": {
          "base_uri": "https://localhost:8080/"
        },
        "id": "jo6IjqamLaGo",
        "outputId": "86b14838-abcd-451e-b00a-4a4263ec0d93"
      },
      "execution_count": 49,
      "outputs": [
        {
          "output_type": "stream",
          "name": "stdout",
          "text": [
            "tensor(0.6942, device='cuda:0',\n",
            "       grad_fn=<BinaryCrossEntropyWithLogitsBackward0>)\n"
          ]
        }
      ]
    },
    {
      "cell_type": "markdown",
      "source": [
        "## Testes com 2 logitos"
      ],
      "metadata": {
        "id": "mS5Bozd-dtq2"
      }
    },
    {
      "cell_type": "markdown",
      "source": [
        "Verificando o valor teórico da loss (perda de entropia cruzada binária). Usando 2 logitos"
      ],
      "metadata": {
        "id": "UEBZEX04V6FN"
      }
    },
    {
      "cell_type": "code",
      "source": [
        "# Inicializa um dataloader\n",
        "train_loader = DataLoader(train_data, batch_size=batch_size, shuffle=True)\n",
        "# Pega o primeiro batch\n",
        "inputs, y = next(iter(train_loader))\n",
        "# Inicializa um modelo\n",
        "model = OneHotMLP(vocab_size, 2)\n",
        "model.to(device)\n",
        "\n",
        "# Calcula a saída do model\n",
        "logit = model(inputs.to(device))\n",
        "prob = nn.functional.softmax(logit, dim=1)\n",
        "yhat = prob\n",
        "\n",
        "# Y é um vetor de 0 ou 1, contém só a classe. Cria um outro vetor derivado dele\n",
        "# de tamanho 2, sendo que, se o elemento correspondente for 0, o novo será [1, 0].\n",
        "# Se o elemento original for 1, o novo será [0, 1]\n",
        "y_2_logitos = torch.zeros((len(y), 2))\n",
        "y_2_logitos[y == 0, 0] = 1  # Defina [1, 0] nos locais onde o y é 0\n",
        "y_2_logitos[y == 1, 1] = 1  # Defina [0, 1] nos locais onde o y é 1\n",
        "\n",
        "# Cálculo da loss:\n",
        "N, M = prob.shape\n",
        "loss = (-1/(M*N)) * (y_2_logitos.to(device) * torch.log(yhat)).sum()\n",
        "print(loss)"
      ],
      "metadata": {
        "colab": {
          "base_uri": "https://localhost:8080/"
        },
        "id": "nIjXyfMmV5lH",
        "outputId": "b36e24c0-dc6f-468f-e356-d85ebf7f2c3e"
      },
      "execution_count": 50,
      "outputs": [
        {
          "output_type": "stream",
          "name": "stdout",
          "text": [
            "tensor(0.3479, device='cuda:0', grad_fn=<MulBackward0>)\n"
          ]
        }
      ]
    },
    {
      "cell_type": "markdown",
      "source": [
        "Conferindo com nn.CrossEntropyLoss"
      ],
      "metadata": {
        "id": "MD7y6u7Tc8k2"
      }
    },
    {
      "cell_type": "code",
      "source": [
        "# Crie uma instância da função de perda CrossEntropyLoss\n",
        "criterion = nn.CrossEntropyLoss()\n",
        "\n",
        "# Calcule a loss\n",
        "loss = criterion(logit.to(device), y.to(device))\n",
        "\n",
        "print(\"Loss:\", loss.item())"
      ],
      "metadata": {
        "colab": {
          "base_uri": "https://localhost:8080/"
        },
        "id": "d3GOZsQTdUV0",
        "outputId": "e2494786-306a-405a-e769-00241cf83a9b"
      },
      "execution_count": 51,
      "outputs": [
        {
          "output_type": "stream",
          "name": "stdout",
          "text": [
            "Loss: 0.6957401633262634\n"
          ]
        }
      ]
    }
  ]
}